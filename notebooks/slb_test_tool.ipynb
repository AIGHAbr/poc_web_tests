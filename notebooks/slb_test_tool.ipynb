{
 "cells": [
  {
   "cell_type": "markdown",
   "metadata": {},
   "source": [
    "# SLB Test Tool"
   ]
  },
  {
   "cell_type": "markdown",
   "metadata": {},
   "source": [
    "## Setup"
   ]
  },
  {
   "cell_type": "markdown",
   "metadata": {},
   "source": [
    "### Install Selenium"
   ]
  },
  {
   "cell_type": "code",
   "execution_count": 4,
   "metadata": {},
   "outputs": [
    {
     "name": "stdout",
     "output_type": "stream",
     "text": [
      "All packages installed\n"
     ]
    }
   ],
   "source": [
    "from IPython.display import clear_output\n",
    "\n",
    "%pip install selenium \n",
    "clear_output(wait=True)\n",
    "\n",
    "%pip install webdriver_manager \n",
    "clear_output(wait=True)\n",
    "\n",
    "%pip install beautifulsoup4\n",
    "clear_output(wait=True)\n",
    "\n",
    "%pip install pandas \n",
    "clear_output(wait=True)\n",
    "\n",
    "%pip install ipywidgets\n",
    "clear_output()\n",
    "\n",
    "print(\"All packages installed\")"
   ]
  },
  {
   "cell_type": "code",
   "execution_count": 5,
   "metadata": {},
   "outputs": [
    {
     "name": "stdout",
     "output_type": "stream",
     "text": [
      "Done!\n"
     ]
    }
   ],
   "source": [
    "from selenium import webdriver\n",
    "from webdriver_manager.chrome import ChromeDriverManager\n",
    "from selenium.webdriver.chrome.service import Service\n",
    "from selenium.webdriver.chrome.options import Options\n",
    "from selenium.webdriver.common.by import By\n",
    "from selenium.common.exceptions import NoSuchElementException\n",
    "\n",
    "from bs4 import BeautifulSoup\n",
    "from collections import defaultdict\n",
    "from xml.sax.saxutils import quoteattr\n",
    "from IPython.display import display\n",
    "from ipywidgets import HTML\n",
    "\n",
    "import ipywidgets as widgets\n",
    "import pandas as pd\n",
    "import time\n",
    "import json\n",
    "\n",
    "prefs = {\"profile.default_content_setting_values.notifications\": 1}\n",
    "chrome_options = Options()\n",
    "#chrome_options.add_argument(\"--headless\")\n",
    "chrome_options.add_experimental_option(\"prefs\", prefs)\n",
    "\n",
    "service = Service(ChromeDriverManager().install())\n",
    "driver = webdriver.Chrome(service=service, options=chrome_options)\n",
    "driver.quit()\n",
    "\n",
    "def new_window(url, wait=0):\n",
    "    driver = webdriver.Chrome(service=service, options=chrome_options)\n",
    "    driver.get(url)\n",
    "    time.sleep(wait)\n",
    "    return driver\n",
    "\n",
    "def highlight_element(driver, selector):\n",
    "    script = f\"\"\"\n",
    "    var element = document.evaluate('{selector}', document, null, XPathResult.FIRST_ORDERED_NODE_TYPE, null).singleNodeValue;\n",
    "    if (element) {{\n",
    "        var originalStyle = element.style.border;\n",
    "        var count = 0;\n",
    "        var interval = setInterval(function() {{\n",
    "            count += 1;\n",
    "            element.style.border = count % 2 ? '3px solid red' : '';\n",
    "            if (count > 9) {{\n",
    "                clearInterval(interval);\n",
    "                element.style.border = originalStyle;\n",
    "            }}\n",
    "        }}, 500);\n",
    "    }}\n",
    "    \"\"\"\n",
    "    try:\n",
    "        driver.execute_script(script)\n",
    "    except Exception as e:\n",
    "        print(\"Error while highlighting the element:\", e)\n",
    "\n",
    "\n",
    "clear_output()\n",
    "print(\"Done!\")"
   ]
  },
  {
   "cell_type": "markdown",
   "metadata": {},
   "source": [
    "## Source Code"
   ]
  },
  {
   "cell_type": "markdown",
   "metadata": {},
   "source": [
    "### Generate Objects Keys"
   ]
  },
  {
   "cell_type": "code",
   "execution_count": 6,
   "metadata": {},
   "outputs": [
    {
     "name": "stdout",
     "output_type": "stream",
     "text": [
      "Done!\n"
     ]
    }
   ],
   "source": [
    "def generate_key(tag, element, counter):\n",
    "    base = {\"input\": \"txt\", \"button\": \"btn\", \"a\": \"lnk\", \"img\": \"img\"}\n",
    "    prefix = base.get(tag, \"elem\")\n",
    "\n",
    "    parts = [prefix]\n",
    "    \n",
    "    txt = element.get_text(strip=True)\n",
    "    if txt:\n",
    "        parts.append(txt.replace(\" \", \"_\"))\n",
    "        return key_builder(parts, counter)\n",
    "    \n",
    "    if element.get('name'):\n",
    "        parts.append(element['name'])\n",
    "        return key_builder(parts, counter)\n",
    "    \n",
    "    if element.get('aria-label'):\n",
    "        parts.append(element['aria-label'].replace(\" \", \"_\"))\n",
    "        return key_builder(parts, counter)\n",
    "\n",
    "    if element.get('id'):\n",
    "        parts.append(element['id'])\n",
    "        return key_builder(parts, counter)\n",
    "    \n",
    "    if element.get('data-test-id'):\n",
    "        parts.append(element['data-test-id'])\n",
    "        return key_builder(parts, counter)\n",
    "    \n",
    "    return key_builder(parts, counter)\n",
    "\n",
    "\n",
    "def key_builder(parts, counter):\n",
    "    key = '_'.join(filter(None, parts)).lower().replace(\"-\", \"_\")\n",
    "    counter[key] += 1\n",
    "    return key if counter[key] == 1 else f\"{key}_{counter[key]}\"\n",
    "\n",
    "print(\"Done!\")"
   ]
  },
  {
   "cell_type": "markdown",
   "metadata": {},
   "source": [
    "### Generate Objects Selectors"
   ]
  },
  {
   "cell_type": "code",
   "execution_count": 7,
   "metadata": {},
   "outputs": [
    {
     "name": "stdout",
     "output_type": "stream",
     "text": [
      "Done!\n"
     ]
    }
   ],
   "source": [
    "def generate_selector(element, driver):\n",
    "    selectors = []\n",
    "\n",
    "    for attr in ['id', 'name', 'placeholder', 'aria-label', 'data-test-id', 'alt']:\n",
    "        if element.get(attr):\n",
    "            value = quoteattr(element[attr])\n",
    "            selectors.append(f\"@{attr}={value}\")\n",
    "\n",
    "\n",
    "    if selectors:\n",
    "        xpath_selector = f\"//{element.name}[{' and '.join(selectors)}]\"\n",
    "        elements_found = driver.find_elements(\"xpath\", xpath_selector)\n",
    "        if len(elements_found) == 1:\n",
    "            return xpath_selector\n",
    "\n",
    "\n",
    "    txt = element.get_text(strip=True)\n",
    "    if txt:\n",
    "        xpath_selector = f\"//{element.name}[contains(text(), {quoteattr(txt)})]\"\n",
    "        elements_found = driver.find_elements(\"xpath\", xpath_selector)\n",
    "        if len(elements_found) == 1:\n",
    "            return xpath_selector\n",
    "\n",
    "\n",
    "    if element.get('class'):\n",
    "        classes = '.'.join(element.get('class'))\n",
    "        xpath_selector = f\"//{element.name}[contains(@class, {quoteattr(classes)})]\"\n",
    "        elements_found = driver.find_elements(\"xpath\", xpath_selector)\n",
    "        if len(elements_found) == 1:\n",
    "            return xpath_selector\n",
    "\n",
    "    return None\n",
    "\n",
    "print(\"Done!\")"
   ]
  },
  {
   "cell_type": "markdown",
   "metadata": {},
   "source": [
    "### Generate Objects Selectors"
   ]
  },
  {
   "cell_type": "code",
   "execution_count": 8,
   "metadata": {},
   "outputs": [],
   "source": [
    "\n",
    "def read_page_objects_metadata(driver):\n",
    "\n",
    "    html = driver.page_source.encode(\"utf-8\")\n",
    "    soup = BeautifulSoup(html, 'html.parser')\n",
    "    elements = soup.find_all(['input', 'button', 'a', 'img'])\n",
    "\n",
    "    counter = defaultdict(int)\n",
    "    result = defaultdict(list)\n",
    "\n",
    "    for element in elements:\n",
    "        tag = element.name\n",
    "        selector = generate_selector(element, driver)\n",
    "        key = generate_key(tag, element, counter)\n",
    "\n",
    "        result[tag].append({\n",
    "            \"key\": key,\n",
    "            \"selector\": selector,\n",
    "            \"attributes\": {attr: element.get(attr) for attr in element.attrs},\n",
    "            \"text\": element.get_text(strip=True),\n",
    "            \"visibility\": \"visible\" if element.get('type') != 'hidden' else \"invisible\"\n",
    "        })\n",
    "    return result"
   ]
  },
  {
   "cell_type": "markdown",
   "metadata": {},
   "source": [
    "## GUI"
   ]
  },
  {
   "cell_type": "markdown",
   "metadata": {},
   "source": [
    "### Toolbar"
   ]
  },
  {
   "cell_type": "code",
   "execution_count": 9,
   "metadata": {},
   "outputs": [
    {
     "data": {
      "application/vnd.jupyter.widget-view+json": {
       "model_id": "712335ae8d46490bae375e14e6deca72",
       "version_major": 2,
       "version_minor": 0
      },
      "text/plain": [
       "HBox(children=(Button(description='New Window', style=ButtonStyle()), Button(description='Inspect', style=Butt…"
      ]
     },
     "metadata": {},
     "output_type": "display_data"
    },
    {
     "data": {
      "text/plain": [
       "None"
      ]
     },
     "metadata": {},
     "output_type": "display_data"
    }
   ],
   "source": [
    "global toolbar\n",
    "def new_toolbar():\n",
    "    \n",
    "    global new_window_button, metadata_button, filter_text, export_button\n",
    "\n",
    "    new_window_button = widgets.Button(description=\"New Window\") \n",
    "    metadata_button = widgets.Button(description=\"Inspect\") \n",
    "    filter_text = widgets.Text(placeholder='Type to filter...') \n",
    "    export_button = widgets.Button(description=\"Export Selected\")\n",
    "    display(widgets.HBox([new_window_button, metadata_button, filter_text, export_button]))\n",
    "\n",
    "toolbar = new_toolbar()\n",
    "display(toolbar)\n"
   ]
  },
  {
   "cell_type": "markdown",
   "metadata": {},
   "source": [
    "### Table Header"
   ]
  },
  {
   "cell_type": "code",
   "execution_count": 33,
   "metadata": {},
   "outputs": [
    {
     "data": {
      "application/vnd.jupyter.widget-view+json": {
       "model_id": "f2db2e156b814456be1187d95cca620d",
       "version_major": 2,
       "version_minor": 0
      },
      "text/plain": [
       "GridspecLayout(children=(HTML(value='<b>Export</b>', layout=Layout(grid_area='widget001', width='30px')), HTML…"
      ]
     },
     "metadata": {},
     "output_type": "display_data"
    }
   ],
   "source": [
    "global table\n",
    "def new_table(df=None):\n",
    "\n",
    "    columns = [\n",
    "        (\"Export\", 30), \n",
    "        (\"Web\", 30), \n",
    "        (\"Data\", 30),\n",
    "        (\"Alias\", 150), \n",
    "        (\"Text\", 200), \n",
    "        (\"Type\", 0), \n",
    "        (\"Att\", 0)\n",
    "    ]\n",
    "\n",
    "    if df is None: \n",
    "        df = pd.DataFrame(columns=[col_name for col_name, _ in columns])\n",
    "\n",
    "    lines = len(df)+1\n",
    "    grid = widgets.GridspecLayout(lines+1, len(columns)+1)\n",
    "\n",
    "    for i in range(lines):\n",
    "        for j, (col_name, col_width) in enumerate(columns):\n",
    "\n",
    "            if col_width <= 0: continue\n",
    "\n",
    "            if i == 0:\n",
    "                grid[i, j] = widgets.HTML(value=f\"<b>{col_name}</b>\", layout=widgets.Layout(width=f'{col_width}px'))\n",
    "                continue\n",
    "\n",
    "            if col_name == \"Text\":\n",
    "                grid[i, j] = widgets.Label(value=str(cell_value), layout=widgets.Layout(width='auto'))    \n",
    "                continue\n",
    "\n",
    "            if col_name == \"Export\":\n",
    "                grid[i, j] = widgets.Button(description=\"N\", layout=widgets.Layout(width='50px', height='30px'))\n",
    "                continue\n",
    "\n",
    "            if col_name == \"Data\":\n",
    "                grid[i, j] = widgets.Button(icon='table', layout=widgets.Layout(width='50px', height='30px'))\n",
    "                continue\n",
    "\n",
    "            cell_value = getattr(df.iloc[i-1], col_name, '')\n",
    "            if col_name == \"Web\":\n",
    "                grid[i, j] = widgets.Button(tooltip=f\"{cell_value}\", icon='eye', layout=widgets.Layout(width='50px', height='30px'))\n",
    "                continue\n",
    "\n",
    "            grid[i, j] = widgets.Label(value=str(cell_value), layout=widgets.Layout(width='auto'))\n",
    "\n",
    "    return grid\n",
    "\n",
    "\n",
    "sample = pd.DataFrame({\n",
    "    \"Export\": [True, False],\n",
    "    \"Alias\": [\"btn_cancel\", \"btn_ok\"],\n",
    "    \"Web\": [\"Selector01\", \"Selector02\"],\n",
    "    \"Text\": [\"Cancel\", \"Ok\"],\n",
    "    \"Type\": [\"button\", \"button\"],\n",
    "    \"Att\": [\"\", \"\"],\n",
    "    \"Data\": [\"\", \"\"]\n",
    "})\n",
    "\n",
    "\n",
    "table = new_table(sample)\n",
    "display(table)\n"
   ]
  },
  {
   "cell_type": "code",
   "execution_count": 11,
   "metadata": {},
   "outputs": [],
   "source": [
    "global df, test_window\n",
    "test_window = None\n",
    "\n",
    "def start_playground():\n",
    "\n",
    "    global test_window, df\n",
    "    df = pd.DataFrame(columns=[\"Export\", \"Alias\", \"Web\", \"Type\", \"Text\", \"Att\", \"Data\"])\n",
    "    df_original = pd.DataFrame()\n",
    "\n",
    "\n",
    "    def on_new_window_clicked(b=None):\n",
    "        global test_window\n",
    "        try: \n",
    "            test_window.quit()\n",
    "        except: \n",
    "            pass  # ignore exceptions\n",
    "        test_window = new_window(\"https://life.stg.wellzesta.com/login\")\n",
    "\n",
    "\n",
    "    def on_metadata_clicked(b):\n",
    "        clear_output(wait=True)\n",
    "        global test_window, df\n",
    "        if test_window is None:\n",
    "            on_new_window_clicked()\n",
    "\n",
    "        metadata = read_page_objects_metadata(test_window)\n",
    "        rows = []\n",
    "        for tag_name, elements in metadata.items():\n",
    "            for element in elements:\n",
    "\n",
    "                att = element.pop('attributes', {})\n",
    "                clazz =  att.pop('class', [])\n",
    "\n",
    "                for k, v in att.items():\n",
    "                    element[k] = v\n",
    "\n",
    "                element['class'] = clazz\n",
    "                rows.append({\n",
    "                    \"Export\": False,\n",
    "                    \"Alias\": element.get('key', ''),\n",
    "                    \"Web\": element.get('selector', ''),\n",
    "                    \"Type\": tag_name,\n",
    "                    \"Text\": element.get('text', ''),\n",
    "                    \"Data\": element,\n",
    "                })\n",
    "\n",
    "        df = pd.DataFrame(rows)\n",
    "        update_table()\n",
    "        print(f\"Loaded from {test_window.current_url}\")\n",
    "\n",
    "\n",
    "    def on_export_button_clicked(b):\n",
    "        print(\"Exporting...\")\n",
    "\n",
    "\n",
    "\n",
    "    def adjust_column_widths(df, base_width=8, padding=10):\n",
    "        widths = {}\n",
    "        for col in df.columns:\n",
    "            if col == \"Export\" or col == \"Web\": \n",
    "                widths[col] = 50\n",
    "                continue\n",
    "            \n",
    "            max_len = df[col].astype(str).map(len).max()  # Comprimento máximo do conteúdo na coluna\n",
    "            widths[col] = min(max_len * base_width + padding, 400)  # Calcular a largura com um máximo para evitar colunas muito largas\n",
    "        return widths\n",
    "    \n",
    "\n",
    "    def on_export_toggle(b, index):\n",
    "        global df\n",
    "        df.at[index, 'Export'] = not df.at[index, 'Export']\n",
    "        update_table()\n",
    "\n",
    "\n",
    "    def print_data(element):\n",
    "        clear_output(wait=True) \n",
    "        update_table() \n",
    "        display(element)\n",
    "\n",
    "\n",
    "    def create_properties_widget():\n",
    "        properties_widget = widgets.Output()\n",
    "        with properties_widget:\n",
    "            clear_output(wait=True)\n",
    "        return properties_widget\n",
    "\n",
    "\n",
    "    global properties_widget\n",
    "    properties_widget = create_properties_widget()\n",
    "\n",
    "\n",
    "    def print_data(data):\n",
    "        clear_output(wait=True)\n",
    "        update_table()\n",
    "        display(data)\n",
    "\n",
    "\n",
    "    def update_table():\n",
    "        global df, test_window, properties_widget\n",
    "        nonlocal export_button\n",
    "\n",
    "        if df.empty:\n",
    "            clear_output(wait=True)\n",
    "            display(widgets.HBox([new_window_button, metadata_button]))\n",
    "            return\n",
    "\n",
    "        df.sort_values(by=['Export', 'Type', 'Alias'], ascending=[False, True, True], inplace=True)\n",
    "        #df = df.drop(columns=[\"Attributes\", \"Text\"], errors='ignore')\n",
    "\n",
    "        clear_output(wait=True)\n",
    "        display(widgets.HBox([new_window_button, metadata_button, filter_text, export_button]))\n",
    "\n",
    "        # Calcular a largura das outras colunas\n",
    "        col_widths = adjust_column_widths(df)\n",
    "        grid = widgets.GridspecLayout(len(df)+1, len(df.columns))\n",
    "\n",
    "        # Cabeçalhos\n",
    "        for i, col in enumerate(df.columns):\n",
    "            if col == \"Type\": continue \n",
    "            grid[0, i] = HTML(value=f\"<b>{col}</b>\", layout=widgets.Layout(width=f'{col_widths[col]}px'))\n",
    "\n",
    "        # Dados, botões de exportação e botões com seletores\n",
    "        for i, (index, row) in enumerate(df.iterrows(), start=1):\n",
    "\n",
    "            for j, col in enumerate(df.columns):\n",
    "                if col == \"Type\": continue\n",
    "\n",
    "                bt_layout=widgets.Layout(width='50px', height='30px')\n",
    "                if col == \"Export\":\n",
    "                    export_button_text = 'Y' if row[col] else 'N'\n",
    "                    export_button = widgets.Button(\n",
    "                        description=export_button_text, \n",
    "                        layout=bt_layout\n",
    "                    )\n",
    "                    export_button.on_click(lambda b, index=index: on_export_toggle(b, index))\n",
    "                    grid[i, j] = export_button\n",
    "                    continue\n",
    "\n",
    "                if col == \"Web\":\n",
    "                    button_icon = 'eye' \n",
    "                    selector_text = row[col] if row[col] else 'No Selector'\n",
    "                    disabled = False if row[col] else True\n",
    "                    highlight_button = widgets.Button(\n",
    "                        disabled=disabled,\n",
    "                        description='', \n",
    "                        tooltip=selector_text, \n",
    "                        icon=button_icon, \n",
    "                        layout=bt_layout\n",
    "                    )\n",
    "                    highlight_button.on_click(lambda b, selector=row['Web']: highlight_element(test_window, selector))\n",
    "                    grid[i, j] = highlight_button\n",
    "                    continue\n",
    "\n",
    "                if col == \"Data\":\n",
    "                    button_icon = 'table' \n",
    "                    selector_text = row[col]\n",
    "\n",
    "                    data_button = widgets.Button(\n",
    "                        icon=button_icon, \n",
    "                        layout=bt_layout\n",
    "                    )\n",
    "\n",
    "                    data_button.on_click(lambda b, row=row: print_data(row[col]))\n",
    "                    grid[i, j] = data_button\n",
    "                    continue\n",
    "\n",
    "                grid[i, j] = widgets.Label(value=str(row[col]), layout=widgets.Layout(width=f'{col_widths[col]}px'))\n",
    "\n",
    "        display(grid)\n",
    "\n",
    "\n",
    "    # Widgets\n",
    "    new_window_button = widgets.Button(description=\"New Window\")\n",
    "    metadata_button = widgets.Button(description=\"Inspect\")\n",
    "    filter_text = widgets.Text(placeholder='Type to filter...')\n",
    "    export_button = widgets.Button(description=\"Export Selected\")\n",
    "    \n",
    "\n",
    "    # Eventos\n",
    "    new_window_button.on_click(on_new_window_clicked)\n",
    "    metadata_button.on_click(on_metadata_clicked)\n",
    "    export_button.on_click(on_export_button_clicked)\n",
    "\n",
    "\n",
    "    # Inicializa a interface sem dados\n",
    "    update_table()\n",
    "    \n",
    "\n",
    "\n",
    "\n"
   ]
  },
  {
   "cell_type": "markdown",
   "metadata": {},
   "source": [
    "## Playground"
   ]
  },
  {
   "cell_type": "code",
   "execution_count": 12,
   "metadata": {},
   "outputs": [
    {
     "data": {
      "application/vnd.jupyter.widget-view+json": {
       "model_id": "ad3627473b234227b2d9d7c386c950db",
       "version_major": 2,
       "version_minor": 0
      },
      "text/plain": [
       "HBox(children=(Button(description='New Window', style=ButtonStyle()), Button(description='Inspect', style=Butt…"
      ]
     },
     "metadata": {},
     "output_type": "display_data"
    }
   ],
   "source": [
    "README = \"\"\"\n",
    "When a DEV loves a QA\n",
    "Can't keep his mind on any code\n",
    "He'd debug all the errors\n",
    "For the quality she's known\n",
    "\n",
    "Yes, she's tough, oh so demanding\n",
    "But he's the champ, codes so well\n",
    "Even writes a testing framework\n",
    "Just to make her world excel\n",
    "\n",
    "Turns his back on his shortcuts\n",
    "If they don't pass her test\n",
    "When a DEV loves a QA\n",
    "He's precise in every line\n",
    "Crafting codes she envisioned\n",
    "\n",
    "He'd give up all his shortcuts\n",
    "And embrace the cleaner code\n",
    "If she said that's the way\n",
    "It ought to be\n",
    "\n",
    "Though she's strict, he's so adept\n",
    "Together they're a code-quality duet\n",
    "\"\"\"\n",
    "\n",
    "start_playground()"
   ]
  }
 ],
 "metadata": {
  "kernelspec": {
   "display_name": "Python 3",
   "language": "python",
   "name": "python3"
  },
  "language_info": {
   "codemirror_mode": {
    "name": "ipython",
    "version": 3
   },
   "file_extension": ".py",
   "mimetype": "text/x-python",
   "name": "python",
   "nbconvert_exporter": "python",
   "pygments_lexer": "ipython3",
   "version": "3.10.13"
  }
 },
 "nbformat": 4,
 "nbformat_minor": 2
}
