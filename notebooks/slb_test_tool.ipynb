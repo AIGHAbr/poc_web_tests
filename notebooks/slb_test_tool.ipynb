{
 "cells": [
  {
   "cell_type": "markdown",
   "metadata": {},
   "source": [
    "# SLB Test Tool"
   ]
  },
  {
   "cell_type": "markdown",
   "metadata": {},
   "source": [
    "## Setup"
   ]
  },
  {
   "cell_type": "markdown",
   "metadata": {},
   "source": [
    "### Install Selenium"
   ]
  },
  {
   "cell_type": "code",
   "execution_count": 6,
   "metadata": {},
   "outputs": [
    {
     "name": "stdout",
     "output_type": "stream",
     "text": [
      "All packages installed\n"
     ]
    }
   ],
   "source": [
    "from IPython.display import clear_output\n",
    "\n",
    "%pip install selenium \n",
    "clear_output(wait=True)\n",
    "\n",
    "%pip install webdriver_manager \n",
    "clear_output(wait=True)\n",
    "\n",
    "%pip install beautifulsoup4\n",
    "clear_output(wait=True)\n",
    "\n",
    "%pip install pandas \n",
    "clear_output(wait=True)\n",
    "\n",
    "%pip install ipywidgets\n",
    "clear_output()\n",
    "\n",
    "print(\"All packages installed\")"
   ]
  },
  {
   "cell_type": "code",
   "execution_count": 7,
   "metadata": {},
   "outputs": [
    {
     "name": "stdout",
     "output_type": "stream",
     "text": [
      "Done!\n"
     ]
    }
   ],
   "source": [
    "from selenium import webdriver\n",
    "from webdriver_manager.chrome import ChromeDriverManager\n",
    "from selenium.webdriver.chrome.service import Service\n",
    "from selenium.webdriver.chrome.options import Options\n",
    "from selenium.webdriver.common.by import By\n",
    "from selenium.common.exceptions import NoSuchElementException\n",
    "\n",
    "from bs4 import BeautifulSoup\n",
    "from collections import defaultdict\n",
    "from xml.sax.saxutils import quoteattr\n",
    "\n",
    "import ipywidgets as widgets\n",
    "from ipywidgets import HTML\n",
    "\n",
    "import pandas as pd\n",
    "from IPython.display import display\n",
    "import time\n",
    "\n",
    "\n",
    "prefs = {\"profile.default_content_setting_values.notifications\": 1}\n",
    "chrome_options = Options()\n",
    "#chrome_options.add_argument(\"--headless\")\n",
    "chrome_options.add_experimental_option(\"prefs\", prefs)\n",
    "\n",
    "service = Service(ChromeDriverManager().install())\n",
    "driver = webdriver.Chrome(service=service, options=chrome_options)\n",
    "driver.quit()\n",
    "\n",
    "clear_output()\n",
    "print(\"Done!\")"
   ]
  },
  {
   "cell_type": "markdown",
   "metadata": {},
   "source": [
    "## Source Code"
   ]
  },
  {
   "cell_type": "markdown",
   "metadata": {},
   "source": [
    "### Generate Objects Keys"
   ]
  },
  {
   "cell_type": "code",
   "execution_count": 39,
   "metadata": {},
   "outputs": [
    {
     "name": "stdout",
     "output_type": "stream",
     "text": [
      "Done!\n"
     ]
    }
   ],
   "source": [
    "def generate_key(tag, element, counter):\n",
    "    base = {\"input\": \"txt\", \"button\": \"btn\", \"a\": \"lnk\", \"img\": \"img\"}\n",
    "    prefix = base.get(tag, \"elem\")\n",
    "\n",
    "    parts = [prefix]\n",
    "    \n",
    "    txt = element.get_text(strip=True)\n",
    "    if txt:\n",
    "        parts.append(txt.replace(\" \", \"_\"))\n",
    "        return key_builder(parts, counter)\n",
    "    \n",
    "    if element.get('name'):\n",
    "        parts.append(element['name'])\n",
    "        return key_builder(parts, counter)\n",
    "    \n",
    "    if element.get('aria-label'):\n",
    "        parts.append(element['aria-label'].replace(\" \", \"_\"))\n",
    "        return key_builder(parts, counter)\n",
    "\n",
    "    if element.get('id'):\n",
    "        parts.append(element['id'])\n",
    "        return key_builder(parts, counter)\n",
    "    \n",
    "    if element.get('data-test-id'):\n",
    "        parts.append(element['data-test-id'])\n",
    "        return key_builder(parts, counter)\n",
    "    \n",
    "    return key_builder(parts, counter)\n",
    "\n",
    "\n",
    "def key_builder(parts, counter):\n",
    "    key = '_'.join(filter(None, parts)).lower().replace(\"-\", \"_\")\n",
    "    counter[key] += 1\n",
    "    return key if counter[key] == 1 else f\"{key}_{counter[key]}\"\n",
    "\n",
    "print(\"Done!\")"
   ]
  },
  {
   "cell_type": "markdown",
   "metadata": {},
   "source": [
    "### Generate Objects Selectors"
   ]
  },
  {
   "cell_type": "code",
   "execution_count": 9,
   "metadata": {},
   "outputs": [
    {
     "name": "stdout",
     "output_type": "stream",
     "text": [
      "Done!\n"
     ]
    }
   ],
   "source": [
    "def generate_selector(element, driver):\n",
    "    selectors = []\n",
    "\n",
    "    for attr in ['id', 'name', 'placeholder', 'aria-label', 'data-test-id', 'alt']:\n",
    "        if element.get(attr):\n",
    "            value = quoteattr(element[attr])\n",
    "            selectors.append(f\"@{attr}={value}\")\n",
    "\n",
    "\n",
    "    if selectors:\n",
    "        xpath_selector = f\"//{element.name}[{' and '.join(selectors)}]\"\n",
    "        elements_found = driver.find_elements(\"xpath\", xpath_selector)\n",
    "        if len(elements_found) == 1:\n",
    "            return xpath_selector\n",
    "\n",
    "\n",
    "    txt = element.get_text(strip=True)\n",
    "    if txt:\n",
    "        xpath_selector = f\"//{element.name}[contains(text(), {quoteattr(txt)})]\"\n",
    "        elements_found = driver.find_elements(\"xpath\", xpath_selector)\n",
    "        if len(elements_found) == 1:\n",
    "            return xpath_selector\n",
    "\n",
    "\n",
    "    if element.get('class'):\n",
    "        classes = '.'.join(element.get('class'))\n",
    "        xpath_selector = f\"//{element.name}[contains(@class, {quoteattr(classes)})]\"\n",
    "        elements_found = driver.find_elements(\"xpath\", xpath_selector)\n",
    "        if len(elements_found) == 1:\n",
    "            return xpath_selector\n",
    "\n",
    "    return None\n",
    "\n",
    "print(\"Done!\")"
   ]
  },
  {
   "cell_type": "markdown",
   "metadata": {},
   "source": [
    "### GUI"
   ]
  },
  {
   "cell_type": "code",
   "execution_count": 40,
   "metadata": {},
   "outputs": [
    {
     "data": {
      "application/vnd.jupyter.widget-view+json": {
       "model_id": "b56f38322cba49ae9f34bcf8a2d01ad6",
       "version_major": 2,
       "version_minor": 0
      },
      "text/plain": [
       "HBox(children=(Button(description='New Window', style=ButtonStyle()), Button(description='Inspect', style=Butt…"
      ]
     },
     "metadata": {},
     "output_type": "display_data"
    },
    {
     "name": "stderr",
     "output_type": "stream",
     "text": [
      "/var/folders/hm/2613d1tx3dx75fn21zzrzn500000gq/T/ipykernel_20857/1279385580.py:168: DeprecationWarning: icons names no longer need 'fa-', just use the class names themselves (for example, 'gear spin' instead of 'fa-gear fa-spin')\n",
      "  highlight_button = widgets.Button(\n"
     ]
    },
    {
     "data": {
      "application/vnd.jupyter.widget-view+json": {
       "model_id": "0b3bf6651c7045c0ac213897998da4bd",
       "version_major": 2,
       "version_minor": 0
      },
      "text/plain": [
       "GridspecLayout(children=(HTML(value='<b>Export</b>', layout=Layout(grid_area='widget001', width='55px')), HTML…"
      ]
     },
     "metadata": {},
     "output_type": "display_data"
    },
    {
     "name": "stdout",
     "output_type": "stream",
     "text": [
      "Loaded from https://life.stg.wellzesta.com/login\n"
     ]
    }
   ],
   "source": [
    "global df\n",
    "global test_window\n",
    "test_window = None\n",
    "\n",
    "\n",
    "def new_window(url, wait=0):\n",
    "    driver = webdriver.Chrome(service=service, options=chrome_options)\n",
    "    driver.get(url)\n",
    "    time.sleep(wait)\n",
    "    return driver\n",
    "\n",
    "\n",
    "def read_page_objects_metadata(driver):\n",
    "\n",
    "    html = driver.page_source.encode(\"utf-8\")\n",
    "    soup = BeautifulSoup(html, 'html.parser')\n",
    "    elements = soup.find_all(['input', 'button', 'a', 'img'])\n",
    "\n",
    "    counter = defaultdict(int)\n",
    "    result = defaultdict(list)\n",
    "\n",
    "    for element in elements:\n",
    "        tag = element.name\n",
    "        selector = generate_selector(element, driver)\n",
    "        key = generate_key(tag, element, counter)\n",
    "\n",
    "        result[tag].append({\n",
    "            \"key\": key,\n",
    "            \"selector\": selector,\n",
    "            \"attributes\": {attr: element.get(attr) for attr in element.attrs},\n",
    "            \"text\": element.get_text(strip=True),\n",
    "            \"visibility\": \"visible\" if element.get('type') != 'hidden' else \"invisible\"\n",
    "        })\n",
    "    return result\n",
    "\n",
    "\n",
    "\n",
    "def highlight_element(driver, selector):\n",
    "    script = f\"\"\"\n",
    "    var element = document.evaluate('{selector}', document, null, XPathResult.FIRST_ORDERED_NODE_TYPE, null).singleNodeValue;\n",
    "    if (element) {{\n",
    "        var originalStyle = element.style.border;\n",
    "        var count = 0;\n",
    "        var interval = setInterval(function() {{\n",
    "            count += 1;\n",
    "            element.style.border = count % 2 ? '3px solid red' : '';\n",
    "            if (count > 9) {{\n",
    "                clearInterval(interval);\n",
    "                element.style.border = originalStyle;\n",
    "            }}\n",
    "        }}, 500);\n",
    "    }}\n",
    "    \"\"\"\n",
    "    try:\n",
    "        driver.execute_script(script)\n",
    "    except Exception as e:\n",
    "        print(\"Error while highlighting the element:\", e)\n",
    "\n",
    "\n",
    "\n",
    "def start_playground():\n",
    "\n",
    "    global test_window, df\n",
    "    df = pd.DataFrame(columns=[\"Alias\", \"Key\", \"Selector\", \"Tag Name\", \"Visibility\", \"Select\"])\n",
    "    df_original = pd.DataFrame()\n",
    "    selected_rows = []\n",
    "\n",
    "\n",
    "    def on_new_window_clicked(b=None):\n",
    "        global test_window\n",
    "        try: \n",
    "            test_window.quit()\n",
    "        except: \n",
    "            pass  # ignore exceptions\n",
    "        test_window = new_window(\"https://life.stg.wellzesta.com/login\")\n",
    "\n",
    "\n",
    "    def on_metadata_clicked(b):\n",
    "        clear_output(wait=True)\n",
    "        global test_window, df\n",
    "        if test_window is None:\n",
    "            on_new_window_clicked()\n",
    "\n",
    "        metadata = read_page_objects_metadata(test_window)\n",
    "        rows = []\n",
    "        for tag_name, elements in metadata.items():\n",
    "            for element in elements:\n",
    "                v = element.get('visibility', '')==\"visible\"\n",
    "                rows.append({\n",
    "                    \"Export\": False,\n",
    "                    \"Visible\": v,\n",
    "                    \"Type\": tag_name,\n",
    "                    \"Alias\": element.get('key', ''),\n",
    "                    \"Web\": element.get('selector', '')\n",
    "                })\n",
    "\n",
    "        df = pd.DataFrame(rows)\n",
    "        update_table()\n",
    "        print(f\"Loaded from {test_window.current_url}\")\n",
    "\n",
    "\n",
    "    def on_export_button_clicked(b):\n",
    "        global df\n",
    "        df = df[df['Select'] == True]\n",
    "        update_table()\n",
    "\n",
    "\n",
    "    def on_filter_text_changed(change):\n",
    "        global df\n",
    "        filter_text = change.new.lower()\n",
    "        if filter_text:\n",
    "            df = df_original[df_original.apply(lambda row: filter_text in str(row).lower(), axis=1)]\n",
    "        else:\n",
    "            df = df_original\n",
    "        update_table()\n",
    "\n",
    "\n",
    "    def adjust_column_widths(df, base_width=10, padding=5):\n",
    "        widths = {}\n",
    "        for col in df.columns:\n",
    "            max_len = df[col].astype(str).map(len).max()  # Comprimento máximo do conteúdo na coluna\n",
    "            widths[col] = min(max_len * base_width + padding, 300)  # Calcular a largura com um máximo para evitar colunas muito largas\n",
    "        return widths\n",
    "    \n",
    "\n",
    "    def on_select_row(change, index):\n",
    "        global df\n",
    "        df.at[index, 'Export'] = change['new']\n",
    "        update_table()\n",
    "\n",
    "\n",
    "    def update_table():\n",
    "        global df, test_window\n",
    "        nonlocal export_button\n",
    "\n",
    "        if df.empty:\n",
    "            clear_output(wait=True)\n",
    "            display(widgets.HBox([new_window_button, metadata_button]))\n",
    "            return\n",
    "\n",
    "        df = df.drop(columns=[\"Attributes\", \"Text\"], errors='ignore')\n",
    "        df.sort_values(by=['Export', 'Type', 'Alias'], ascending=[False, True, True], inplace=True)\n",
    "\n",
    "        clear_output(wait=True)\n",
    "        display(widgets.HBox([new_window_button, metadata_button, filter_text, export_button]))\n",
    "\n",
    "        # Calcular a largura das outras colunas\n",
    "        col_widths = adjust_column_widths(df)\n",
    "        grid = widgets.GridspecLayout(len(df) + 1, len(df.columns) + 1)\n",
    "\n",
    "        # Cabeçalhos\n",
    "        for i, col in enumerate(df.columns):\n",
    "            grid[0, i] = HTML(value=f\"<b>{col}</b>\", layout=widgets.Layout(width=f'{col_widths[col]}px'))\n",
    "\n",
    "        # Dados, botões de exportação e botões com seletores\n",
    "        for i, (index, row) in enumerate(df.iterrows(), start=1):\n",
    "            for j, col in enumerate(df.columns):\n",
    "                if col == \"Export\":\n",
    "                    export_button_text = 'Y' if row[col] else 'N'\n",
    "                    export_button = widgets.Button(description=export_button_text, layout=widgets.Layout(width='30px'))\n",
    "                    export_button.on_click(lambda b, index=index: on_select_row({'new': not row[col]}, index))\n",
    "                    grid[i, j] = export_button\n",
    "\n",
    "                elif col == \"Web\":\n",
    "                    button_icon = 'fa-eye' \n",
    "                    selector_text = row[col] if row[col] else 'No Selector'\n",
    "                    disabled = False if row[col] else True\n",
    "                    highlight_button = widgets.Button(\n",
    "                        disabled=disabled,\n",
    "                        description='', \n",
    "                        tooltip=selector_text, \n",
    "                        icon=button_icon, \n",
    "                        layout=widgets.Layout(width='30px', height='30px')\n",
    "                    )\n",
    "                    highlight_button.on_click(lambda b, selector=row['Web']: highlight_element(test_window, selector))\n",
    "                    grid[i, j] = highlight_button\n",
    "\n",
    "                else:\n",
    "                    grid[i, j] = widgets.Label(value=str(row[col]), layout=widgets.Layout(width=f'{col_widths[col]}px'))\n",
    "\n",
    "        display(grid)\n",
    "\n",
    "\n",
    "    # Widgets\n",
    "    new_window_button = widgets.Button(description=\"New Window\")\n",
    "    metadata_button = widgets.Button(description=\"Inspect\")\n",
    "    filter_text = widgets.Text(placeholder='Type to filter...')\n",
    "    export_button = widgets.Button(description=\"Export Selected\")\n",
    "    \n",
    "\n",
    "    # Eventos\n",
    "    new_window_button.on_click(on_new_window_clicked)\n",
    "    metadata_button.on_click(on_metadata_clicked)\n",
    "    filter_text.observe(on_filter_text_changed, names='value')\n",
    "    export_button.on_click(on_export_button_clicked)\n",
    "\n",
    "\n",
    "    # Inicializa a interface sem dados\n",
    "    update_table()\n",
    "    \n",
    "\n",
    "\n",
    "start_playground()"
   ]
  },
  {
   "cell_type": "markdown",
   "metadata": {},
   "source": [
    "## Playground"
   ]
  },
  {
   "cell_type": "code",
   "execution_count": null,
   "metadata": {},
   "outputs": [],
   "source": [
    "start_playground()"
   ]
  }
 ],
 "metadata": {
  "kernelspec": {
   "display_name": "Python 3",
   "language": "python",
   "name": "python3"
  },
  "language_info": {
   "codemirror_mode": {
    "name": "ipython",
    "version": 3
   },
   "file_extension": ".py",
   "mimetype": "text/x-python",
   "name": "python",
   "nbconvert_exporter": "python",
   "pygments_lexer": "ipython3",
   "version": "3.10.13"
  }
 },
 "nbformat": 4,
 "nbformat_minor": 2
}
