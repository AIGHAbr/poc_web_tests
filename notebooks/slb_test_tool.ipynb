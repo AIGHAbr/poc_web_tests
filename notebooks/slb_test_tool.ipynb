{
 "cells": [
  {
   "cell_type": "markdown",
   "metadata": {},
   "source": [
    "# SLB Test Tool"
   ]
  },
  {
   "cell_type": "markdown",
   "metadata": {},
   "source": [
    "## Setup"
   ]
  },
  {
   "cell_type": "markdown",
   "metadata": {},
   "source": [
    "### Install Selenium"
   ]
  },
  {
   "cell_type": "code",
   "execution_count": 6,
   "metadata": {},
   "outputs": [
    {
     "name": "stdout",
     "output_type": "stream",
     "text": [
      "All packages installed\n"
     ]
    }
   ],
   "source": [
    "from IPython.display import clear_output\n",
    "\n",
    "%pip install selenium \n",
    "clear_output(wait=True)\n",
    "\n",
    "%pip install webdriver_manager \n",
    "clear_output(wait=True)\n",
    "\n",
    "%pip install beautifulsoup4\n",
    "clear_output(wait=True)\n",
    "\n",
    "%pip install pandas \n",
    "clear_output(wait=True)\n",
    "\n",
    "%pip install ipywidgets\n",
    "clear_output()\n",
    "\n",
    "print(\"All packages installed\")"
   ]
  },
  {
   "cell_type": "code",
   "execution_count": 7,
   "metadata": {},
   "outputs": [
    {
     "name": "stdout",
     "output_type": "stream",
     "text": [
      "Done!\n"
     ]
    }
   ],
   "source": [
    "from selenium import webdriver\n",
    "from webdriver_manager.chrome import ChromeDriverManager\n",
    "from selenium.webdriver.chrome.service import Service\n",
    "from selenium.webdriver.chrome.options import Options\n",
    "from selenium.webdriver.common.by import By\n",
    "from selenium.common.exceptions import NoSuchElementException\n",
    "\n",
    "from bs4 import BeautifulSoup\n",
    "from collections import defaultdict\n",
    "from xml.sax.saxutils import quoteattr\n",
    "\n",
    "import ipywidgets as widgets\n",
    "from ipywidgets import HTML\n",
    "\n",
    "import pandas as pd\n",
    "from IPython.display import display\n",
    "import time\n",
    "\n",
    "\n",
    "prefs = {\"profile.default_content_setting_values.notifications\": 1}\n",
    "chrome_options = Options()\n",
    "#chrome_options.add_argument(\"--headless\")\n",
    "chrome_options.add_experimental_option(\"prefs\", prefs)\n",
    "\n",
    "service = Service(ChromeDriverManager().install())\n",
    "driver = webdriver.Chrome(service=service, options=chrome_options)\n",
    "driver.quit()\n",
    "\n",
    "clear_output()\n",
    "print(\"Done!\")"
   ]
  },
  {
   "cell_type": "markdown",
   "metadata": {},
   "source": [
    "## Source Code"
   ]
  },
  {
   "cell_type": "markdown",
   "metadata": {},
   "source": [
    "### Generate Objects Keys"
   ]
  },
  {
   "cell_type": "code",
   "execution_count": 8,
   "metadata": {},
   "outputs": [
    {
     "name": "stdout",
     "output_type": "stream",
     "text": [
      "Done!\n"
     ]
    }
   ],
   "source": [
    "def generate_key(tag, element, counter):\n",
    "    base = {\"input\": \"txt\", \"button\": \"btn\", \"a\": \"lnk\", \"img\": \"img\"}\n",
    "    prefix = base.get(tag, \"elem\")\n",
    "\n",
    "    parts = [prefix]\n",
    "    \n",
    "    txt = element.get_text(strip=True)\n",
    "    if txt:\n",
    "        parts.append(txt.replace(\" \", \"_\"))\n",
    "        return key_builder(parts, counter)\n",
    "    \n",
    "    if element.get('name'):\n",
    "        parts.append(element['name'])\n",
    "        return key_builder(parts, counter)\n",
    "    \n",
    "    if element.get('aria-label'):\n",
    "        parts.append(element['aria-label'].replace(\" \", \"_\"))\n",
    "        return key_builder(parts, counter)\n",
    "\n",
    "    if element.get('id'):\n",
    "        parts.append(element['id'])\n",
    "        return key_builder(parts, counter)\n",
    "    \n",
    "    if element.get('data-test-id'):\n",
    "        parts.append(element['data-test-id'])\n",
    "        return key_builder(parts, counter)\n",
    "    \n",
    "    return key_builder(parts, counter)\n",
    "\n",
    "\n",
    "def key_builder(parts, counter):\n",
    "    key = '_'.join(filter(None, parts))\n",
    "    counter[key] += 1\n",
    "    return key if counter[key] == 1 else f\"{key}_{counter[key]}\"\n",
    "\n",
    "print(\"Done!\")"
   ]
  },
  {
   "cell_type": "markdown",
   "metadata": {},
   "source": [
    "### Generate Objects Selectors"
   ]
  },
  {
   "cell_type": "code",
   "execution_count": 9,
   "metadata": {},
   "outputs": [
    {
     "name": "stdout",
     "output_type": "stream",
     "text": [
      "Done!\n"
     ]
    }
   ],
   "source": [
    "def generate_selector(element, driver):\n",
    "    selectors = []\n",
    "\n",
    "    for attr in ['id', 'name', 'placeholder', 'aria-label', 'data-test-id', 'alt']:\n",
    "        if element.get(attr):\n",
    "            value = quoteattr(element[attr])\n",
    "            selectors.append(f\"@{attr}={value}\")\n",
    "\n",
    "\n",
    "    if selectors:\n",
    "        xpath_selector = f\"//{element.name}[{' and '.join(selectors)}]\"\n",
    "        elements_found = driver.find_elements(\"xpath\", xpath_selector)\n",
    "        if len(elements_found) == 1:\n",
    "            return xpath_selector\n",
    "\n",
    "\n",
    "    txt = element.get_text(strip=True)\n",
    "    if txt:\n",
    "        xpath_selector = f\"//{element.name}[contains(text(), {quoteattr(txt)})]\"\n",
    "        elements_found = driver.find_elements(\"xpath\", xpath_selector)\n",
    "        if len(elements_found) == 1:\n",
    "            return xpath_selector\n",
    "\n",
    "\n",
    "    if element.get('class'):\n",
    "        classes = '.'.join(element.get('class'))\n",
    "        xpath_selector = f\"//{element.name}[contains(@class, {quoteattr(classes)})]\"\n",
    "        elements_found = driver.find_elements(\"xpath\", xpath_selector)\n",
    "        if len(elements_found) == 1:\n",
    "            return xpath_selector\n",
    "\n",
    "    return None\n",
    "\n",
    "print(\"Done!\")"
   ]
  },
  {
   "cell_type": "markdown",
   "metadata": {},
   "source": [
    "### GUI"
   ]
  },
  {
   "cell_type": "code",
   "execution_count": 20,
   "metadata": {},
   "outputs": [
    {
     "data": {
      "application/vnd.jupyter.widget-view+json": {
       "model_id": "becee764a3a24435b8ade75c98e89282",
       "version_major": 2,
       "version_minor": 0
      },
      "text/plain": [
       "HBox(children=(Button(description='New Window', style=ButtonStyle()), Button(description='Inspect', style=Butt…"
      ]
     },
     "metadata": {},
     "output_type": "display_data"
    },
    {
     "ename": "TraitError",
     "evalue": "The 'description' trait of a Button instance expected a unicode string, not the NoneType None.",
     "output_type": "error",
     "traceback": [
      "\u001b[0;31m---------------------------------------------------------------------------\u001b[0m",
      "\u001b[0;31mTraitError\u001b[0m                                Traceback (most recent call last)",
      "Cell \u001b[0;32mIn[20], line 98\u001b[0m, in \u001b[0;36mstart_playground.<locals>.on_metadata_clicked\u001b[0;34m(b)\u001b[0m\n\u001b[1;32m     89\u001b[0m         rows\u001b[38;5;241m.\u001b[39mappend({\n\u001b[1;32m     90\u001b[0m             \u001b[38;5;124m\"\u001b[39m\u001b[38;5;124mExport\u001b[39m\u001b[38;5;124m\"\u001b[39m: \u001b[38;5;28;01mFalse\u001b[39;00m,\n\u001b[1;32m     91\u001b[0m             \u001b[38;5;124m\"\u001b[39m\u001b[38;5;124mVisible\u001b[39m\u001b[38;5;124m\"\u001b[39m: v,\n\u001b[0;32m   (...)\u001b[0m\n\u001b[1;32m     94\u001b[0m             \u001b[38;5;124m\"\u001b[39m\u001b[38;5;124mSelector\u001b[39m\u001b[38;5;124m\"\u001b[39m: element\u001b[38;5;241m.\u001b[39mget(\u001b[38;5;124m'\u001b[39m\u001b[38;5;124mselector\u001b[39m\u001b[38;5;124m'\u001b[39m, \u001b[38;5;124m'\u001b[39m\u001b[38;5;124m'\u001b[39m)\n\u001b[1;32m     95\u001b[0m         })\n\u001b[1;32m     97\u001b[0m df \u001b[38;5;241m=\u001b[39m pd\u001b[38;5;241m.\u001b[39mDataFrame(rows)\n\u001b[0;32m---> 98\u001b[0m \u001b[43mupdate_table\u001b[49m\u001b[43m(\u001b[49m\u001b[43m)\u001b[49m\n\u001b[1;32m     99\u001b[0m \u001b[38;5;28mprint\u001b[39m(\u001b[38;5;124mf\u001b[39m\u001b[38;5;124m\"\u001b[39m\u001b[38;5;124mLoaded from \u001b[39m\u001b[38;5;132;01m{\u001b[39;00mtest_window\u001b[38;5;241m.\u001b[39mcurrent_url\u001b[38;5;132;01m}\u001b[39;00m\u001b[38;5;124m\"\u001b[39m)\n",
      "Cell \u001b[0;32mIn[20], line 166\u001b[0m, in \u001b[0;36mstart_playground.<locals>.update_table\u001b[0;34m()\u001b[0m\n\u001b[1;32m    163\u001b[0m         grid[i, j] \u001b[38;5;241m=\u001b[39m widgets\u001b[38;5;241m.\u001b[39mLabel(value\u001b[38;5;241m=\u001b[39m\u001b[38;5;28mstr\u001b[39m(row[col]), layout\u001b[38;5;241m=\u001b[39mwidgets\u001b[38;5;241m.\u001b[39mLayout(width\u001b[38;5;241m=\u001b[39m\u001b[38;5;124mf\u001b[39m\u001b[38;5;124m'\u001b[39m\u001b[38;5;132;01m{\u001b[39;00mcol_widths[col]\u001b[38;5;132;01m}\u001b[39;00m\u001b[38;5;124mpx\u001b[39m\u001b[38;5;124m'\u001b[39m))\n\u001b[1;32m    165\u001b[0m \u001b[38;5;66;03m# Botão com o texto do seletor\u001b[39;00m\n\u001b[0;32m--> 166\u001b[0m highlight_button \u001b[38;5;241m=\u001b[39m \u001b[43mwidgets\u001b[49m\u001b[38;5;241;43m.\u001b[39;49m\u001b[43mButton\u001b[49m\u001b[43m(\u001b[49m\u001b[43mdescription\u001b[49m\u001b[38;5;241;43m=\u001b[39;49m\u001b[43mrow\u001b[49m\u001b[43m[\u001b[49m\u001b[38;5;124;43m'\u001b[39;49m\u001b[38;5;124;43mSelector\u001b[39;49m\u001b[38;5;124;43m'\u001b[39;49m\u001b[43m]\u001b[49m\u001b[43m,\u001b[49m\u001b[43m \u001b[49m\u001b[43mlayout\u001b[49m\u001b[38;5;241;43m=\u001b[39;49m\u001b[43mwidgets\u001b[49m\u001b[38;5;241;43m.\u001b[39;49m\u001b[43mLayout\u001b[49m\u001b[43m(\u001b[49m\u001b[43mwidth\u001b[49m\u001b[38;5;241;43m=\u001b[39;49m\u001b[38;5;124;43m'\u001b[39;49m\u001b[38;5;124;43m100px\u001b[39;49m\u001b[38;5;124;43m'\u001b[39;49m\u001b[43m)\u001b[49m\u001b[43m)\u001b[49m\n\u001b[1;32m    167\u001b[0m highlight_button\u001b[38;5;241m.\u001b[39mon_click(\u001b[38;5;28;01mlambda\u001b[39;00m b, selector\u001b[38;5;241m=\u001b[39mrow[\u001b[38;5;124m'\u001b[39m\u001b[38;5;124mSelector\u001b[39m\u001b[38;5;124m'\u001b[39m]: highlight_element(test_window, selector))\n\u001b[1;32m    168\u001b[0m grid[i, \u001b[38;5;28mlen\u001b[39m(df\u001b[38;5;241m.\u001b[39mcolumns) \u001b[38;5;241m-\u001b[39m \u001b[38;5;241m1\u001b[39m] \u001b[38;5;241m=\u001b[39m highlight_button\n",
      "File \u001b[0;32m/opt/homebrew/lib/python3.10/site-packages/ipywidgets/widgets/widget_button.py:64\u001b[0m, in \u001b[0;36mButton.__init__\u001b[0;34m(self, **kwargs)\u001b[0m\n\u001b[1;32m     63\u001b[0m \u001b[38;5;28;01mdef\u001b[39;00m \u001b[38;5;21m__init__\u001b[39m(\u001b[38;5;28mself\u001b[39m, \u001b[38;5;241m*\u001b[39m\u001b[38;5;241m*\u001b[39mkwargs):\n\u001b[0;32m---> 64\u001b[0m     \u001b[38;5;28;43msuper\u001b[39;49m\u001b[43m(\u001b[49m\u001b[43m)\u001b[49m\u001b[38;5;241;43m.\u001b[39;49m\u001b[38;5;21;43m__init__\u001b[39;49m\u001b[43m(\u001b[49m\u001b[38;5;241;43m*\u001b[39;49m\u001b[38;5;241;43m*\u001b[39;49m\u001b[43mkwargs\u001b[49m\u001b[43m)\u001b[49m\n\u001b[1;32m     65\u001b[0m     \u001b[38;5;28mself\u001b[39m\u001b[38;5;241m.\u001b[39m_click_handlers \u001b[38;5;241m=\u001b[39m CallbackDispatcher()\n\u001b[1;32m     66\u001b[0m     \u001b[38;5;28mself\u001b[39m\u001b[38;5;241m.\u001b[39mon_msg(\u001b[38;5;28mself\u001b[39m\u001b[38;5;241m.\u001b[39m_handle_button_msg)\n",
      "File \u001b[0;32m/opt/homebrew/lib/python3.10/site-packages/ipywidgets/widgets/widget.py:503\u001b[0m, in \u001b[0;36mWidget.__init__\u001b[0;34m(self, **kwargs)\u001b[0m\n\u001b[1;32m    501\u001b[0m \u001b[38;5;250m\u001b[39m\u001b[38;5;124;03m\"\"\"Public constructor\"\"\"\u001b[39;00m\n\u001b[1;32m    502\u001b[0m \u001b[38;5;28mself\u001b[39m\u001b[38;5;241m.\u001b[39m_model_id \u001b[38;5;241m=\u001b[39m kwargs\u001b[38;5;241m.\u001b[39mpop(\u001b[38;5;124m'\u001b[39m\u001b[38;5;124mmodel_id\u001b[39m\u001b[38;5;124m'\u001b[39m, \u001b[38;5;28;01mNone\u001b[39;00m)\n\u001b[0;32m--> 503\u001b[0m \u001b[38;5;28;43msuper\u001b[39;49m\u001b[43m(\u001b[49m\u001b[43m)\u001b[49m\u001b[38;5;241;43m.\u001b[39;49m\u001b[38;5;21;43m__init__\u001b[39;49m\u001b[43m(\u001b[49m\u001b[38;5;241;43m*\u001b[39;49m\u001b[38;5;241;43m*\u001b[39;49m\u001b[43mkwargs\u001b[49m\u001b[43m)\u001b[49m\n\u001b[1;32m    505\u001b[0m Widget\u001b[38;5;241m.\u001b[39m_call_widget_constructed(\u001b[38;5;28mself\u001b[39m)\n\u001b[1;32m    506\u001b[0m \u001b[38;5;28mself\u001b[39m\u001b[38;5;241m.\u001b[39mopen()\n",
      "File \u001b[0;32m~/Library/Python/3.10/lib/python/site-packages/traitlets/traitlets.py:1357\u001b[0m, in \u001b[0;36mHasTraits.__init__\u001b[0;34m(self, *args, **kwargs)\u001b[0m\n\u001b[1;32m   1355\u001b[0m \u001b[38;5;28;01mfor\u001b[39;00m key, value \u001b[38;5;129;01min\u001b[39;00m kwargs\u001b[38;5;241m.\u001b[39mitems():\n\u001b[1;32m   1356\u001b[0m     \u001b[38;5;28;01mif\u001b[39;00m \u001b[38;5;28mself\u001b[39m\u001b[38;5;241m.\u001b[39mhas_trait(key):\n\u001b[0;32m-> 1357\u001b[0m         \u001b[38;5;28;43msetattr\u001b[39;49m\u001b[43m(\u001b[49m\u001b[38;5;28;43mself\u001b[39;49m\u001b[43m,\u001b[49m\u001b[43m \u001b[49m\u001b[43mkey\u001b[49m\u001b[43m,\u001b[49m\u001b[43m \u001b[49m\u001b[43mvalue\u001b[49m\u001b[43m)\u001b[49m\n\u001b[1;32m   1358\u001b[0m         changes[key] \u001b[38;5;241m=\u001b[39m Bunch(\n\u001b[1;32m   1359\u001b[0m             name\u001b[38;5;241m=\u001b[39mkey,\n\u001b[1;32m   1360\u001b[0m             old\u001b[38;5;241m=\u001b[39m\u001b[38;5;28;01mNone\u001b[39;00m,\n\u001b[0;32m   (...)\u001b[0m\n\u001b[1;32m   1363\u001b[0m             \u001b[38;5;28mtype\u001b[39m\u001b[38;5;241m=\u001b[39m\u001b[38;5;124m\"\u001b[39m\u001b[38;5;124mchange\u001b[39m\u001b[38;5;124m\"\u001b[39m,\n\u001b[1;32m   1364\u001b[0m         )\n\u001b[1;32m   1365\u001b[0m     \u001b[38;5;28;01melse\u001b[39;00m:\n\u001b[1;32m   1366\u001b[0m         \u001b[38;5;66;03m# passthrough args that don't set traits to super\u001b[39;00m\n",
      "File \u001b[0;32m~/Library/Python/3.10/lib/python/site-packages/traitlets/traitlets.py:718\u001b[0m, in \u001b[0;36mTraitType.__set__\u001b[0;34m(self, obj, value)\u001b[0m\n\u001b[1;32m    716\u001b[0m     \u001b[38;5;28;01mraise\u001b[39;00m TraitError(\u001b[38;5;124m'\u001b[39m\u001b[38;5;124mThe \u001b[39m\u001b[38;5;124m\"\u001b[39m\u001b[38;5;132;01m%s\u001b[39;00m\u001b[38;5;124m\"\u001b[39m\u001b[38;5;124m trait is read-only.\u001b[39m\u001b[38;5;124m'\u001b[39m \u001b[38;5;241m%\u001b[39m \u001b[38;5;28mself\u001b[39m\u001b[38;5;241m.\u001b[39mname)\n\u001b[1;32m    717\u001b[0m \u001b[38;5;28;01melse\u001b[39;00m:\n\u001b[0;32m--> 718\u001b[0m     \u001b[38;5;28;43mself\u001b[39;49m\u001b[38;5;241;43m.\u001b[39;49m\u001b[43mset\u001b[49m\u001b[43m(\u001b[49m\u001b[43mobj\u001b[49m\u001b[43m,\u001b[49m\u001b[43m \u001b[49m\u001b[43mvalue\u001b[49m\u001b[43m)\u001b[49m\n",
      "File \u001b[0;32m~/Library/Python/3.10/lib/python/site-packages/traitlets/traitlets.py:691\u001b[0m, in \u001b[0;36mTraitType.set\u001b[0;34m(self, obj, value)\u001b[0m\n\u001b[1;32m    690\u001b[0m \u001b[38;5;28;01mdef\u001b[39;00m \u001b[38;5;21mset\u001b[39m(\u001b[38;5;28mself\u001b[39m, obj: HasTraits, value: S) \u001b[38;5;241m-\u001b[39m\u001b[38;5;241m>\u001b[39m \u001b[38;5;28;01mNone\u001b[39;00m:\n\u001b[0;32m--> 691\u001b[0m     new_value \u001b[38;5;241m=\u001b[39m \u001b[38;5;28;43mself\u001b[39;49m\u001b[38;5;241;43m.\u001b[39;49m\u001b[43m_validate\u001b[49m\u001b[43m(\u001b[49m\u001b[43mobj\u001b[49m\u001b[43m,\u001b[49m\u001b[43m \u001b[49m\u001b[43mvalue\u001b[49m\u001b[43m)\u001b[49m\n\u001b[1;32m    692\u001b[0m     \u001b[38;5;28;01massert\u001b[39;00m \u001b[38;5;28mself\u001b[39m\u001b[38;5;241m.\u001b[39mname \u001b[38;5;129;01mis\u001b[39;00m \u001b[38;5;129;01mnot\u001b[39;00m \u001b[38;5;28;01mNone\u001b[39;00m\n\u001b[1;32m    693\u001b[0m     \u001b[38;5;28;01mtry\u001b[39;00m:\n",
      "File \u001b[0;32m~/Library/Python/3.10/lib/python/site-packages/traitlets/traitlets.py:724\u001b[0m, in \u001b[0;36mTraitType._validate\u001b[0;34m(self, obj, value)\u001b[0m\n\u001b[1;32m    722\u001b[0m     \u001b[38;5;28;01mreturn\u001b[39;00m value\n\u001b[1;32m    723\u001b[0m \u001b[38;5;28;01mif\u001b[39;00m \u001b[38;5;28mhasattr\u001b[39m(\u001b[38;5;28mself\u001b[39m, \u001b[38;5;124m\"\u001b[39m\u001b[38;5;124mvalidate\u001b[39m\u001b[38;5;124m\"\u001b[39m):\n\u001b[0;32m--> 724\u001b[0m     value \u001b[38;5;241m=\u001b[39m \u001b[38;5;28;43mself\u001b[39;49m\u001b[38;5;241;43m.\u001b[39;49m\u001b[43mvalidate\u001b[49m\u001b[43m(\u001b[49m\u001b[43mobj\u001b[49m\u001b[43m,\u001b[49m\u001b[43m \u001b[49m\u001b[43mvalue\u001b[49m\u001b[43m)\u001b[49m\n\u001b[1;32m    725\u001b[0m \u001b[38;5;28;01mif\u001b[39;00m obj\u001b[38;5;241m.\u001b[39m_cross_validation_lock \u001b[38;5;129;01mis\u001b[39;00m \u001b[38;5;28;01mFalse\u001b[39;00m:\n\u001b[1;32m    726\u001b[0m     value \u001b[38;5;241m=\u001b[39m \u001b[38;5;28mself\u001b[39m\u001b[38;5;241m.\u001b[39m_cross_validate(obj, value)\n",
      "File \u001b[0;32m~/Library/Python/3.10/lib/python/site-packages/traitlets/traitlets.py:2952\u001b[0m, in \u001b[0;36mUnicode.validate\u001b[0;34m(self, obj, value)\u001b[0m\n\u001b[1;32m   2950\u001b[0m         msg \u001b[38;5;241m=\u001b[39m \u001b[38;5;124m\"\u001b[39m\u001b[38;5;124mCould not decode \u001b[39m\u001b[38;5;132;01m{!r}\u001b[39;00m\u001b[38;5;124m for unicode trait \u001b[39m\u001b[38;5;124m'\u001b[39m\u001b[38;5;132;01m{}\u001b[39;00m\u001b[38;5;124m'\u001b[39m\u001b[38;5;124m of \u001b[39m\u001b[38;5;132;01m{}\u001b[39;00m\u001b[38;5;124m instance.\u001b[39m\u001b[38;5;124m\"\u001b[39m\n\u001b[1;32m   2951\u001b[0m         \u001b[38;5;28;01mraise\u001b[39;00m TraitError(msg\u001b[38;5;241m.\u001b[39mformat(value, \u001b[38;5;28mself\u001b[39m\u001b[38;5;241m.\u001b[39mname, class_of(obj))) \u001b[38;5;28;01mfrom\u001b[39;00m \u001b[38;5;21;01me\u001b[39;00m\n\u001b[0;32m-> 2952\u001b[0m \u001b[38;5;28;43mself\u001b[39;49m\u001b[38;5;241;43m.\u001b[39;49m\u001b[43merror\u001b[49m\u001b[43m(\u001b[49m\u001b[43mobj\u001b[49m\u001b[43m,\u001b[49m\u001b[43m \u001b[49m\u001b[43mvalue\u001b[49m\u001b[43m)\u001b[49m\n",
      "File \u001b[0;32m~/Library/Python/3.10/lib/python/site-packages/traitlets/traitlets.py:833\u001b[0m, in \u001b[0;36mTraitType.error\u001b[0;34m(self, obj, value, error, info)\u001b[0m\n\u001b[1;32m    827\u001b[0m \u001b[38;5;28;01melse\u001b[39;00m:\n\u001b[1;32m    828\u001b[0m     e \u001b[38;5;241m=\u001b[39m \u001b[38;5;124m\"\u001b[39m\u001b[38;5;124mThe \u001b[39m\u001b[38;5;124m'\u001b[39m\u001b[38;5;132;01m{}\u001b[39;00m\u001b[38;5;124m'\u001b[39m\u001b[38;5;124m trait expected \u001b[39m\u001b[38;5;132;01m{}\u001b[39;00m\u001b[38;5;124m, not \u001b[39m\u001b[38;5;132;01m{}\u001b[39;00m\u001b[38;5;124m.\u001b[39m\u001b[38;5;124m\"\u001b[39m\u001b[38;5;241m.\u001b[39mformat(\n\u001b[1;32m    829\u001b[0m         \u001b[38;5;28mself\u001b[39m\u001b[38;5;241m.\u001b[39mname,\n\u001b[1;32m    830\u001b[0m         info \u001b[38;5;129;01mor\u001b[39;00m \u001b[38;5;28mself\u001b[39m\u001b[38;5;241m.\u001b[39minfo(),\n\u001b[1;32m    831\u001b[0m         describe(\u001b[38;5;124m\"\u001b[39m\u001b[38;5;124mthe\u001b[39m\u001b[38;5;124m\"\u001b[39m, value),\n\u001b[1;32m    832\u001b[0m     )\n\u001b[0;32m--> 833\u001b[0m \u001b[38;5;28;01mraise\u001b[39;00m TraitError(e)\n",
      "\u001b[0;31mTraitError\u001b[0m: The 'description' trait of a Button instance expected a unicode string, not the NoneType None."
     ]
    }
   ],
   "source": [
    "global df\n",
    "global test_window\n",
    "test_window = None\n",
    "\n",
    "\n",
    "def new_window(url, wait=0):\n",
    "    driver = webdriver.Chrome(service=service, options=chrome_options)\n",
    "    driver.get(url)\n",
    "    time.sleep(wait)\n",
    "    return driver\n",
    "\n",
    "\n",
    "def read_page_objects_metadata(driver):\n",
    "\n",
    "    html = driver.page_source.encode(\"utf-8\")\n",
    "    soup = BeautifulSoup(html, 'html.parser')\n",
    "    elements = soup.find_all(['input', 'button', 'a', 'img'])\n",
    "\n",
    "    counter = defaultdict(int)\n",
    "    result = defaultdict(list)\n",
    "\n",
    "    for element in elements:\n",
    "        tag = element.name\n",
    "        selector = generate_selector(element, driver)\n",
    "        key = generate_key(tag, element, counter)\n",
    "\n",
    "        result[tag].append({\n",
    "            \"key\": key,\n",
    "            \"selector\": selector,\n",
    "            \"attributes\": {attr: element.get(attr) for attr in element.attrs},\n",
    "            \"text\": element.get_text(strip=True),\n",
    "            \"visibility\": \"visible\" if element.get('type') != 'hidden' else \"invisible\"\n",
    "        })\n",
    "    return result\n",
    "\n",
    "\n",
    "\n",
    "def highlight_element(driver, selector):\n",
    "    script = f\"\"\"\n",
    "    var element = document.evaluate('{selector}', document, null, XPathResult.FIRST_ORDERED_NODE_TYPE, null).singleNodeValue;\n",
    "    if (element) {{\n",
    "        var originalStyle = element.style.border;\n",
    "        var count = 0;\n",
    "        var interval = setInterval(function() {{\n",
    "            count += 1;\n",
    "            element.style.border = count % 2 ? '3px solid red' : '';\n",
    "            if (count > 9) {{\n",
    "                clearInterval(interval);\n",
    "                element.style.border = originalStyle;\n",
    "            }}\n",
    "        }}, 500);\n",
    "    }}\n",
    "    \"\"\"\n",
    "    try:\n",
    "        driver.execute_script(script)\n",
    "    except Exception as e:\n",
    "        print(\"Error while highlighting the element:\", e)\n",
    "\n",
    "\n",
    "\n",
    "def start_playground():\n",
    "\n",
    "    global test_window, df\n",
    "    df = pd.DataFrame(columns=[\"Alias\", \"Key\", \"Selector\", \"Tag Name\", \"Visibility\", \"Select\"])\n",
    "    df_original = pd.DataFrame()\n",
    "    selected_rows = []\n",
    "\n",
    "\n",
    "    def on_new_window_clicked(b=None):\n",
    "        global test_window\n",
    "        try: \n",
    "            test_window.quit()\n",
    "        except: \n",
    "            pass  # ignore exceptions\n",
    "        test_window = new_window(\"https://life.stg.wellzesta.com/login\")\n",
    "\n",
    "\n",
    "    def on_metadata_clicked(b):\n",
    "        clear_output(wait=True)\n",
    "        global test_window, df\n",
    "        if test_window is None:\n",
    "            on_new_window_clicked()\n",
    "\n",
    "        metadata = read_page_objects_metadata(test_window)\n",
    "        rows = []\n",
    "        for tag_name, elements in metadata.items():\n",
    "            for element in elements:\n",
    "                v = element.get('visibility', '')==\"visible\"\n",
    "                rows.append({\n",
    "                    \"Export\": False,\n",
    "                    \"Visible\": v,\n",
    "                    \"Type\": tag_name,\n",
    "                    \"Alias\": element.get('key', ''),\n",
    "                    \"Selector\": element.get('selector', '')\n",
    "                })\n",
    "\n",
    "        df = pd.DataFrame(rows)\n",
    "        update_table()\n",
    "        print(f\"Loaded from {test_window.current_url}\")\n",
    "\n",
    "\n",
    "    def on_select_row(change, index):\n",
    "        print(change.new)\n",
    "        #df.loc[index, 'Select'] = change.new\n",
    "\n",
    "\n",
    "    def on_export_button_clicked(b):\n",
    "        global df\n",
    "        df = df[df['Select'] == True]\n",
    "        update_table()\n",
    "\n",
    "\n",
    "    def on_filter_text_changed(change):\n",
    "        global df\n",
    "        filter_text = change.new.lower()\n",
    "        if filter_text:\n",
    "            df = df_original[df_original.apply(lambda row: filter_text in str(row).lower(), axis=1)]\n",
    "        else:\n",
    "            df = df_original\n",
    "        update_table()\n",
    "\n",
    "\n",
    "    def adjust_column_widths(df, base_width=10, padding=5):\n",
    "        widths = {}\n",
    "        for col in df.columns:\n",
    "            max_len = df[col].astype(str).map(len).max()  # Comprimento máximo do conteúdo na coluna\n",
    "            widths[col] = min(max_len * base_width + padding, 300)  # Calcular a largura com um máximo para evitar colunas muito largas\n",
    "        return widths\n",
    "    \n",
    "\n",
    "    def update_table():\n",
    "        global df, test_window\n",
    "\n",
    "        if df.empty:\n",
    "            clear_output(wait=True)\n",
    "            display(widgets.HBox([new_window_button, metadata_button]))\n",
    "            return\n",
    "\n",
    "        clear_output(wait=True)\n",
    "        display(widgets.HBox([new_window_button, metadata_button, filter_text, export_button]))\n",
    "\n",
    "        df = df.drop(columns=[\"Attributes\", \"Text\", \"Select\"], errors='ignore')\n",
    "        df['Export'] = df['Export'].astype(bool)\n",
    "        df.sort_values(by=['Export', 'Type', 'Alias'], ascending=[False, True, True], inplace=True)\n",
    "\n",
    "        col_widths = adjust_column_widths(df)\n",
    "        grid = widgets.GridspecLayout(len(df) + 1, len(df.columns))\n",
    "\n",
    "        # Cabeçalhos\n",
    "        for i, col in enumerate(df.columns[:-1]):  # Exclui a coluna \"Selector\"\n",
    "            grid[0, i] = HTML(value=f\"<b>{col}</b>\", layout=widgets.Layout(width=f'{col_widths[col]}px'))\n",
    "\n",
    "        grid[0, len(df.columns) - 1] = HTML(value=\"<b>Action</b>\", layout=widgets.Layout(width='100px'))\n",
    "\n",
    "        # Dados, checkboxes e botões com seletores\n",
    "        for i, (index, row) in enumerate(df.iterrows(), start=1):\n",
    "            for j, col in enumerate(df.columns[:-1]):  # Exclui a coluna \"Selector\"\n",
    "                if col == \"Export\":\n",
    "                    checkbox = widgets.Checkbox(value=row[col])\n",
    "                    checkbox.observe(lambda change, index=index: on_select_row(change, index), names='value')\n",
    "                    grid[i, j] = checkbox\n",
    "                else:\n",
    "                    grid[i, j] = widgets.Label(value=str(row[col]), layout=widgets.Layout(width=f'{col_widths[col]}px'))\n",
    "\n",
    "            # Botão com o texto do seletor\n",
    "            selector_text = row['Selector'] if row['Selector'] else 'No Selector'\n",
    "            highlight_button = widgets.Button(description=selector_text, layout=widgets.Layout(width='100px'))\n",
    "            highlight_button.on_click(lambda b, selector=row['Selector']: highlight_element(test_window, selector))\n",
    "            grid[i, len(df.columns) - 1] = highlight_button\n",
    "\n",
    "\n",
    "        display(grid)\n",
    "\n",
    "\n",
    "    # Widgets\n",
    "    new_window_button = widgets.Button(description=\"New Window\")\n",
    "    metadata_button = widgets.Button(description=\"Inspect\")\n",
    "    filter_text = widgets.Text(placeholder='Type to filter...')\n",
    "    export_button = widgets.Button(description=\"Export Selected\")\n",
    "    \n",
    "\n",
    "    # Eventos\n",
    "    new_window_button.on_click(on_new_window_clicked)\n",
    "    metadata_button.on_click(on_metadata_clicked)\n",
    "    filter_text.observe(on_filter_text_changed, names='value')\n",
    "    export_button.on_click(on_export_button_clicked)\n",
    "\n",
    "\n",
    "    # Inicializa a interface sem dados\n",
    "    update_table()\n",
    "    \n",
    "\n",
    "\n",
    "start_playground()"
   ]
  },
  {
   "cell_type": "markdown",
   "metadata": {},
   "source": [
    "## Playground"
   ]
  },
  {
   "cell_type": "code",
   "execution_count": null,
   "metadata": {},
   "outputs": [],
   "source": [
    "start_playground()"
   ]
  }
 ],
 "metadata": {
  "kernelspec": {
   "display_name": "Python 3",
   "language": "python",
   "name": "python3"
  },
  "language_info": {
   "codemirror_mode": {
    "name": "ipython",
    "version": 3
   },
   "file_extension": ".py",
   "mimetype": "text/x-python",
   "name": "python",
   "nbconvert_exporter": "python",
   "pygments_lexer": "ipython3",
   "version": "3.10.13"
  }
 },
 "nbformat": 4,
 "nbformat_minor": 2
}
