{
 "cells": [
  {
   "cell_type": "markdown",
   "metadata": {},
   "source": [
    "# SLB Test Tool"
   ]
  },
  {
   "cell_type": "markdown",
   "metadata": {},
   "source": [
    "## Setup"
   ]
  },
  {
   "cell_type": "markdown",
   "metadata": {},
   "source": [
    "### Install Selenium"
   ]
  },
  {
   "cell_type": "code",
   "execution_count": 13,
   "metadata": {},
   "outputs": [
    {
     "name": "stdout",
     "output_type": "stream",
     "text": [
      "All packages installed\n"
     ]
    }
   ],
   "source": [
    "from IPython.display import clear_output\n",
    "\n",
    "%pip install selenium \n",
    "clear_output(wait=True)\n",
    "\n",
    "%pip install webdriver_manager \n",
    "clear_output(wait=True)\n",
    "\n",
    "%pip install beautifulsoup4\n",
    "clear_output(wait=True)\n",
    "\n",
    "%pip install pandas \n",
    "clear_output(wait=True)\n",
    "\n",
    "%pip install ipywidgets\n",
    "clear_output(wait=True)\n",
    "\n",
    "%pip install datatable\n",
    "clear_output()\n",
    "\n",
    "print(\"All packages installed\")"
   ]
  },
  {
   "cell_type": "code",
   "execution_count": 8,
   "metadata": {},
   "outputs": [
    {
     "name": "stdout",
     "output_type": "stream",
     "text": [
      "Done!\n"
     ]
    }
   ],
   "source": [
    "from selenium import webdriver\n",
    "from webdriver_manager.chrome import ChromeDriverManager\n",
    "from selenium.webdriver.chrome.service import Service\n",
    "from selenium.webdriver.chrome.options import Options\n",
    "from selenium.webdriver.common.by import By\n",
    "from selenium.common.exceptions import NoSuchElementException\n",
    "\n",
    "from bs4 import BeautifulSoup\n",
    "from collections import defaultdict\n",
    "from xml.sax.saxutils import quoteattr\n",
    "\n",
    "import ipywidgets as widgets\n",
    "import datatable as dt\n",
    "from datatable import Frame\n",
    "\n",
    "import pandas as pd\n",
    "from IPython.display import display\n",
    "import time\n",
    "\n",
    "\n",
    "prefs = {\"profile.default_content_setting_values.notifications\": 1}\n",
    "chrome_options = Options()\n",
    "#chrome_options.add_argument(\"--headless\")\n",
    "chrome_options.add_experimental_option(\"prefs\", prefs)\n",
    "\n",
    "service = Service(ChromeDriverManager().install())\n",
    "driver = webdriver.Chrome(service=service, options=chrome_options)\n",
    "driver.quit()\n",
    "\n",
    "clear_output()\n",
    "print(\"Done!\")"
   ]
  },
  {
   "cell_type": "markdown",
   "metadata": {},
   "source": [
    "## Source Code"
   ]
  },
  {
   "cell_type": "markdown",
   "metadata": {},
   "source": [
    "### Generate Objects Keys"
   ]
  },
  {
   "cell_type": "code",
   "execution_count": 9,
   "metadata": {},
   "outputs": [
    {
     "name": "stdout",
     "output_type": "stream",
     "text": [
      "Done!\n"
     ]
    }
   ],
   "source": [
    "def generate_key(tag, element, counter):\n",
    "    base = {\"input\": \"txt\", \"button\": \"btn\", \"a\": \"lnk\", \"img\": \"img\"}\n",
    "    prefix = base.get(tag, \"elem\")\n",
    "\n",
    "    parts = [prefix]\n",
    "    \n",
    "    txt = element.get_text(strip=True)\n",
    "    if txt:\n",
    "        parts.append(txt.replace(\" \", \"_\"))\n",
    "        return key_builder(parts, counter)\n",
    "    \n",
    "    if element.get('name'):\n",
    "        parts.append(element['name'])\n",
    "        return key_builder(parts, counter)\n",
    "    \n",
    "    if element.get('aria-label'):\n",
    "        parts.append(element['aria-label'].replace(\" \", \"_\"))\n",
    "        return key_builder(parts, counter)\n",
    "\n",
    "    if element.get('id'):\n",
    "        parts.append(element['id'])\n",
    "        return key_builder(parts, counter)\n",
    "    \n",
    "    if element.get('data-test-id'):\n",
    "        parts.append(element['data-test-id'])\n",
    "        return key_builder(parts, counter)\n",
    "    \n",
    "    return key_builder(parts, counter)\n",
    "\n",
    "\n",
    "def key_builder(parts, counter):\n",
    "    key = '_'.join(filter(None, parts))\n",
    "    counter[key] += 1\n",
    "    return key if counter[key] == 1 else f\"{key}_{counter[key]}\"\n",
    "\n",
    "print(\"Done!\")"
   ]
  },
  {
   "cell_type": "markdown",
   "metadata": {},
   "source": [
    "### Generate Objects Selectors"
   ]
  },
  {
   "cell_type": "code",
   "execution_count": 10,
   "metadata": {},
   "outputs": [
    {
     "name": "stdout",
     "output_type": "stream",
     "text": [
      "Done!\n"
     ]
    }
   ],
   "source": [
    "def generate_selector(element, driver):\n",
    "    selectors = []\n",
    "\n",
    "    for attr in ['id', 'name', 'placeholder', 'aria-label', 'data-test-id', 'alt']:\n",
    "        if element.get(attr):\n",
    "            value = quoteattr(element[attr])\n",
    "            selectors.append(f\"@{attr}={value}\")\n",
    "\n",
    "\n",
    "    if selectors:\n",
    "        xpath_selector = f\"//{element.name}[{' and '.join(selectors)}]\"\n",
    "        elements_found = driver.find_elements(\"xpath\", xpath_selector)\n",
    "        if len(elements_found) == 1:\n",
    "            return xpath_selector\n",
    "\n",
    "\n",
    "    txt = element.get_text(strip=True)\n",
    "    if txt:\n",
    "        xpath_selector = f\"//{element.name}[contains(text(), {quoteattr(txt)})]\"\n",
    "        elements_found = driver.find_elements(\"xpath\", xpath_selector)\n",
    "        if len(elements_found) == 1:\n",
    "            return xpath_selector\n",
    "\n",
    "\n",
    "    if element.get('class'):\n",
    "        classes = '.'.join(element.get('class'))\n",
    "        xpath_selector = f\"//{element.name}[contains(@class, {quoteattr(classes)})]\"\n",
    "        elements_found = driver.find_elements(\"xpath\", xpath_selector)\n",
    "        if len(elements_found) == 1:\n",
    "            return xpath_selector\n",
    "\n",
    "    return None\n",
    "\n",
    "print(\"Done!\")"
   ]
  },
  {
   "cell_type": "markdown",
   "metadata": {},
   "source": [
    "### GUI"
   ]
  },
  {
   "cell_type": "code",
   "execution_count": 30,
   "metadata": {},
   "outputs": [
    {
     "data": {
      "application/vnd.jupyter.widget-view+json": {
       "model_id": "91e256fd70f24ac998131869f7a4adb7",
       "version_major": 2,
       "version_minor": 0
      },
      "text/plain": [
       "HBox(children=(Button(description='New Window', style=ButtonStyle()), Button(description='Inspect', style=Butt…"
      ]
     },
     "metadata": {},
     "output_type": "display_data"
    },
    {
     "data": {
      "application/vnd.jupyter.widget-view+json": {
       "model_id": "bd4f7a53f88d4988940b31eff03f286e",
       "version_major": 2,
       "version_minor": 0
      },
      "text/plain": [
       "GridspecLayout(children=(Label(value='Tag Name', layout=Layout(grid_area='widget001')), Label(value='Alias', l…"
      ]
     },
     "metadata": {},
     "output_type": "display_data"
    }
   ],
   "source": [
    "global test_window\n",
    "test_window = None\n",
    "\n",
    "\n",
    "def new_window(url, wait=0):\n",
    "    driver = webdriver.Chrome(service=service, options=chrome_options)\n",
    "    driver.get(url)\n",
    "    time.sleep(wait)\n",
    "    return driver\n",
    "\n",
    "\n",
    "def read_page_objects_metadata(driver):\n",
    "\n",
    "    html = driver.page_source.encode(\"utf-8\")\n",
    "    soup = BeautifulSoup(html, 'html.parser')\n",
    "    elements = soup.find_all(['input', 'button', 'a', 'img'])\n",
    "\n",
    "    counter = defaultdict(int)\n",
    "    result = defaultdict(list)\n",
    "\n",
    "    for element in elements:\n",
    "        tag = element.name\n",
    "        selector = generate_selector(element, driver)\n",
    "        key = generate_key(tag, element, counter)\n",
    "\n",
    "        result[tag].append({\n",
    "            \"key\": key,\n",
    "            \"selector\": selector,\n",
    "            \"attributes\": {attr: element.get(attr) for attr in element.attrs},\n",
    "            \"text\": element.get_text(strip=True),\n",
    "            \"visibility\": \"visible\" if element.get('type') != 'hidden' else \"invisible\"\n",
    "        })\n",
    "    return result\n",
    "\n",
    "\n",
    "def start_playground():\n",
    "    df = pd.DataFrame(columns=[\"Alias\", \"Key\", \"Selector\", \"Tag Name\", \"Visibility\", \"Select\"])\n",
    "    df_original = pd.DataFrame()\n",
    "    selected_rows = []\n",
    "\n",
    "\n",
    "    def on_new_window_clicked(b=None):\n",
    "        global test_window\n",
    "        try: \n",
    "            test_window.quit()\n",
    "        except: \n",
    "            pass  # ignore exceptions\n",
    "        test_window = new_window(\"https://life.stg.wellzesta.com/login\")\n",
    "\n",
    "\n",
    "    def on_metadata_clicked(b):\n",
    "        clear_output(wait=True)\n",
    "        global test_window, df\n",
    "        if test_window is None:\n",
    "            on_new_window_clicked()\n",
    "\n",
    "        metadata = read_page_objects_metadata(test_window)\n",
    "        rows = []\n",
    "        for tag_name, elements in metadata.items():\n",
    "            for element in elements:\n",
    "                rows.append({\n",
    "                    \"Tag Name\": tag_name,\n",
    "                    \"Alias\": element.get('key', ''),\n",
    "                    \"Selector\": element.get('selector', ''),\n",
    "                    \"Visibility\": element.get('visibility', ''),\n",
    "                    \"Attributes\": str(element.get('attributes', '')),  # Convertendo atributos em string para exibição\n",
    "                    \"Text\": element.get('text', ''),\n",
    "                    \"Select\": False  # Inicializando a coluna Select como False\n",
    "                })\n",
    "\n",
    "        df = pd.DataFrame(rows)\n",
    "        update_table()\n",
    "        print(f\"Page Objects Found: {len(metadata.items())}\")\n",
    "\n",
    "\n",
    "    def on_select_row(change, index):\n",
    "        print(change.new)\n",
    "        #df.loc[index, 'Select'] = change.new\n",
    "\n",
    "\n",
    "    def on_clear_selection_clicked(b):\n",
    "        global df\n",
    "        df['Select'] = False\n",
    "        update_table()\n",
    "\n",
    "\n",
    "    def on_filter_selected_clicked(b):\n",
    "        global df\n",
    "        df = df[df['Select'] == True]\n",
    "        update_table()\n",
    "\n",
    "\n",
    "    def on_filter_text_changed(change):\n",
    "        global df\n",
    "        filter_text = change.new.lower()\n",
    "        if filter_text:\n",
    "            df = df_original[df_original.apply(lambda row: filter_text in str(row).lower(), axis=1)]\n",
    "        else:\n",
    "            df = df_original\n",
    "        update_table()\n",
    "\n",
    "\n",
    "    def update_table():\n",
    "        global df\n",
    "\n",
    "        clear_output(wait=True)\n",
    "        display(widgets.HBox([new_window_button, metadata_button, filter_text, clear_selection_button, filter_selected_button]))\n",
    "        \n",
    "        # Cria um GridspecLayout para a exibição dos dados\n",
    "        grid = widgets.GridspecLayout(len(df) + 1, len(df.columns) + 1)  # +1 para a coluna de checkboxes\n",
    "\n",
    "        # Cabeçalhos\n",
    "        for i, col in enumerate(df.columns):\n",
    "            grid[0, i] = widgets.Label(value=col)\n",
    "        grid[0, len(df.columns)] = widgets.Label(value='Select')\n",
    "\n",
    "        # Dados e checkboxes\n",
    "        for i, (index, row) in enumerate(df.iterrows()):\n",
    "            for j, col in enumerate(df.columns):\n",
    "                if col == 'Select':  # Cria um checkbox para a coluna 'Select'\n",
    "                    checkbox = widgets.Checkbox(value=row[col])\n",
    "                    checkbox.observe(lambda change, index=index: on_select_row(change, index), names='value') \n",
    "                    grid[i + 1, j] = checkbox\n",
    "                else:\n",
    "                    value = row[col]\n",
    "                    grid[i + 1, j] = widgets.Label(value=str(value))\n",
    "\n",
    "        display(grid)\n",
    "\n",
    "\n",
    "\n",
    "\n",
    "    # Widgets\n",
    "    new_window_button = widgets.Button(description=\"New Window\")\n",
    "    metadata_button = widgets.Button(description=\"Inspect\")\n",
    "    clear_selection_button = widgets.Button(description=\"Clear Selection\")\n",
    "    filter_selected_button = widgets.Button(description=\"Filter Selected\")\n",
    "    filter_text = widgets.Text(placeholder='Type to filter...')\n",
    "    \n",
    "\n",
    "    # Eventos\n",
    "    new_window_button.on_click(on_new_window_clicked)\n",
    "    metadata_button.on_click(on_metadata_clicked)\n",
    "    clear_selection_button.on_click(on_clear_selection_clicked)\n",
    "    filter_selected_button.on_click(on_filter_selected_clicked)\n",
    "    filter_text.observe(on_filter_text_changed, names='value')\n",
    "\n",
    "\n",
    "    # Inicializa a interface sem dados\n",
    "    update_table()\n",
    "    \n",
    "\n",
    "print(\"Done!\")\n",
    "\n",
    "start_playground()"
   ]
  },
  {
   "cell_type": "markdown",
   "metadata": {},
   "source": [
    "## Playground"
   ]
  },
  {
   "cell_type": "code",
   "execution_count": 12,
   "metadata": {},
   "outputs": [
    {
     "data": {
      "text/html": [
       "<div class='datatable'>\n",
       "  <table class='frame'>\n",
       "  <thead>\n",
       "    <tr class='colnames'><td class='row_index'></td><th>Tag Name</th><th>Alias</th><th>Selector</th><th>Visibility</th><th>Attributes</th><th>Text</th></tr>\n",
       "    <tr class='coltypes'><td class='row_index'></td><td class='str' title='str32'>&#x25AA;&#x25AA;&#x25AA;&#x25AA;</td><td class='str' title='str32'>&#x25AA;&#x25AA;&#x25AA;&#x25AA;</td><td class='str' title='str32'>&#x25AA;&#x25AA;&#x25AA;&#x25AA;</td><td class='str' title='str32'>&#x25AA;&#x25AA;&#x25AA;&#x25AA;</td><td class='str' title='str32'>&#x25AA;&#x25AA;&#x25AA;&#x25AA;</td><td class='str' title='str32'>&#x25AA;&#x25AA;&#x25AA;&#x25AA;</td></tr>\n",
       "  </thead>\n",
       "  <tbody>\n",
       "    <tr><td class='row_index'>0</td><td>button</td><td>btn_Back</td><td>//button[contains(text(), \"Back\")]</td><td>visible</td><td>{'type': 'button', 'class': ['btn', 'action', 'focus-visible:ring-2', 'focus-visible:ring-offset-0',&#133;</td><td>Back</td></tr>\n",
       "    <tr><td class='row_index'>1</td><td>button</td><td>btn_Sign-in_using_PIN</td><td>//button[contains(text(), \"Sign-in using PIN\")]</td><td>visible</td><td>{'type': 'submit', 'class': ['btn', 'action', 'focus-visible:ring-2', 'focus-visible:ring-offset-0',&#133;</td><td>Sign-in using PIN</td></tr>\n",
       "    <tr><td class='row_index'>2</td><td>input</td><td>txt_email</td><td>//input[@id=\"email\" and @name=\"email\" and @placeholder=\"Type your email\"]</td><td>visible</td><td>{'type': 'email', 'class': ['px-2', 'w-full', 'rounded', 'h-11', 'bg-gray-300', 'font-bold', 'border&#133;</td><td></td></tr>\n",
       "    <tr><td class='row_index'>3</td><td>a</td><td>lnk_Terms_&amp;_Conditions</td><td><span class=na>NA</span></td><td>visible</td><td>{'class': ['action', 'focus-visible:ring-2', 'focus-visible:ring-offset-0', 'focus-visible:ring-blue&#133;</td><td>Terms &amp; Conditions</td></tr>\n",
       "    <tr><td class='row_index'>4</td><td>a</td><td>lnk_Sign-in_as_Community</td><td>//a[@data-test-id=\"login-as-community\"]</td><td>visible</td><td>{'class': ['action', 'focus-visible:ring-2', 'focus-visible:ring-offset-0', 'focus-visible:ring-blue&#133;</td><td>Sign-in as Community</td></tr>\n",
       "    <tr><td class='row_index'>5</td><td>a</td><td>lnk_using_PIN</td><td>//a[contains(text(), \"using PIN\")]</td><td>visible</td><td>{'class': ['action', 'focus-visible:ring-2', 'focus-visible:ring-offset-0', 'focus-visible:ring-blue&#133;</td><td>using PIN</td></tr>\n",
       "  </tbody>\n",
       "  </table>\n",
       "  <div class='footer'>\n",
       "    <div class='frame_dimensions'>6 rows &times; 6 columns</div>\n",
       "  </div>\n",
       "</div>\n"
      ],
      "text/plain": [
       "<Frame#115db8ed0 6x6>"
      ]
     },
     "metadata": {},
     "output_type": "display_data"
    }
   ],
   "source": [
    "start_playground()"
   ]
  }
 ],
 "metadata": {
  "kernelspec": {
   "display_name": "Python 3",
   "language": "python",
   "name": "python3"
  },
  "language_info": {
   "codemirror_mode": {
    "name": "ipython",
    "version": 3
   },
   "file_extension": ".py",
   "mimetype": "text/x-python",
   "name": "python",
   "nbconvert_exporter": "python",
   "pygments_lexer": "ipython3",
   "version": "3.10.13"
  }
 },
 "nbformat": 4,
 "nbformat_minor": 2
}
