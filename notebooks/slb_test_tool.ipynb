{
 "cells": [
  {
   "cell_type": "markdown",
   "metadata": {},
   "source": [
    "# SLB Test Tool"
   ]
  },
  {
   "cell_type": "markdown",
   "metadata": {},
   "source": [
    "## Setup"
   ]
  },
  {
   "cell_type": "markdown",
   "metadata": {},
   "source": [
    "### Install Selenium"
   ]
  },
  {
   "cell_type": "code",
   "execution_count": 1,
   "metadata": {},
   "outputs": [
    {
     "name": "stdout",
     "output_type": "stream",
     "text": [
      "All packages installed\n"
     ]
    }
   ],
   "source": [
    "from IPython.display import clear_output\n",
    "\n",
    "%pip install selenium \n",
    "clear_output(wait=True)\n",
    "\n",
    "%pip install webdriver_manager \n",
    "clear_output(wait=True)\n",
    "\n",
    "%pip install beautifulsoup4\n",
    "clear_output(wait=True)\n",
    "\n",
    "%pip install pandas \n",
    "clear_output(wait=True)\n",
    "\n",
    "%pip install ipywidgets\n",
    "clear_output()\n",
    "\n",
    "print(\"All packages installed\")"
   ]
  },
  {
   "cell_type": "code",
   "execution_count": 2,
   "metadata": {},
   "outputs": [
    {
     "name": "stdout",
     "output_type": "stream",
     "text": [
      "Done!\n"
     ]
    }
   ],
   "source": [
    "from selenium import webdriver\n",
    "from webdriver_manager.chrome import ChromeDriverManager\n",
    "from selenium.webdriver.chrome.service import Service\n",
    "from selenium.webdriver.chrome.options import Options\n",
    "from selenium.webdriver.common.by import By\n",
    "from selenium.common.exceptions import NoSuchElementException\n",
    "\n",
    "from bs4 import BeautifulSoup\n",
    "from collections import defaultdict\n",
    "from xml.sax.saxutils import quoteattr\n",
    "from IPython.display import display, Javascript\n",
    "from ipywidgets import HTML\n",
    "\n",
    "import ipywidgets as widgets\n",
    "import pandas as pd\n",
    "import time\n",
    "import json\n",
    "\n",
    "prefs = {\"profile.default_content_setting_values.notifications\": 1}\n",
    "chrome_options = Options()\n",
    "#chrome_options.add_argument(\"--headless\")\n",
    "chrome_options.add_experimental_option(\"prefs\", prefs)\n",
    "\n",
    "service = Service(ChromeDriverManager().install())\n",
    "driver = webdriver.Chrome(service=service, options=chrome_options)\n",
    "driver.quit()\n",
    "\n",
    "def new_window(url, wait=0):\n",
    "    driver = webdriver.Chrome(service=service, options=chrome_options)\n",
    "    driver.get(url)\n",
    "    time.sleep(wait)\n",
    "    return driver\n",
    "\n",
    "def highlight_element(driver, selector):\n",
    "    script = f\"\"\"\n",
    "    var element = document.evaluate('{selector}', document, null, XPathResult.FIRST_ORDERED_NODE_TYPE, null).singleNodeValue;\n",
    "    if (element) {{\n",
    "        var originalStyle = element.style.border;\n",
    "        var count = 0;\n",
    "        var interval = setInterval(function() {{\n",
    "            count += 1;\n",
    "            element.style.border = count % 2 ? '3px solid red' : '';\n",
    "            if (count > 9) {{\n",
    "                clearInterval(interval);\n",
    "                element.style.border = originalStyle;\n",
    "            }}\n",
    "        }}, 500);\n",
    "    }}\n",
    "    \"\"\"\n",
    "    try:\n",
    "        driver.execute_script(script)\n",
    "    except Exception as e:\n",
    "        print(\"Error while highlighting the element:\", e)\n",
    "\n",
    "\n",
    "clear_output()\n",
    "print(\"Done!\")"
   ]
  },
  {
   "cell_type": "markdown",
   "metadata": {},
   "source": [
    "## Source Code"
   ]
  },
  {
   "cell_type": "markdown",
   "metadata": {},
   "source": [
    "### Generate Objects Keys"
   ]
  },
  {
   "cell_type": "code",
   "execution_count": 3,
   "metadata": {},
   "outputs": [
    {
     "name": "stdout",
     "output_type": "stream",
     "text": [
      "Done!\n"
     ]
    }
   ],
   "source": [
    "def generate_key(tag, element, counter):\n",
    "    base = {\"input\": \"txt\", \"button\": \"btn\", \"a\": \"lnk\", \"img\": \"img\"}\n",
    "    prefix = base.get(tag, \"elem\")\n",
    "\n",
    "    parts = [prefix]\n",
    "    \n",
    "    txt = element.get_text(strip=True)\n",
    "    if txt:\n",
    "        parts.append(txt.replace(\" \", \"_\"))\n",
    "        return key_builder(parts, counter)\n",
    "    \n",
    "    if element.get('name'):\n",
    "        parts.append(element['name'])\n",
    "        return key_builder(parts, counter)\n",
    "    \n",
    "    if element.get('aria-label'):\n",
    "        parts.append(element['aria-label'].replace(\" \", \"_\"))\n",
    "        return key_builder(parts, counter)\n",
    "\n",
    "    if element.get('id'):\n",
    "        parts.append(element['id'])\n",
    "        return key_builder(parts, counter)\n",
    "    \n",
    "    if element.get('data-test-id'):\n",
    "        parts.append(element['data-test-id'])\n",
    "        return key_builder(parts, counter)\n",
    "    \n",
    "    return key_builder(parts, counter)\n",
    "\n",
    "\n",
    "def key_builder(parts, counter):\n",
    "    key = '_'.join(filter(None, parts)).lower().replace(\"-\", \"_\")\n",
    "    counter[key] += 1\n",
    "    return key if counter[key] == 1 else f\"{key}_{counter[key]}\"\n",
    "\n",
    "print(\"Done!\")"
   ]
  },
  {
   "cell_type": "markdown",
   "metadata": {},
   "source": [
    "### Generate Objects Selectors"
   ]
  },
  {
   "cell_type": "code",
   "execution_count": 4,
   "metadata": {},
   "outputs": [
    {
     "name": "stdout",
     "output_type": "stream",
     "text": [
      "Done!\n"
     ]
    }
   ],
   "source": [
    "def generate_selector(element, driver):\n",
    "    selectors = []\n",
    "\n",
    "    for attr in ['id', 'name', 'placeholder', 'aria-label', 'data-test-id', 'alt']:\n",
    "        if element.get(attr):\n",
    "            value = quoteattr(element[attr])\n",
    "            selectors.append(f\"@{attr}={value}\")\n",
    "\n",
    "\n",
    "    if selectors:\n",
    "        xpath_selector = f\"//{element.name}[{' and '.join(selectors)}]\"\n",
    "        elements_found = driver.find_elements(\"xpath\", xpath_selector)\n",
    "        if len(elements_found) == 1:\n",
    "            return xpath_selector\n",
    "\n",
    "\n",
    "    txt = element.get_text(strip=True)\n",
    "    if txt:\n",
    "        xpath_selector = f\"//{element.name}[contains(text(), {quoteattr(txt)})]\"\n",
    "        elements_found = driver.find_elements(\"xpath\", xpath_selector)\n",
    "        if len(elements_found) == 1:\n",
    "            return xpath_selector\n",
    "\n",
    "\n",
    "    if element.get('class'):\n",
    "        classes = '.'.join(element.get('class'))\n",
    "        xpath_selector = f\"//{element.name}[contains(@class, {quoteattr(classes)})]\"\n",
    "        elements_found = driver.find_elements(\"xpath\", xpath_selector)\n",
    "        if len(elements_found) == 1:\n",
    "            return xpath_selector\n",
    "\n",
    "    return None\n",
    "\n",
    "print(\"Done!\")"
   ]
  },
  {
   "cell_type": "markdown",
   "metadata": {},
   "source": [
    "### Generate Objects Selectors"
   ]
  },
  {
   "cell_type": "code",
   "execution_count": 5,
   "metadata": {},
   "outputs": [],
   "source": [
    "\n",
    "def read_page_objects_metadata(driver):\n",
    "\n",
    "    html = driver.page_source.encode(\"utf-8\")\n",
    "    soup = BeautifulSoup(html, 'html.parser')\n",
    "    elements = soup.find_all(['input', 'button', 'a', 'img'])\n",
    "\n",
    "    counter = defaultdict(int)\n",
    "    result = defaultdict(list)\n",
    "\n",
    "    for element in elements:\n",
    "        tag = element.name\n",
    "        selector = generate_selector(element, driver)\n",
    "        key = generate_key(tag, element, counter)\n",
    "\n",
    "        result[tag].append({\n",
    "            \"key\": key,\n",
    "            \"selector\": selector,\n",
    "            \"attributes\": {attr: element.get(attr) for attr in element.attrs},\n",
    "            \"text\": element.get_text(strip=True),\n",
    "            \"visibility\": \"visible\" if element.get('type') != 'hidden' else \"invisible\"\n",
    "        })\n",
    "    return result\n"
   ]
  },
  {
   "cell_type": "markdown",
   "metadata": {},
   "source": [
    "## GUI Componets"
   ]
  },
  {
   "cell_type": "markdown",
   "metadata": {},
   "source": [
    "### Toolbar"
   ]
  },
  {
   "cell_type": "code",
   "execution_count": 6,
   "metadata": {},
   "outputs": [],
   "source": [
    "\n",
    "class Toolbar:\n",
    "    def __init__(self):\n",
    "        self.new_window_button = widgets.Button(description=\"New Window\") \n",
    "        self.inspect_button = widgets.Button(description=\"Inspect\") \n",
    "        self.filter_text = widgets.Text(placeholder='Type to filter...') \n",
    "        self.export_button = widgets.Button(description=\"Export Selected\")\n",
    "        self.content = widgets.HBox([self.new_window_button, \n",
    "                                   self.inspect_button, \n",
    "                                   self.filter_text, \n",
    "                                   self.export_button])"
   ]
  },
  {
   "cell_type": "markdown",
   "metadata": {},
   "source": [
    "### Table"
   ]
  },
  {
   "cell_type": "code",
   "execution_count": 7,
   "metadata": {},
   "outputs": [],
   "source": [
    "\n",
    "class Table:\n",
    "\n",
    "    def __init__(self, df=None):\n",
    "        self.content = widgets.HBox()\n",
    "\n",
    "        self.export_event = None\n",
    "        self.data_event = None\n",
    "        self.web_event = None\n",
    "\n",
    "        self.data = df if df is not None else pd.DataFrame(\n",
    "            columns=[\"Alias\", \"Text\", \"Web\", \"Export\", \"Data\", \"Type\", \"Att\"])\n",
    "        self.reload()\n",
    "\n",
    "    def try_fire_export_event(self, b, index):\n",
    "        if self.export_event is not None:\n",
    "            self.export_event(b, index)\n",
    "\n",
    "    def try_fire_data_event(self, b, index):\n",
    "        if self.data_event is not None:\n",
    "            dt = self.data[\"Data\"][index]\n",
    "            self.data_event(dt, index)\n",
    "\n",
    "    def try_fire_web_event(self, b, index):\n",
    "        if self.web_event is not None:\n",
    "            self.web_event(b, index)\n",
    "\n",
    "    def reload(self, df=None):\n",
    "\n",
    "        if df is not None: self.data = df\n",
    "        df = self.data\n",
    "        lines = len(self.data) + 1\n",
    "        grid = widgets.GridspecLayout(lines, 3)\n",
    "\n",
    "        for i in range(lines):\n",
    "            if i == 0: \n",
    "                grid[i, 0] = widgets.HTML(value=\"<b>Alias</b>\")\n",
    "                grid[i, 1] = widgets.HTML(value=\"<b>Text</b>\")\n",
    "                continue\n",
    "            \n",
    "            cell_value_alias = getattr(df.iloc[i-1], \"Alias\", '') if i > 0 else ''\n",
    "            cell_value_web = getattr(df.iloc[i-1], \"Web\", '') if i > 0 else ''\n",
    "            cell_value_text = getattr(df.iloc[i-1], \"Text\", '') if i > 0 else ''\n",
    "\n",
    "            pnl = widgets.HBox([\n",
    "                widgets.Button(description=\"N\", layout=widgets.Layout(width='50px', height='30px')),\n",
    "                widgets.Button(tooltip=cell_value_web, icon='eye', layout=widgets.Layout(width='50px', height='30px')),\n",
    "                widgets.Button(icon='table', layout=widgets.Layout(width='50px', height='30px'))\n",
    "            ], layout=widgets.Layout(width='auto', height='auto', weight='0'))\n",
    "\n",
    "            pnl.children[0].on_click(lambda b, index=i-1: self.try_fire_export_event(b, index))\n",
    "            pnl.children[1].on_click(lambda b, index=i-1: self.try_fire_web_event(b, index))\n",
    "            pnl.children[2].on_click(lambda b, index=i-1: self.try_fire_data_event(b, index))\n",
    "\n",
    "            grid[i, 0] = widgets.Text(value=str(cell_value_alias), layout=widgets.Layout(width='auto', weight='2'))        \n",
    "            grid[i, 1] = widgets.Text(value=str(cell_value_text), layout=widgets.Layout(width='auto', weight='3'), disabled=True)\n",
    "            grid[i, 2] = pnl\n",
    "\n",
    "        self.content.children = [grid]\n"
   ]
  },
  {
   "cell_type": "markdown",
   "metadata": {},
   "source": [
    "### Properties"
   ]
  },
  {
   "cell_type": "code",
   "execution_count": 8,
   "metadata": {},
   "outputs": [
    {
     "data": {
      "application/vnd.jupyter.widget-view+json": {
       "model_id": "bc23b96298ad4ffeb3b62b4e19bfe3f8",
       "version_major": 2,
       "version_minor": 0
      },
      "text/plain": [
       "HBox(children=(GridspecLayout(children=(HTML(value='<b>Property</b>', layout=Layout(grid_area='widget001', wid…"
      ]
     },
     "metadata": {},
     "output_type": "display_data"
    }
   ],
   "source": [
    "class Properties:\n",
    "    \n",
    "    def __init__(self, properties={}):        \n",
    "        self.content = widgets.HBox()\n",
    "        self.reload(properties)\n",
    "\n",
    "    def reload(self, properties={}):\n",
    "        num_props = len(properties)\n",
    "        grid = widgets.GridspecLayout(num_props + 1, 2, width='490px')\n",
    "        grid[0, 0] = widgets.HTML(value=\"<b>Property</b>\", layout=widgets.Layout(width='80px'))\n",
    "        grid[0, 1] = widgets.HTML(value=\"<b>Value</b>\", layout=widgets.Layout(width='400px'))  \n",
    "\n",
    "        i = 0\n",
    "        for i, (key, value) in enumerate(properties.items(), start=1):\n",
    "            grid[i, 0] = widgets.Text(value=key, layout=widgets.Layout(width='80px'), disabled=True, bold=True)\n",
    "            grid[i, 1] = widgets.Text(value=str(value), layout=widgets.Layout(width='400px'))\n",
    "\n",
    "        self.content.children = [grid]\n",
    "\n",
    "# Sample\n",
    "data = {\n",
    "    'key': 'btn_back', \n",
    "    'selector': '//button[contains(text(), \"Back\")]', \n",
    "    'text': 'Back', \n",
    "    'visibility': 'visible', \n",
    "    'type': 'button', \n",
    "    'class': ['btn', 'action', 'focus-visible:ring-2', 'focus-visible:ring-offset-0', 'focus-visible:ring-blue-400', 'flex', 'justify-center', 'items-center', 'is-sm', 'is-primary']\n",
    "}\n",
    "props = Properties(data)\n",
    "display(props.content)\n"
   ]
  },
  {
   "cell_type": "markdown",
   "metadata": {},
   "source": [
    "### Window"
   ]
  },
  {
   "cell_type": "code",
   "execution_count": 9,
   "metadata": {},
   "outputs": [],
   "source": [
    "class Window():\n",
    "\n",
    "    def __init__(self): \n",
    "\n",
    "        self.dataframe = pd.DataFrame(\n",
    "            columns=[\"Alias\", \"Text\", \"Web\", \"Export\", \"Data\", \"Type\", \"Att\"])\n",
    "\n",
    "        self.properties = Properties()\n",
    "        self.toolbar = Toolbar()\n",
    "        self.table = Table(self.dataframe)\n",
    "\n",
    "        self.grid = widgets.GridspecLayout(1, 2)\n",
    "        self.grid[0,0] = self.table.content\n",
    "        #self.grid[0,1] = self.properties.content \n",
    "\n",
    "\n",
    "    def redraw(self):\n",
    "        #Sclear_output(wait=True)\n",
    "        display(self.toolbar.content)\n",
    "        display(self.grid)\n",
    "\n",
    "    def reload(self, df, props):\n",
    "        self.dataframe = df\n",
    "        self.properties.reload(props)\n",
    "        self.table.reload(df)"
   ]
  },
  {
   "cell_type": "markdown",
   "metadata": {},
   "source": [
    "## GUI Events"
   ]
  },
  {
   "cell_type": "code",
   "execution_count": 10,
   "metadata": {},
   "outputs": [],
   "source": [
    "def on_new_window_clicked(b=None):\n",
    "    global test_window\n",
    "    try: test_window.quit()\n",
    "    except: pass\n",
    "    test_window = new_window(\"https://life.stg.wellzesta.com/login\")\n",
    "\n",
    "\n",
    "def on_inspect_clicked(b=None, window=None):\n",
    "    \n",
    "    global test_window\n",
    "    if test_window is None:\n",
    "        on_new_window_clicked()\n",
    "\n",
    "    metadata = read_page_objects_metadata(test_window)\n",
    "    rows = []\n",
    "\n",
    "    for tag_name, elements in metadata.items():\n",
    "        for element in elements:\n",
    "\n",
    "            att = element.pop('attributes', {})\n",
    "            clazz =  att.pop('class', [])\n",
    "\n",
    "            for k, v in att.items():\n",
    "                element[k] = v\n",
    "\n",
    "            element['class'] = clazz\n",
    "            rows.append({\n",
    "                \"Export\": False,\n",
    "                \"Alias\": element.get('key', ''),\n",
    "                \"Web\": element.get('selector', ''),\n",
    "                \"Type\": tag_name,\n",
    "                \"Text\": element.get('text', ''),\n",
    "                \"Data\": element,\n",
    "            })\n",
    "\n",
    "    df = pd.DataFrame(rows)\n",
    "    window.reload(df, {})\n",
    "    print(\"Done!\")\n",
    "\n",
    "\n",
    "def start_playground():\n",
    "    window = Window()\n",
    "    toolbar = window.toolbar\n",
    "    toolbar.new_window_button.on_click(on_new_window_clicked)\n",
    "    toolbar.inspect_button.on_click(lambda b: on_inspect_clicked(b, window))\n",
    "\n",
    "    props = window.properties\n",
    "    def on_properties_clicked(b=None, index=-1):\n",
    "        try:props.reload(b)\n",
    "        except:pass\n",
    "\n",
    "    window.table.data_event = on_properties_clicked\n",
    "    display(props.content)\n",
    "    window.redraw()\n"
   ]
  },
  {
   "cell_type": "markdown",
   "metadata": {},
   "source": [
    "## Playground"
   ]
  },
  {
   "cell_type": "code",
   "execution_count": 11,
   "metadata": {},
   "outputs": [
    {
     "ename": "NameError",
     "evalue": "name 'df' is not defined",
     "output_type": "error",
     "traceback": [
      "\u001b[0;31m---------------------------------------------------------------------------\u001b[0m",
      "\u001b[0;31mNameError\u001b[0m                                 Traceback (most recent call last)",
      "Cell \u001b[0;32mIn[11], line 27\u001b[0m\n\u001b[1;32m      1\u001b[0m README \u001b[38;5;241m=\u001b[39m \u001b[38;5;124m\"\"\"\u001b[39m\n\u001b[1;32m      2\u001b[0m \u001b[38;5;124mWhen a DEV loves a QA\u001b[39m\n\u001b[1;32m      3\u001b[0m \u001b[38;5;124mCan\u001b[39m\u001b[38;5;124m'\u001b[39m\u001b[38;5;124mt keep his mind on any code\u001b[39m\n\u001b[0;32m   (...)\u001b[0m\n\u001b[1;32m     24\u001b[0m \u001b[38;5;124mTogether they\u001b[39m\u001b[38;5;124m'\u001b[39m\u001b[38;5;124mre a code-quality duet\u001b[39m\n\u001b[1;32m     25\u001b[0m \u001b[38;5;124m\"\"\"\u001b[39m\n\u001b[0;32m---> 27\u001b[0m \u001b[43mstart_playground\u001b[49m\u001b[43m(\u001b[49m\u001b[43m)\u001b[49m\n",
      "Cell \u001b[0;32mIn[10], line 42\u001b[0m, in \u001b[0;36mstart_playground\u001b[0;34m()\u001b[0m\n\u001b[1;32m     41\u001b[0m \u001b[38;5;28;01mdef\u001b[39;00m \u001b[38;5;21mstart_playground\u001b[39m():\n\u001b[0;32m---> 42\u001b[0m     window \u001b[38;5;241m=\u001b[39m \u001b[43mWindow\u001b[49m\u001b[43m(\u001b[49m\u001b[43m)\u001b[49m\n\u001b[1;32m     43\u001b[0m     toolbar \u001b[38;5;241m=\u001b[39m window\u001b[38;5;241m.\u001b[39mtoolbar\n\u001b[1;32m     44\u001b[0m     toolbar\u001b[38;5;241m.\u001b[39mnew_window_button\u001b[38;5;241m.\u001b[39mon_click(on_new_window_clicked)\n",
      "Cell \u001b[0;32mIn[9], line 5\u001b[0m, in \u001b[0;36mWindow.__init__\u001b[0;34m(self)\u001b[0m\n\u001b[1;32m      3\u001b[0m \u001b[38;5;28;01mdef\u001b[39;00m \u001b[38;5;21m__init__\u001b[39m(\u001b[38;5;28mself\u001b[39m): \n\u001b[0;32m----> 5\u001b[0m     \u001b[38;5;28mself\u001b[39m\u001b[38;5;241m.\u001b[39mdataframe \u001b[38;5;241m=\u001b[39m \u001b[43mdf\u001b[49m\n\u001b[1;32m      6\u001b[0m     \u001b[38;5;28;01mif\u001b[39;00m \u001b[38;5;28mself\u001b[39m\u001b[38;5;241m.\u001b[39mdataframe \u001b[38;5;129;01mis\u001b[39;00m \u001b[38;5;28;01mNone\u001b[39;00m: \n\u001b[1;32m      7\u001b[0m         \u001b[38;5;28mself\u001b[39m\u001b[38;5;241m.\u001b[39mdataframe \u001b[38;5;241m=\u001b[39m pd\u001b[38;5;241m.\u001b[39mDataFrame(\n\u001b[1;32m      8\u001b[0m             columns\u001b[38;5;241m=\u001b[39m[\u001b[38;5;124m\"\u001b[39m\u001b[38;5;124mAlias\u001b[39m\u001b[38;5;124m\"\u001b[39m, \u001b[38;5;124m\"\u001b[39m\u001b[38;5;124mText\u001b[39m\u001b[38;5;124m\"\u001b[39m, \u001b[38;5;124m\"\u001b[39m\u001b[38;5;124mWeb\u001b[39m\u001b[38;5;124m\"\u001b[39m, \u001b[38;5;124m\"\u001b[39m\u001b[38;5;124mExport\u001b[39m\u001b[38;5;124m\"\u001b[39m, \u001b[38;5;124m\"\u001b[39m\u001b[38;5;124mData\u001b[39m\u001b[38;5;124m\"\u001b[39m, \u001b[38;5;124m\"\u001b[39m\u001b[38;5;124mType\u001b[39m\u001b[38;5;124m\"\u001b[39m, \u001b[38;5;124m\"\u001b[39m\u001b[38;5;124mAtt\u001b[39m\u001b[38;5;124m\"\u001b[39m])\n",
      "\u001b[0;31mNameError\u001b[0m: name 'df' is not defined"
     ]
    }
   ],
   "source": [
    "README = \"\"\"\n",
    "When a DEV loves a QA\n",
    "Can't keep his mind on any code\n",
    "He'd debug all the errors\n",
    "For the quality she's known\n",
    "\n",
    "Yes, she's tough, oh so demanding\n",
    "But he's the champ, codes so well\n",
    "Even writes a testing framework\n",
    "Just to make her world excel\n",
    "\n",
    "Turns his back on his shortcuts\n",
    "If they don't pass her test\n",
    "When a DEV loves a QA\n",
    "He's precise in every line\n",
    "Crafting codes she envisioned\n",
    "\n",
    "He'd give up all his shortcuts\n",
    "And embrace the cleaner code\n",
    "If she said that's the way\n",
    "It ought to be\n",
    "\n",
    "Though she's strict, he's so adept\n",
    "Together they're a code-quality duet\n",
    "\"\"\"\n",
    "\n",
    "start_playground()"
   ]
  }
 ],
 "metadata": {
  "kernelspec": {
   "display_name": "Python 3",
   "language": "python",
   "name": "python3"
  },
  "language_info": {
   "codemirror_mode": {
    "name": "ipython",
    "version": 3
   },
   "file_extension": ".py",
   "mimetype": "text/x-python",
   "name": "python",
   "nbconvert_exporter": "python",
   "pygments_lexer": "ipython3",
   "version": "3.10.13"
  }
 },
 "nbformat": 4,
 "nbformat_minor": 2
}
