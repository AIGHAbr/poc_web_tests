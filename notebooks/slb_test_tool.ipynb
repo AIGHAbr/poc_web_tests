{
 "cells": [
  {
   "cell_type": "markdown",
   "metadata": {},
   "source": [
    "# SLB Test Tool"
   ]
  },
  {
   "cell_type": "markdown",
   "metadata": {},
   "source": [
    "## Selenium"
   ]
  },
  {
   "cell_type": "markdown",
   "metadata": {},
   "source": [
    "### Setup"
   ]
  },
  {
   "cell_type": "code",
   "execution_count": 149,
   "metadata": {},
   "outputs": [
    {
     "name": "stdout",
     "output_type": "stream",
     "text": [
      "All packages installed\n"
     ]
    }
   ],
   "source": [
    "from IPython.display import clear_output\n",
    "\n",
    "%pip install selenium \n",
    "clear_output(wait=True)\n",
    "\n",
    "%pip install webdriver_manager \n",
    "clear_output(wait=True)\n",
    "\n",
    "%pip install beautifulsoup4\n",
    "clear_output(wait=True)\n",
    "\n",
    "%pip install pandas \n",
    "clear_output(wait=True)\n",
    "\n",
    "%pip install ipywidgets\n",
    "clear_output()\n",
    "\n",
    "print(\"All packages installed\")"
   ]
  },
  {
   "cell_type": "code",
   "execution_count": 150,
   "metadata": {},
   "outputs": [
    {
     "name": "stdout",
     "output_type": "stream",
     "text": [
      "Done!\n"
     ]
    }
   ],
   "source": [
    "from selenium import webdriver\n",
    "from webdriver_manager.chrome import ChromeDriverManager\n",
    "from selenium.webdriver.chrome.service import Service\n",
    "from selenium.webdriver.chrome.options import Options\n",
    "from selenium.webdriver.common.by import By\n",
    "from selenium.common.exceptions import NoSuchElementException\n",
    "\n",
    "from bs4 import BeautifulSoup\n",
    "from collections import defaultdict\n",
    "from xml.sax.saxutils import quoteattr\n",
    "from IPython.display import display, Javascript\n",
    "from ipywidgets import HTML\n",
    "\n",
    "import ipywidgets as widgets\n",
    "import pandas as pd\n",
    "import time\n",
    "import json\n",
    "\n",
    "prefs = {\"profile.default_content_setting_values.notifications\": 1}\n",
    "chrome_options = Options()\n",
    "#chrome_options.add_argument(\"--headless\")\n",
    "chrome_options.add_experimental_option(\"prefs\", prefs)\n",
    "\n",
    "service = Service(ChromeDriverManager().install())\n",
    "driver = webdriver.Chrome(service=service, options=chrome_options)\n",
    "driver.quit()\n",
    "\n",
    "def new_window(url, wait=0):\n",
    "    driver = webdriver.Chrome(service=service, options=chrome_options)\n",
    "    driver.get(url)\n",
    "    time.sleep(wait)\n",
    "    return driver\n",
    "\n",
    "def highlight_element(driver, selector):\n",
    "    script = f\"\"\"\n",
    "    var element = document.evaluate('{selector}', document, null, XPathResult.FIRST_ORDERED_NODE_TYPE, null).singleNodeValue;\n",
    "    if (element) {{\n",
    "        var originalStyle = element.style.border;\n",
    "        var count = 0;\n",
    "        var interval = setInterval(function() {{\n",
    "            count += 1;\n",
    "            element.style.border = count % 2 ? '3px solid red' : '';\n",
    "            if (count > 9) {{\n",
    "                clearInterval(interval);\n",
    "                element.style.border = originalStyle;\n",
    "            }}\n",
    "        }}, 500);\n",
    "    }}\n",
    "    \"\"\"\n",
    "    try:\n",
    "        driver.execute_script(script)\n",
    "    except Exception as e:\n",
    "        print(\"Error while highlighting the element:\", e)\n",
    "\n",
    "\n",
    "clear_output()\n",
    "print(\"Done!\")"
   ]
  },
  {
   "cell_type": "markdown",
   "metadata": {},
   "source": [
    "### Source Code"
   ]
  },
  {
   "cell_type": "code",
   "execution_count": 151,
   "metadata": {},
   "outputs": [
    {
     "name": "stdout",
     "output_type": "stream",
     "text": [
      "Done!\n"
     ]
    }
   ],
   "source": [
    "# generate keys\n",
    "def generate_key(tag, element, counter):\n",
    "    base = {\"input\": \"txt\", \"button\": \"btn\", \"a\": \"lnk\", \"img\": \"img\"}\n",
    "    prefix = base.get(tag, \"elem\")\n",
    "\n",
    "    parts = [prefix]\n",
    "    \n",
    "    txt = element.get_text(strip=True)\n",
    "    if txt:\n",
    "        parts.append(txt.replace(\" \", \"_\"))\n",
    "        return key_builder(parts, counter)\n",
    "    \n",
    "    if element.get('name'):\n",
    "        parts.append(element['name'])\n",
    "        return key_builder(parts, counter)\n",
    "    \n",
    "    if element.get('aria-label'):\n",
    "        parts.append(element['aria-label'].replace(\" \", \"_\"))\n",
    "        return key_builder(parts, counter)\n",
    "\n",
    "    if element.get('id'):\n",
    "        parts.append(element['id'])\n",
    "        return key_builder(parts, counter)\n",
    "    \n",
    "    if element.get('data-test-id'):\n",
    "        parts.append(element['data-test-id'])\n",
    "        return key_builder(parts, counter)\n",
    "    \n",
    "    return key_builder(parts, counter)\n",
    "\n",
    "\n",
    "def key_builder(parts, counter):\n",
    "    key = '_'.join(filter(None, parts)).lower().replace(\"-\", \"_\")\n",
    "    counter[key] += 1\n",
    "    return key if counter[key] == 1 else f\"{key}_{counter[key]}\"\n",
    "\n",
    "print(\"Done!\")"
   ]
  },
  {
   "cell_type": "code",
   "execution_count": 152,
   "metadata": {},
   "outputs": [
    {
     "name": "stdout",
     "output_type": "stream",
     "text": [
      "Done!\n"
     ]
    }
   ],
   "source": [
    "# Generate Selectors\n",
    "def generate_selector(element, driver):\n",
    "    selectors = []\n",
    "\n",
    "    for attr in ['id', 'name', 'placeholder', 'aria-label', 'data-test-id', 'alt']:\n",
    "        if element.get(attr):\n",
    "            value = quoteattr(element[attr])\n",
    "            selectors.append(f\"@{attr}={value}\")\n",
    "\n",
    "\n",
    "    if selectors:\n",
    "        xpath_selector = f\"//{element.name}[{' and '.join(selectors)}]\"\n",
    "        elements_found = driver.find_elements(\"xpath\", xpath_selector)\n",
    "        if len(elements_found) == 1:\n",
    "            return xpath_selector\n",
    "\n",
    "\n",
    "    txt = element.get_text(strip=True)\n",
    "    if txt:\n",
    "        xpath_selector = f\"//{element.name}[contains(text(), {quoteattr(txt)})]\"\n",
    "        elements_found = driver.find_elements(\"xpath\", xpath_selector)\n",
    "        if len(elements_found) == 1:\n",
    "            return xpath_selector\n",
    "\n",
    "\n",
    "    if element.get('class'):\n",
    "        classes = '.'.join(element.get('class'))\n",
    "        xpath_selector = f\"//{element.name}[contains(@class, {quoteattr(classes)})]\"\n",
    "        elements_found = driver.find_elements(\"xpath\", xpath_selector)\n",
    "        if len(elements_found) == 1:\n",
    "            return xpath_selector\n",
    "\n",
    "    return None\n",
    "\n",
    "print(\"Done!\")"
   ]
  },
  {
   "cell_type": "code",
   "execution_count": 153,
   "metadata": {},
   "outputs": [],
   "source": [
    "# read page objects\n",
    "\n",
    "def read_page_objects_metadata(driver):\n",
    "\n",
    "    html = driver.page_source.encode(\"utf-8\")\n",
    "    soup = BeautifulSoup(html, 'html.parser')\n",
    "    elements = soup.find_all(['input', 'button', 'a', 'img'])\n",
    "\n",
    "    counter = defaultdict(int)\n",
    "    result = defaultdict(list)\n",
    "\n",
    "    for element in elements:\n",
    "        tag = element.name\n",
    "        selector = generate_selector(element, driver)\n",
    "        key = generate_key(tag, element, counter)\n",
    "\n",
    "        result[tag].append({\n",
    "            \"key\": key,\n",
    "            \"selector\": selector,\n",
    "            \"attributes\": {attr: element.get(attr) for attr in element.attrs},\n",
    "            \"text\": element.get_text(strip=True),\n",
    "            \"visibility\": \"visible\" if element.get('type') != 'hidden' else \"invisible\"\n",
    "        })\n",
    "    return result\n"
   ]
  },
  {
   "cell_type": "markdown",
   "metadata": {},
   "source": [
    "## Playground"
   ]
  },
  {
   "cell_type": "markdown",
   "metadata": {},
   "source": [
    "### GUI Widgets"
   ]
  },
  {
   "cell_type": "code",
   "execution_count": 154,
   "metadata": {},
   "outputs": [],
   "source": [
    "class Toolbar:\n",
    "    def __init__(self):\n",
    "        self.new_window_button = widgets.Button(description=\"New Window\") \n",
    "        self.inspect_button = widgets.Button(description=\"Inspect\") \n",
    "        self.filter_text = widgets.Text(placeholder='Type to filter...') \n",
    "        self.export_button = widgets.Button(description=\"Export Selected\")\n",
    "        self.content = widgets.HBox([self.new_window_button, \n",
    "                                   self.inspect_button, \n",
    "                                   self.filter_text, \n",
    "                                   self.export_button])"
   ]
  },
  {
   "cell_type": "code",
   "execution_count": 155,
   "metadata": {},
   "outputs": [],
   "source": [
    "class Table:\n",
    "\n",
    "    def __init__(self, df=None):\n",
    "        self.content = widgets.HBox()\n",
    "\n",
    "        self.data_event = None\n",
    "        self.web_event = None\n",
    "\n",
    "        self.data = df if df is not None else pd.DataFrame(\n",
    "            columns=[\"Alias\", \"Text\", \"Web\", \"Export\", \"Data\", \"Type\", \"Att\"])\n",
    "        self.reload()\n",
    "\n",
    "    def try_fire_data_event(self, b, index):\n",
    "        if self.data_event is not None:\n",
    "            dt = self.data[\"Data\"][index]\n",
    "            self.data_event(dt)\n",
    "\n",
    "    def try_fire_export_event(self, b, index):\n",
    "        dt = self.data[\"Data\"][index]\n",
    "        self.data_event(dt)\n",
    "\n",
    "        if b.description == \"N\":\n",
    "            b.description = \"Y\"\n",
    "            return\n",
    "        b.description = \"N\"\n",
    "\n",
    "    def try_fire_web_event(self, b, index):\n",
    "        dt = self.data[\"Data\"][index]\n",
    "        self.data_event(dt)\n",
    "        \n",
    "        global test_window\n",
    "        highlight_element(test_window, self.data[\"Web\"][index])\n",
    "\n",
    "    def reload(self, df=None):\n",
    "\n",
    "        if df is not None: self.data = df\n",
    "        df = self.data\n",
    "        lines = len(self.data) + 1\n",
    "        grid = widgets.GridspecLayout(lines, 2)\n",
    "\n",
    "        for i in range(lines):\n",
    "            if i == 0: \n",
    "                grid[i, 0] = widgets.HTML(value=\"<b>Alias</b>\")\n",
    "                continue\n",
    "            \n",
    "            cell_value_alias = getattr(df.iloc[i-1], \"Alias\", '') if i > 0 else ''\n",
    "            cell_value_web = getattr(df.iloc[i-1], \"Web\", '') if i > 0 else ''\n",
    "\n",
    "            pnl = widgets.HBox([\n",
    "                widgets.Button(description=\"N\", layout=widgets.Layout(width='50px', height='30px')),\n",
    "                widgets.Button(tooltip=cell_value_web, icon='eye', layout=widgets.Layout(width='50px', height='30px'))\n",
    "            ], layout=widgets.Layout(width='auto', height='auto', weight='0'))\n",
    "\n",
    "            pnl.children[0].on_click(lambda b, index=i-1: self.try_fire_export_event(b, index))\n",
    "            pnl.children[1].on_click(lambda b, index=i-1: self.try_fire_web_event(b, index))\n",
    "\n",
    "            grid[i, 0] = widgets.Text(value=str(cell_value_alias), layout=widgets.Layout(width='auto', weight='2'))        \n",
    "            grid[i, 1] = pnl\n",
    "\n",
    "        self.content.children = [grid]\n"
   ]
  },
  {
   "cell_type": "code",
   "execution_count": 156,
   "metadata": {},
   "outputs": [],
   "source": [
    "class Properties:\n",
    "    \n",
    "    def __init__(self, properties={}):        \n",
    "        self.content = widgets.HBox()\n",
    "        self.reload(properties)\n",
    "\n",
    "    def reload(self, properties={}):\n",
    "        num_props = len(properties)\n",
    "        grid = widgets.GridspecLayout(num_props + 1, 2, width='auto')\n",
    "        grid[0, 0] = widgets.HTML(value=\"<b>Property</b>\", layout=widgets.Layout(width='80px'))\n",
    "        grid[0, 1] = widgets.HTML(value=\"<b>Value</b>\", layout=widgets.Layout(width='600px'))  \n",
    "\n",
    "        i = 0\n",
    "        for i, (key, value) in enumerate(properties.items(), start=1):\n",
    "            grid[i, 0] = widgets.Text(value=key, layout=widgets.Layout(width='80px'), disabled=True, bold=True)\n",
    "            grid[i, 1] = widgets.Text(value=str(value), layout=widgets.Layout(width='400px'))\n",
    "\n",
    "        self.content.children = [grid]"
   ]
  },
  {
   "cell_type": "code",
   "execution_count": 157,
   "metadata": {},
   "outputs": [],
   "source": [
    "def new_cell(content, width='100%', height='100px', scroll=False):\n",
    "    return widgets.Box([content], layout=widgets.Layout(\n",
    "        border='0px solid black',\n",
    "        width=width,\n",
    "        height=height,\n",
    "        overflow='auto' if scroll else 'hidden'\n",
    "    ))\n",
    "\n",
    "class Window():\n",
    "\n",
    "    def __init__(self, new_window_event, inspect_event):\n",
    "         \n",
    "        self.new_window_event = new_window_event\n",
    "        self.inspect_event = inspect_event\n",
    "\n",
    "        self.dataframe = pd.DataFrame(columns=[\"Alias\", \"Text\", \"Web\", \"Export\", \"Data\", \"Type\", \"Att\"])\n",
    "        self.toolbar = Toolbar()\n",
    "        self.table = Table(self.dataframe)\n",
    "        self.properties = Properties()\n",
    "\n",
    "        cell1 = new_cell(self.toolbar.content, height='50px')\n",
    "        cell2 = new_cell(self.table.content, width='300px', height='auto', scroll=True)\n",
    "        cell3 = new_cell(self.properties.content, width='600px', height='auto', scroll=True)\n",
    "\n",
    "        self.hbox = widgets.HBox([cell2, cell3], layout=widgets.Layout(height='400px'))\n",
    "        self.content = widgets.VBox([cell1, self.hbox], layout=widgets.Layout(height='300px'))\n",
    "\n",
    "        _window = self\n",
    "        # new window event\n",
    "        def try_fire_new_window_event(self, b=None):\n",
    "            if _window.new_window_event is not None:\n",
    "                _window.new_window_event()\n",
    "        _window.toolbar.new_window_button.on_click(try_fire_new_window_event)\n",
    "\n",
    "        # inspect event\n",
    "        def try_fire_inspect_event(self, b=None):\n",
    "            if _window.inspect_event is not None:\n",
    "                _window.inspect_event(_window.table, _window.properties)\n",
    "        _window.toolbar.inspect_button.on_click(try_fire_inspect_event)    \n",
    "        _window.table.data_event = _window.properties.reload\n",
    "\n",
    "\n",
    "    def redraw(self):\n",
    "        clear_output(wait=True)\n",
    "        display(self.content)\n",
    "\n",
    "\n",
    "    def reload(self, df=None, props={}):\n",
    "        if df is None: return     \n",
    "        self.dataframe = df\n",
    "        self.table.reload(df)\n",
    "        "
   ]
  },
  {
   "cell_type": "markdown",
   "metadata": {},
   "source": [
    "### GUI Events"
   ]
  },
  {
   "cell_type": "code",
   "execution_count": 158,
   "metadata": {},
   "outputs": [],
   "source": [
    "def new_window_clicked():\n",
    "\n",
    "    global test_window\n",
    "    try: test_window.quit()\n",
    "    except: pass\n",
    "    test_window = new_window(\"https://life.stg.wellzesta.com/login\")\n",
    "\n",
    "\n",
    "def on_inspect_clicked(table=None, properties=None): \n",
    "\n",
    "    global test_window\n",
    "    if test_window is None: return\n",
    "\n",
    "    metadata = read_page_objects_metadata(test_window)\n",
    "    rows = []\n",
    "\n",
    "    for tag_name, elements in metadata.items():\n",
    "        for element in elements:\n",
    "\n",
    "            att = element.pop('attributes', {})\n",
    "            clazz =  att.pop('class', [])\n",
    "\n",
    "            for k, v in att.items():\n",
    "                element[k] = v\n",
    "\n",
    "            element['class'] = clazz\n",
    "            rows.append({\n",
    "                \"Export\": False,\n",
    "                \"Alias\": element.get('key', ''),\n",
    "                \"Web\": element.get('selector', ''),\n",
    "                \"Type\": tag_name,\n",
    "                #\"Text\": element.get('placeholder', '') + \" \" + element.get('text', ''),\n",
    "                \"Data\": element,\n",
    "            })\n",
    "\n",
    "    df = pd.DataFrame(rows)\n",
    "    table.reload(df)\n",
    "    properties.reload({})"
   ]
  },
  {
   "cell_type": "code",
   "execution_count": 159,
   "metadata": {},
   "outputs": [],
   "source": [
    "README = \"\"\"\n",
    "When a DEV loves a QA\n",
    "Can't keep his mind on any code\n",
    "He'd debug all the errors\n",
    "For the quality she's known\n",
    "\n",
    "Yes, she's tough, oh so demanding\n",
    "But he's the champ, codes so well\n",
    "Even writes a testing framework\n",
    "Just to make her world excel\n",
    "\n",
    "Turns his back on his shortcuts\n",
    "If they don't pass her test\n",
    "When a DEV loves a QA\n",
    "He's precise in every line\n",
    "Crafting codes she envisioned\n",
    "\n",
    "He'd give up all his shortcuts\n",
    "And embrace the cleaner code\n",
    "If she said that's the way\n",
    "It ought to be\n",
    "\n",
    "Though she's strict, he's so adept\n",
    "Together they're a code-quality duet\n",
    "\"\"\"\n",
    "\n",
    "def start_playground():\n",
    "    window = Window(new_window_clicked, on_inspect_clicked)\n",
    "    window.redraw()\n",
    "    print(README)"
   ]
  },
  {
   "cell_type": "markdown",
   "metadata": {},
   "source": [
    "## Runing All Together"
   ]
  },
  {
   "cell_type": "code",
   "execution_count": 160,
   "metadata": {},
   "outputs": [
    {
     "data": {
      "application/vnd.jupyter.widget-view+json": {
       "model_id": "2e6099cf9deb4353859af101dcd7f3e1",
       "version_major": 2,
       "version_minor": 0
      },
      "text/plain": [
       "VBox(children=(Box(children=(HBox(children=(Button(description='New Window', style=ButtonStyle()), Button(desc…"
      ]
     },
     "metadata": {},
     "output_type": "display_data"
    },
    {
     "name": "stdout",
     "output_type": "stream",
     "text": [
      "\n",
      "When a DEV loves a QA\n",
      "Can't keep his mind on any code\n",
      "He'd debug all the errors\n",
      "For the quality she's known\n",
      "\n",
      "Yes, she's tough, oh so demanding\n",
      "But he's the champ, codes so well\n",
      "Even writes a testing framework\n",
      "Just to make her world excel\n",
      "\n",
      "Turns his back on his shortcuts\n",
      "If they don't pass her test\n",
      "When a DEV loves a QA\n",
      "He's precise in every line\n",
      "Crafting codes she envisioned\n",
      "\n",
      "He'd give up all his shortcuts\n",
      "And embrace the cleaner code\n",
      "If she said that's the way\n",
      "It ought to be\n",
      "\n",
      "Though she's strict, he's so adept\n",
      "Together they're a code-quality duet\n",
      "\n"
     ]
    }
   ],
   "source": [
    "start_playground() "
   ]
  }
 ],
 "metadata": {
  "kernelspec": {
   "display_name": "Python 3",
   "language": "python",
   "name": "python3"
  },
  "language_info": {
   "codemirror_mode": {
    "name": "ipython",
    "version": 3
   },
   "file_extension": ".py",
   "mimetype": "text/x-python",
   "name": "python",
   "nbconvert_exporter": "python",
   "pygments_lexer": "ipython3",
   "version": "3.10.13"
  }
 },
 "nbformat": 4,
 "nbformat_minor": 2
}
