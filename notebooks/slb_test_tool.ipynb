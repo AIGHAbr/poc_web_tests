{
 "cells": [
  {
   "cell_type": "markdown",
   "metadata": {},
   "source": [
    "# SLB Test Tool"
   ]
  },
  {
   "cell_type": "markdown",
   "metadata": {},
   "source": [
    "## Setup"
   ]
  },
  {
   "cell_type": "markdown",
   "metadata": {},
   "source": [
    "### Install Selenium"
   ]
  },
  {
   "cell_type": "code",
   "execution_count": 1,
   "metadata": {},
   "outputs": [
    {
     "name": "stdout",
     "output_type": "stream",
     "text": [
      "All packages installed\n"
     ]
    }
   ],
   "source": [
    "from IPython.display import clear_output\n",
    "\n",
    "%pip install selenium \n",
    "clear_output(wait=True)\n",
    "\n",
    "%pip install webdriver_manager \n",
    "clear_output(wait=True)\n",
    "\n",
    "%pip install beautifulsoup4\n",
    "clear_output(wait=True)\n",
    "\n",
    "%pip install pandas \n",
    "clear_output(wait=True)\n",
    "\n",
    "%pip install ipywidgets\n",
    "clear_output()\n",
    "\n",
    "print(\"All packages installed\")"
   ]
  },
  {
   "cell_type": "code",
   "execution_count": 2,
   "metadata": {},
   "outputs": [
    {
     "name": "stdout",
     "output_type": "stream",
     "text": [
      "Done!\n"
     ]
    }
   ],
   "source": [
    "from selenium import webdriver\n",
    "from webdriver_manager.chrome import ChromeDriverManager\n",
    "from selenium.webdriver.chrome.service import Service\n",
    "from selenium.webdriver.chrome.options import Options\n",
    "from selenium.webdriver.common.by import By\n",
    "from selenium.common.exceptions import NoSuchElementException\n",
    "\n",
    "from bs4 import BeautifulSoup\n",
    "from collections import defaultdict\n",
    "from xml.sax.saxutils import quoteattr\n",
    "from IPython.display import display\n",
    "from ipywidgets import HTML\n",
    "\n",
    "import ipywidgets as widgets\n",
    "import pandas as pd\n",
    "import time\n",
    "import json\n",
    "\n",
    "prefs = {\"profile.default_content_setting_values.notifications\": 1}\n",
    "chrome_options = Options()\n",
    "#chrome_options.add_argument(\"--headless\")\n",
    "chrome_options.add_experimental_option(\"prefs\", prefs)\n",
    "\n",
    "service = Service(ChromeDriverManager().install())\n",
    "driver = webdriver.Chrome(service=service, options=chrome_options)\n",
    "driver.quit()\n",
    "\n",
    "def new_window(url, wait=0):\n",
    "    driver = webdriver.Chrome(service=service, options=chrome_options)\n",
    "    driver.get(url)\n",
    "    time.sleep(wait)\n",
    "    return driver\n",
    "\n",
    "def highlight_element(driver, selector):\n",
    "    script = f\"\"\"\n",
    "    var element = document.evaluate('{selector}', document, null, XPathResult.FIRST_ORDERED_NODE_TYPE, null).singleNodeValue;\n",
    "    if (element) {{\n",
    "        var originalStyle = element.style.border;\n",
    "        var count = 0;\n",
    "        var interval = setInterval(function() {{\n",
    "            count += 1;\n",
    "            element.style.border = count % 2 ? '3px solid red' : '';\n",
    "            if (count > 9) {{\n",
    "                clearInterval(interval);\n",
    "                element.style.border = originalStyle;\n",
    "            }}\n",
    "        }}, 500);\n",
    "    }}\n",
    "    \"\"\"\n",
    "    try:\n",
    "        driver.execute_script(script)\n",
    "    except Exception as e:\n",
    "        print(\"Error while highlighting the element:\", e)\n",
    "\n",
    "\n",
    "clear_output()\n",
    "print(\"Done!\")"
   ]
  },
  {
   "cell_type": "markdown",
   "metadata": {},
   "source": [
    "## Source Code"
   ]
  },
  {
   "cell_type": "markdown",
   "metadata": {},
   "source": [
    "### Generate Objects Keys"
   ]
  },
  {
   "cell_type": "code",
   "execution_count": 3,
   "metadata": {},
   "outputs": [
    {
     "name": "stdout",
     "output_type": "stream",
     "text": [
      "Done!\n"
     ]
    }
   ],
   "source": [
    "def generate_key(tag, element, counter):\n",
    "    base = {\"input\": \"txt\", \"button\": \"btn\", \"a\": \"lnk\", \"img\": \"img\"}\n",
    "    prefix = base.get(tag, \"elem\")\n",
    "\n",
    "    parts = [prefix]\n",
    "    \n",
    "    txt = element.get_text(strip=True)\n",
    "    if txt:\n",
    "        parts.append(txt.replace(\" \", \"_\"))\n",
    "        return key_builder(parts, counter)\n",
    "    \n",
    "    if element.get('name'):\n",
    "        parts.append(element['name'])\n",
    "        return key_builder(parts, counter)\n",
    "    \n",
    "    if element.get('aria-label'):\n",
    "        parts.append(element['aria-label'].replace(\" \", \"_\"))\n",
    "        return key_builder(parts, counter)\n",
    "\n",
    "    if element.get('id'):\n",
    "        parts.append(element['id'])\n",
    "        return key_builder(parts, counter)\n",
    "    \n",
    "    if element.get('data-test-id'):\n",
    "        parts.append(element['data-test-id'])\n",
    "        return key_builder(parts, counter)\n",
    "    \n",
    "    return key_builder(parts, counter)\n",
    "\n",
    "\n",
    "def key_builder(parts, counter):\n",
    "    key = '_'.join(filter(None, parts)).lower().replace(\"-\", \"_\")\n",
    "    counter[key] += 1\n",
    "    return key if counter[key] == 1 else f\"{key}_{counter[key]}\"\n",
    "\n",
    "print(\"Done!\")"
   ]
  },
  {
   "cell_type": "markdown",
   "metadata": {},
   "source": [
    "### Generate Objects Selectors"
   ]
  },
  {
   "cell_type": "code",
   "execution_count": 4,
   "metadata": {},
   "outputs": [
    {
     "name": "stdout",
     "output_type": "stream",
     "text": [
      "Done!\n"
     ]
    }
   ],
   "source": [
    "def generate_selector(element, driver):\n",
    "    selectors = []\n",
    "\n",
    "    for attr in ['id', 'name', 'placeholder', 'aria-label', 'data-test-id', 'alt']:\n",
    "        if element.get(attr):\n",
    "            value = quoteattr(element[attr])\n",
    "            selectors.append(f\"@{attr}={value}\")\n",
    "\n",
    "\n",
    "    if selectors:\n",
    "        xpath_selector = f\"//{element.name}[{' and '.join(selectors)}]\"\n",
    "        elements_found = driver.find_elements(\"xpath\", xpath_selector)\n",
    "        if len(elements_found) == 1:\n",
    "            return xpath_selector\n",
    "\n",
    "\n",
    "    txt = element.get_text(strip=True)\n",
    "    if txt:\n",
    "        xpath_selector = f\"//{element.name}[contains(text(), {quoteattr(txt)})]\"\n",
    "        elements_found = driver.find_elements(\"xpath\", xpath_selector)\n",
    "        if len(elements_found) == 1:\n",
    "            return xpath_selector\n",
    "\n",
    "\n",
    "    if element.get('class'):\n",
    "        classes = '.'.join(element.get('class'))\n",
    "        xpath_selector = f\"//{element.name}[contains(@class, {quoteattr(classes)})]\"\n",
    "        elements_found = driver.find_elements(\"xpath\", xpath_selector)\n",
    "        if len(elements_found) == 1:\n",
    "            return xpath_selector\n",
    "\n",
    "    return None\n",
    "\n",
    "print(\"Done!\")"
   ]
  },
  {
   "cell_type": "markdown",
   "metadata": {},
   "source": [
    "### Generate Objects Selectors"
   ]
  },
  {
   "cell_type": "code",
   "execution_count": 5,
   "metadata": {},
   "outputs": [],
   "source": [
    "\n",
    "def read_page_objects_metadata(driver):\n",
    "\n",
    "    html = driver.page_source.encode(\"utf-8\")\n",
    "    soup = BeautifulSoup(html, 'html.parser')\n",
    "    elements = soup.find_all(['input', 'button', 'a', 'img'])\n",
    "\n",
    "    counter = defaultdict(int)\n",
    "    result = defaultdict(list)\n",
    "\n",
    "    for element in elements:\n",
    "        tag = element.name\n",
    "        selector = generate_selector(element, driver)\n",
    "        key = generate_key(tag, element, counter)\n",
    "\n",
    "        result[tag].append({\n",
    "            \"key\": key,\n",
    "            \"selector\": selector,\n",
    "            \"attributes\": {attr: element.get(attr) for attr in element.attrs},\n",
    "            \"text\": element.get_text(strip=True),\n",
    "            \"visibility\": \"visible\" if element.get('type') != 'hidden' else \"invisible\"\n",
    "        })\n",
    "    return result\n"
   ]
  },
  {
   "cell_type": "markdown",
   "metadata": {},
   "source": [
    "## GUI Componets"
   ]
  },
  {
   "cell_type": "markdown",
   "metadata": {},
   "source": [
    "### Toolbar"
   ]
  },
  {
   "cell_type": "code",
   "execution_count": 6,
   "metadata": {},
   "outputs": [
    {
     "data": {
      "application/vnd.jupyter.widget-view+json": {
       "model_id": "8dfb4c21be09415781c4af831a3fad4a",
       "version_major": 2,
       "version_minor": 0
      },
      "text/plain": [
       "HBox(children=(Button(description='New Window', style=ButtonStyle()), Button(description='Inspect', style=Butt…"
      ]
     },
     "metadata": {},
     "output_type": "display_data"
    }
   ],
   "source": [
    "\n",
    "class Toolbar:\n",
    "    def __init__(self):\n",
    "        self.new_window_button = widgets.Button(description=\"New Window\") \n",
    "        self.inspect_button = widgets.Button(description=\"Inspect\") \n",
    "        self.filter_text = widgets.Text(placeholder='Type to filter...') \n",
    "        self.export_button = widgets.Button(description=\"Export Selected\")\n",
    "        self.content = widgets.HBox([self.new_window_button, \n",
    "                                   self.inspect_button, \n",
    "                                   self.filter_text, \n",
    "                                   self.export_button])\n",
    "\n",
    "toolbar = Toolbar()\n",
    "toolbar.new_window_button.on_click(lambda b: print(f\"click{b}\"))\n",
    "toolbar.inspect_button.on_click(lambda b: print(f\"click{b}\"))\n",
    "toolbar.export_button.on_click(lambda b: print(f\"click{b}\"))\n",
    "\n",
    "display(toolbar.content)"
   ]
  },
  {
   "cell_type": "markdown",
   "metadata": {},
   "source": [
    "### Table"
   ]
  },
  {
   "cell_type": "code",
   "execution_count": 7,
   "metadata": {},
   "outputs": [
    {
     "data": {
      "application/vnd.jupyter.widget-view+json": {
       "model_id": "bfacff60c54c4495bc2b3c43ae80cc3d",
       "version_major": 2,
       "version_minor": 0
      },
      "text/plain": [
       "HBox(children=(GridspecLayout(children=(HTML(value='<b>Alias</b>', layout=Layout(grid_area='widget001')), HTML…"
      ]
     },
     "metadata": {},
     "output_type": "display_data"
    }
   ],
   "source": [
    "\n",
    "class Table:\n",
    "\n",
    "    def __init__(self, df=None):\n",
    "        self.content = widgets.HBox()\n",
    "        self.export_event = None\n",
    "        self.data_event = None\n",
    "        self.web_event = None\n",
    "        self.data = df if df is not None else pd.DataFrame(\n",
    "            columns=[\"Alias\", \"Text\", \"Web\", \"Export\", \"Data\", \"Type\", \"Att\"])\n",
    "        self.reload()\n",
    "\n",
    "    def try_fire_export_event(self, b, index):\n",
    "        if self.export_event is not None:\n",
    "            self.export_event(b, index)\n",
    "\n",
    "    def try_fire_data_event(self, b, index):\n",
    "        if self.data_event is not None:\n",
    "            self.data_event(b, index)\n",
    "\n",
    "    def try_fire_web_event(self, b, index):\n",
    "        if self.web_event is not None:\n",
    "            self.web_event(b, index)\n",
    "\n",
    "    def reload(self, df=None):\n",
    "\n",
    "        if df is not None: self.data = df\n",
    "        df = self.data\n",
    "        lines = len(self.data) + 1\n",
    "        grid = widgets.GridspecLayout(lines, 3)\n",
    "\n",
    "        for i in range(lines):\n",
    "            if i == 0: \n",
    "                grid[i, 0] = widgets.HTML(value=\"<b>Alias</b>\")\n",
    "                grid[i, 1] = widgets.HTML(value=\"<b>Text</b>\")\n",
    "                continue\n",
    "            \n",
    "            cell_value_alias = getattr(df.iloc[i-1], \"Alias\", '') if i > 0 else ''\n",
    "            cell_value_web = getattr(df.iloc[i-1], \"Web\", '') if i > 0 else ''\n",
    "            cell_value_text = getattr(df.iloc[i-1], \"Text\", '') if i > 0 else ''\n",
    "\n",
    "            pnl = widgets.HBox([\n",
    "                widgets.Button(description=\"N\", layout=widgets.Layout(width='50px', height='30px')),\n",
    "                widgets.Button(tooltip=cell_value_web, icon='eye', layout=widgets.Layout(width='50px', height='30px')),\n",
    "                widgets.Button(icon='table', layout=widgets.Layout(width='50px', height='30px'))\n",
    "            ], layout=widgets.Layout(width='auto', height='auto', weight='0'))\n",
    "\n",
    "            pnl.children[0].on_click(lambda b, index=i-1: self.try_fire_export_event(b, index))\n",
    "            pnl.children[1].on_click(lambda b, index=i-1: self.try_fire_data_event(b, index))\n",
    "            pnl.children[2].on_click(lambda b, index=i-1: self.try_fire_web_event(b, index))\n",
    "\n",
    "            grid[i, 0] = widgets.Text(value=str(cell_value_alias), layout=widgets.Layout(width='auto', weight='2'))\n",
    "            grid[i, 1] = widgets.Text(value=str(cell_value_text), layout=widgets.Layout(width='auto', weight='3'), disabled=True)\n",
    "            grid[i, 2] = pnl\n",
    "\n",
    "        self.content.children = [grid]\n",
    "\n",
    "\n",
    "# Sample\n",
    "def log(b=None, index=-1):\n",
    "    print(f\"Clicked {b}[{index}]\")\n",
    "\n",
    "\n",
    "sample = pd.DataFrame({\n",
    "    \"Export\": [True, False],\n",
    "    \"Alias\": [\"btn_cancel\", \"btn_ok\"],\n",
    "    \"Web\": [\"Selector01\", \"Selector02\"],\n",
    "    \"Text\": [\"Cancel\", \"Ok\"],\n",
    "    \"Type\": [\"button\", \"button\"],\n",
    "    \"Att\": [\"\", \"\"],\n",
    "    \"Data\": [\"\", \"\"]\n",
    "})\n",
    "\n",
    "\n",
    "def log_clicks(obj=None, index=-1):\n",
    "    print(f\"Clicked {obj}[{index}]\")\n",
    "\n",
    "tb = Table(sample)\n",
    "tb.export_event = log_clicks\n",
    "tb.data_event = log_clicks\n",
    "tb.web_event = log_clicks\n",
    "\n",
    "display(tb.content)"
   ]
  },
  {
   "cell_type": "markdown",
   "metadata": {},
   "source": [
    "### Properties"
   ]
  },
  {
   "cell_type": "code",
   "execution_count": 8,
   "metadata": {},
   "outputs": [
    {
     "data": {
      "application/vnd.jupyter.widget-view+json": {
       "model_id": "52879f3e50a147b99d9757eacacd853a",
       "version_major": 2,
       "version_minor": 0
      },
      "text/plain": [
       "HBox(children=(GridspecLayout(children=(HTML(value='<b>Property</b>', layout=Layout(grid_area='widget001')), H…"
      ]
     },
     "metadata": {},
     "output_type": "display_data"
    }
   ],
   "source": [
    "class Properties:\n",
    "    \n",
    "    def __init__(self, properties={}):        \n",
    "        self.content = widgets.HBox()\n",
    "        self.reload(properties)\n",
    "\n",
    "    def reload(self, properties={}):\n",
    "        num_props = len(properties)\n",
    "        grid = widgets.GridspecLayout(num_props + 1, 2)\n",
    "        grid[0, 0] = widgets.HTML(value=\"<b>Property</b>\")\n",
    "        grid[0, 1] = widgets.HTML(value=\"<b>Value</b>\")  \n",
    "\n",
    "        for i, (key, value) in enumerate(properties.items(), start=1):\n",
    "            grid[i, 0] = widgets.Text(value=key, layout=widgets.Layout(width='auto'), disabled=True, bold=True)\n",
    "            grid[i, 1] = widgets.Text(value=value, layout=widgets.Layout(width='auto'))\n",
    "\n",
    "        self.content.children = [grid]\n",
    "\n",
    "# Sample\n",
    "data = {\n",
    "    \"type\": \"button\", \n",
    "    \"selector\": \"//a[id='btn_cancel']\",\n",
    "    \"text\": \"Cancel\",\n",
    "}\n",
    "props = Properties(data)\n",
    "display(props.content)\n"
   ]
  },
  {
   "cell_type": "markdown",
   "metadata": {},
   "source": [
    "### All Components Together"
   ]
  },
  {
   "cell_type": "code",
   "execution_count": 36,
   "metadata": {},
   "outputs": [
    {
     "data": {
      "application/vnd.jupyter.widget-view+json": {
       "model_id": "55e1031d76694d20ba2d8c36aacf9034",
       "version_major": 2,
       "version_minor": 0
      },
      "text/plain": [
       "HBox(children=(Button(description='New Window', style=ButtonStyle()), Button(description='Inspect', style=Butt…"
      ]
     },
     "metadata": {},
     "output_type": "display_data"
    },
    {
     "data": {
      "application/vnd.jupyter.widget-view+json": {
       "model_id": "851956968b3441f2b2ff476396ba2383",
       "version_major": 2,
       "version_minor": 0
      },
      "text/plain": [
       "GridspecLayout(children=(HBox(children=(GridspecLayout(children=(HTML(value='<b>Alias</b>', layout=Layout(grid…"
      ]
     },
     "metadata": {},
     "output_type": "display_data"
    }
   ],
   "source": [
    "class Windows():\n",
    "\n",
    "    def __init__(self, df=None, props={}): \n",
    "\n",
    "        self.dataframe = df\n",
    "        if self.dataframe is None: \n",
    "            self.dataframe = pd.DataFrame(\n",
    "                columns=[\"Alias\", \"Text\", \"Web\", \"Export\", \"Data\", \"Type\", \"Att\"])\n",
    "\n",
    "        self.properties = Properties() if props is None else Properties(props)\n",
    "        self.toolbar = Toolbar() if toolbar is None else toolbar\n",
    "        self.table = Table(self.dataframe)\n",
    "\n",
    "        self.grid = widgets.GridspecLayout(1, 2)\n",
    "        self.grid[0,0] = self.table.content\n",
    "        self.grid[0,1] = self.properties.content \n",
    "\n",
    "\n",
    "    def redraw(self):\n",
    "        #Sclear_output(wait=True)\n",
    "        display(self.toolbar.content)\n",
    "        display(self.grid)\n",
    "\n",
    "    def reload(self, df, props):\n",
    "        self.dataframe = df\n",
    "        self.properties.reload(props)\n",
    "        self.table.reload(df)\n",
    "\n",
    "# Sample\n",
    "df = pd.DataFrame({\n",
    "    \"Export\": [True, False],\n",
    "    \"Alias\": [\"btn_cancel\", \"btn_ok\"],\n",
    "    \"Web\": [\"Selector01\", \"Selector02\"],\n",
    "    \"Text\": [\"Cancel\", \"Ok\"],\n",
    "    \"Type\": [\"button\", \"button\"],\n",
    "    \"Att\": [\"\", \"\"],\n",
    "    \"Data\": [\"\", \"\"]\n",
    "})\n",
    "\n",
    "props = {\n",
    "    \"type\": \"button\", \n",
    "    \"selector\": \"//a[id='btn_cancel']\",\n",
    "    \"text\": \"Cancel\",\n",
    "}\n",
    "\n",
    "window = Windows()\n",
    "window.reload(df, props)\n",
    "window.redraw()"
   ]
  },
  {
   "cell_type": "markdown",
   "metadata": {},
   "source": [
    "## GUI Events"
   ]
  },
  {
   "cell_type": "markdown",
   "metadata": {},
   "source": [
    "### New Window Event"
   ]
  },
  {
   "cell_type": "code",
   "execution_count": null,
   "metadata": {},
   "outputs": [
    {
     "data": {
      "application/vnd.jupyter.widget-view+json": {
       "model_id": "f04fe6e7d9fd482d929197a037445432",
       "version_major": 2,
       "version_minor": 0
      },
      "text/plain": [
       "HBox(children=(Button(description='New Window', style=ButtonStyle()), Button(description='Inspect', style=Butt…"
      ]
     },
     "metadata": {},
     "output_type": "display_data"
    },
    {
     "data": {
      "application/vnd.jupyter.widget-view+json": {
       "model_id": "44fb55ad17a84aababda5420735a1577",
       "version_major": 2,
       "version_minor": 0
      },
      "text/plain": [
       "HBox(children=(GridspecLayout(children=(HTML(value='<b>Alias</b>', layout=Layout(grid_area='widget001')), HTML…"
      ]
     },
     "metadata": {},
     "output_type": "display_data"
    }
   ],
   "source": [
    "global test_window, toolbar, table, properties\n",
    "\n",
    "if toolbar is None:init_gui()\n",
    "\n",
    "def on_new_window_clicked(b=None):\n",
    "    global test_window\n",
    "    try: test_window.quit()\n",
    "    except: pass\n",
    "    test_window = new_window(\"https://life.stg.wellzesta.com/login\")\n",
    "\n",
    "\n",
    "draw()\n",
    "toolbar.new_window_button.on_click(on_new_window_clicked)"
   ]
  },
  {
   "cell_type": "markdown",
   "metadata": {},
   "source": [
    "### Inspect Event"
   ]
  },
  {
   "cell_type": "code",
   "execution_count": null,
   "metadata": {},
   "outputs": [
    {
     "data": {
      "application/vnd.jupyter.widget-view+json": {
       "model_id": "0f0293c069af4d55bb8e3a3f4f0913cc",
       "version_major": 2,
       "version_minor": 0
      },
      "text/plain": [
       "HBox(children=(Button(description='New Window', style=ButtonStyle()), Button(description='Inspect', style=Butt…"
      ]
     },
     "metadata": {},
     "output_type": "display_data"
    },
    {
     "data": {
      "application/vnd.jupyter.widget-view+json": {
       "model_id": "a06ac49c3e3d48499b7de3952c492def",
       "version_major": 2,
       "version_minor": 0
      },
      "text/plain": [
       "HBox(children=(GridspecLayout(children=(HTML(value='<b>Alias</b>', layout=Layout(grid_area='widget001')), HTML…"
      ]
     },
     "metadata": {},
     "output_type": "display_data"
    }
   ],
   "source": [
    "global test_window, toolbar, table, properties\n",
    "\n",
    "def on_inspect_clicked(b=None):\n",
    "    clear_output(wait=True)\n",
    "    global test_window, df\n",
    "    if test_window is None:\n",
    "        on_new_window_clicked()\n",
    "\n",
    "    metadata = read_page_objects_metadata(test_window)\n",
    "    rows = []\n",
    "    for tag_name, elements in metadata.items():\n",
    "        for element in elements:\n",
    "\n",
    "            att = element.pop('attributes', {})\n",
    "            clazz =  att.pop('class', [])\n",
    "\n",
    "            for k, v in att.items():\n",
    "                element[k] = v\n",
    "\n",
    "            element['class'] = clazz\n",
    "            rows.append({\n",
    "                \"Export\": False,\n",
    "                \"Alias\": element.get('key', ''),\n",
    "                \"Web\": element.get('selector', ''),\n",
    "                \"Type\": tag_name,\n",
    "                \"Text\": element.get('text', ''),\n",
    "                \"Data\": element,\n",
    "            })\n",
    "\n",
    "    df = pd.DataFrame(rows)\n",
    "\n",
    "draw()\n",
    "toolbar.new_window_button.on_click(on_new_window_clicked)\n",
    "toolbar.inspect_button.on_click(lambda b: print(f\"click{b}\"))\n",
    "#toolbar.inspect_button.on_click(on_inspect_clicked)"
   ]
  },
  {
   "cell_type": "code",
   "execution_count": null,
   "metadata": {},
   "outputs": [],
   "source": [
    "global df, test_window\n",
    "test_window = None\n",
    "\n",
    "def start_playground():\n",
    "\n",
    "\n",
    "    def on_export_button_clicked(b):\n",
    "        print(\"Exporting...\")\n",
    "\n",
    "\n",
    "\n",
    "    def adjust_column_widths(df, base_width=8, padding=10):\n",
    "        widths = {}\n",
    "        for col in df.columns:\n",
    "            if col == \"Export\" or col == \"Web\": \n",
    "                widths[col] = 50\n",
    "                continue\n",
    "            \n",
    "            max_len = df[col].astype(str).map(len).max()  # Comprimento máximo do conteúdo na coluna\n",
    "            widths[col] = min(max_len * base_width + padding, 400)  # Calcular a largura com um máximo para evitar colunas muito largas\n",
    "        return widths\n",
    "    \n",
    "\n",
    "    def on_export_toggle(b, index):\n",
    "        global df\n",
    "        df.at[index, 'Export'] = not df.at[index, 'Export']\n",
    "        update_table()\n",
    "\n",
    "\n",
    "    def print_data(element):\n",
    "        clear_output(wait=True) \n",
    "        update_table() \n",
    "        display(element)\n",
    "\n",
    "\n",
    "    def create_properties_widget():\n",
    "        properties_widget = widgets.Output()\n",
    "        with properties_widget:\n",
    "            clear_output(wait=True)\n",
    "        return properties_widget\n",
    "\n",
    "\n",
    "    global properties_widget\n",
    "    properties_widget = create_properties_widget()\n",
    "\n",
    "\n",
    "    def print_data(data):\n",
    "        clear_output(wait=True)\n",
    "        update_table()\n",
    "        display(data)\n",
    "\n",
    "\n",
    "    def update_table():\n",
    "        global df, test_window, properties_widget\n",
    "        nonlocal export_button\n",
    "\n",
    "        if df.empty:\n",
    "            clear_output(wait=True)\n",
    "            display(widgets.HBox([new_window_button, metadata_button]))\n",
    "            return\n",
    "\n",
    "        df.sort_values(by=['Export', 'Type', 'Alias'], ascending=[False, True, True], inplace=True)\n",
    "        #df = df.drop(columns=[\"Attributes\", \"Text\"], errors='ignore')\n",
    "\n",
    "        clear_output(wait=True)\n",
    "        display(widgets.HBox([new_window_button, metadata_button, filter_text, export_button]))\n",
    "\n",
    "        # Calcular a largura das outras colunas\n",
    "        col_widths = adjust_column_widths(df)\n",
    "        grid = widgets.GridspecLayout(len(df)+1, len(df.columns))\n",
    "\n",
    "        # Cabeçalhos\n",
    "        for i, col in enumerate(df.columns):\n",
    "            if col == \"Type\": continue \n",
    "            grid[0, i] = HTML(value=f\"<b>{col}</b>\", layout=widgets.Layout(width=f'{col_widths[col]}px'))\n",
    "\n",
    "        # Dados, botões de exportação e botões com seletores\n",
    "        for i, (index, row) in enumerate(df.iterrows(), start=1):\n",
    "\n",
    "            for j, col in enumerate(df.columns):\n",
    "                if col == \"Type\": continue\n",
    "\n",
    "                bt_layout=widgets.Layout(width='50px', height='30px')\n",
    "                if col == \"Export\":\n",
    "                    export_button_text = 'Y' if row[col] else 'N'\n",
    "                    export_button = widgets.Button(\n",
    "                        description=export_button_text, \n",
    "                        layout=bt_layout\n",
    "                    )\n",
    "                    export_button.on_click(lambda b, index=index: on_export_toggle(b, index))\n",
    "                    grid[i, j] = export_button\n",
    "                    continue\n",
    "\n",
    "                if col == \"Web\":\n",
    "                    button_icon = 'eye' \n",
    "                    selector_text = row[col] if row[col] else 'No Selector'\n",
    "                    disabled = False if row[col] else True\n",
    "                    highlight_button = widgets.Button(\n",
    "                        disabled=disabled,\n",
    "                        description='', \n",
    "                        tooltip=selector_text, \n",
    "                        icon=button_icon, \n",
    "                        layout=bt_layout\n",
    "                    )\n",
    "                    highlight_button.on_click(lambda b, selector=row['Web']: highlight_element(test_window, selector))\n",
    "                    grid[i, j] = highlight_button\n",
    "                    continue\n",
    "\n",
    "                if col == \"Data\":\n",
    "                    button_icon = 'table' \n",
    "                    selector_text = row[col]\n",
    "\n",
    "                    data_button = widgets.Button(\n",
    "                        icon=button_icon, \n",
    "                        layout=bt_layout\n",
    "                    )\n",
    "\n",
    "                    data_button.on_click(lambda b, row=row: print_data(row[col]))\n",
    "                    grid[i, j] = data_button\n",
    "                    continue\n",
    "\n",
    "                grid[i, j] = widgets.Label(value=str(row[col]), layout=widgets.Layout(width=f'{col_widths[col]}px'))\n",
    "\n",
    "        display(grid)\n",
    "\n",
    "\n",
    "    # Widgets\n",
    "    new_window_button = widgets.Button(description=\"New Window\")\n",
    "    metadata_button = widgets.Button(description=\"Inspect\")\n",
    "    filter_text = widgets.Text(placeholder='Type to filter...')\n",
    "    export_button = widgets.Button(description=\"Export Selected\")\n",
    "    \n",
    "\n",
    "    # Eventos\n",
    "    new_window_button.on_click(on_new_window_clicked)\n",
    "    metadata_button.on_click(on_metadata_clicked)\n",
    "    export_button.on_click(on_export_button_clicked)\n",
    "\n",
    "\n",
    "    # Inicializa a interface sem dados\n",
    "    update_table()\n",
    "    \n",
    "\n",
    "\n",
    "\n"
   ]
  },
  {
   "cell_type": "code",
   "execution_count": null,
   "metadata": {},
   "outputs": [],
   "source": [
    "global df, test_window\n",
    "test_window = None\n",
    "\n",
    "def start_playground():\n",
    "\n",
    "    global test_window, df\n",
    "    df = pd.DataFrame(columns=[\"Export\", \"Alias\", \"Web\", \"Type\", \"Text\", \"Att\", \"Data\"])\n",
    "    df_original = pd.DataFrame()\n",
    "\n",
    "\n",
    "\n",
    "\n",
    "    def on_metadata_clicked(b):\n",
    "        clear_output(wait=True)\n",
    "        global test_window, df\n",
    "        if test_window is None:\n",
    "            on_new_window_clicked()\n",
    "\n",
    "        metadata = read_page_objects_metadata(test_window)\n",
    "        rows = []\n",
    "        for tag_name, elements in metadata.items():\n",
    "            for element in elements:\n",
    "\n",
    "                att = element.pop('attributes', {})\n",
    "                clazz =  att.pop('class', [])\n",
    "\n",
    "                for k, v in att.items():\n",
    "                    element[k] = v\n",
    "\n",
    "                element['class'] = clazz\n",
    "                rows.append({\n",
    "                    \"Export\": False,\n",
    "                    \"Alias\": element.get('key', ''),\n",
    "                    \"Web\": element.get('selector', ''),\n",
    "                    \"Type\": tag_name,\n",
    "                    \"Text\": element.get('text', ''),\n",
    "                    \"Data\": element,\n",
    "                })\n",
    "\n",
    "        df = pd.DataFrame(rows)\n",
    "        update_table()\n",
    "        print(f\"Loaded from {test_window.current_url}\")\n",
    "\n",
    "\n",
    "    def on_export_button_clicked(b):\n",
    "        print(\"Exporting...\")\n",
    "\n",
    "\n",
    "\n",
    "    def adjust_column_widths(df, base_width=8, padding=10):\n",
    "        widths = {}\n",
    "        for col in df.columns:\n",
    "            if col == \"Export\" or col == \"Web\": \n",
    "                widths[col] = 50\n",
    "                continue\n",
    "            \n",
    "            max_len = df[col].astype(str).map(len).max()  # Comprimento máximo do conteúdo na coluna\n",
    "            widths[col] = min(max_len * base_width + padding, 400)  # Calcular a largura com um máximo para evitar colunas muito largas\n",
    "        return widths\n",
    "    \n",
    "\n",
    "    def on_export_toggle(b, index):\n",
    "        global df\n",
    "        df.at[index, 'Export'] = not df.at[index, 'Export']\n",
    "        update_table()\n",
    "\n",
    "\n",
    "    def print_data(element):\n",
    "        clear_output(wait=True) \n",
    "        update_table() \n",
    "        display(element)\n",
    "\n",
    "\n",
    "    def create_properties_widget():\n",
    "        properties_widget = widgets.Output()\n",
    "        with properties_widget:\n",
    "            clear_output(wait=True)\n",
    "        return properties_widget\n",
    "\n",
    "\n",
    "    global properties_widget\n",
    "    properties_widget = create_properties_widget()\n",
    "\n",
    "\n",
    "    def print_data(data):\n",
    "        clear_output(wait=True)\n",
    "        update_table()\n",
    "        display(data)\n",
    "\n",
    "\n",
    "    def update_table():\n",
    "        global df, test_window, properties_widget\n",
    "        nonlocal export_button\n",
    "\n",
    "        if df.empty:\n",
    "            clear_output(wait=True)\n",
    "            display(widgets.HBox([new_window_button, metadata_button]))\n",
    "            return\n",
    "\n",
    "        df.sort_values(by=['Export', 'Type', 'Alias'], ascending=[False, True, True], inplace=True)\n",
    "        #df = df.drop(columns=[\"Attributes\", \"Text\"], errors='ignore')\n",
    "\n",
    "        clear_output(wait=True)\n",
    "        display(widgets.HBox([new_window_button, metadata_button, filter_text, export_button]))\n",
    "\n",
    "        # Calcular a largura das outras colunas\n",
    "        col_widths = adjust_column_widths(df)\n",
    "        grid = widgets.GridspecLayout(len(df)+1, len(df.columns))\n",
    "\n",
    "        # Cabeçalhos\n",
    "        for i, col in enumerate(df.columns):\n",
    "            if col == \"Type\": continue \n",
    "            grid[0, i] = HTML(value=f\"<b>{col}</b>\", layout=widgets.Layout(width=f'{col_widths[col]}px'))\n",
    "\n",
    "        # Dados, botões de exportação e botões com seletores\n",
    "        for i, (index, row) in enumerate(df.iterrows(), start=1):\n",
    "\n",
    "            for j, col in enumerate(df.columns):\n",
    "                if col == \"Type\": continue\n",
    "\n",
    "                bt_layout=widgets.Layout(width='50px', height='30px')\n",
    "                if col == \"Export\":\n",
    "                    export_button_text = 'Y' if row[col] else 'N'\n",
    "                    export_button = widgets.Button(\n",
    "                        description=export_button_text, \n",
    "                        layout=bt_layout\n",
    "                    )\n",
    "                    export_button.on_click(lambda b, index=index: on_export_toggle(b, index))\n",
    "                    grid[i, j] = export_button\n",
    "                    continue\n",
    "\n",
    "                if col == \"Web\":\n",
    "                    button_icon = 'eye' \n",
    "                    selector_text = row[col] if row[col] else 'No Selector'\n",
    "                    disabled = False if row[col] else True\n",
    "                    highlight_button = widgets.Button(\n",
    "                        disabled=disabled,\n",
    "                        description='', \n",
    "                        tooltip=selector_text, \n",
    "                        icon=button_icon, \n",
    "                        layout=bt_layout\n",
    "                    )\n",
    "                    highlight_button.on_click(lambda b, selector=row['Web']: highlight_element(test_window, selector))\n",
    "                    grid[i, j] = highlight_button\n",
    "                    continue\n",
    "\n",
    "                if col == \"Data\":\n",
    "                    button_icon = 'table' \n",
    "                    selector_text = row[col]\n",
    "\n",
    "                    data_button = widgets.Button(\n",
    "                        icon=button_icon, \n",
    "                        layout=bt_layout\n",
    "                    )\n",
    "\n",
    "                    data_button.on_click(lambda b, row=row: print_data(row[col]))\n",
    "                    grid[i, j] = data_button\n",
    "                    continue\n",
    "\n",
    "                grid[i, j] = widgets.Label(value=str(row[col]), layout=widgets.Layout(width=f'{col_widths[col]}px'))\n",
    "\n",
    "        display(grid)\n",
    "\n",
    "\n",
    "    # Widgets\n",
    "    new_window_button = widgets.Button(description=\"New Window\")\n",
    "    metadata_button = widgets.Button(description=\"Inspect\")\n",
    "    filter_text = widgets.Text(placeholder='Type to filter...')\n",
    "    export_button = widgets.Button(description=\"Export Selected\")\n",
    "    \n",
    "\n",
    "    # Eventos\n",
    "    new_window_button.on_click(on_new_window_clicked)\n",
    "    metadata_button.on_click(on_metadata_clicked)\n",
    "    export_button.on_click(on_export_button_clicked)\n",
    "\n",
    "\n",
    "    # Inicializa a interface sem dados\n",
    "    update_table()\n",
    "    \n",
    "\n",
    "\n",
    "\n"
   ]
  },
  {
   "cell_type": "markdown",
   "metadata": {},
   "source": [
    "## Playground"
   ]
  },
  {
   "cell_type": "code",
   "execution_count": null,
   "metadata": {},
   "outputs": [
    {
     "data": {
      "application/vnd.jupyter.widget-view+json": {
       "model_id": "1e681e42d3d14939ad0282fa7cdb011b",
       "version_major": 2,
       "version_minor": 0
      },
      "text/plain": [
       "HBox(children=(Button(description='New Window', style=ButtonStyle()), Button(description='Inspect', style=Butt…"
      ]
     },
     "metadata": {},
     "output_type": "display_data"
    }
   ],
   "source": [
    "README = \"\"\"\n",
    "When a DEV loves a QA\n",
    "Can't keep his mind on any code\n",
    "He'd debug all the errors\n",
    "For the quality she's known\n",
    "\n",
    "Yes, she's tough, oh so demanding\n",
    "But he's the champ, codes so well\n",
    "Even writes a testing framework\n",
    "Just to make her world excel\n",
    "\n",
    "Turns his back on his shortcuts\n",
    "If they don't pass her test\n",
    "When a DEV loves a QA\n",
    "He's precise in every line\n",
    "Crafting codes she envisioned\n",
    "\n",
    "He'd give up all his shortcuts\n",
    "And embrace the cleaner code\n",
    "If she said that's the way\n",
    "It ought to be\n",
    "\n",
    "Though she's strict, he's so adept\n",
    "Together they're a code-quality duet\n",
    "\"\"\"\n",
    "\n",
    "start_playground()"
   ]
  }
 ],
 "metadata": {
  "kernelspec": {
   "display_name": "Python 3",
   "language": "python",
   "name": "python3"
  },
  "language_info": {
   "codemirror_mode": {
    "name": "ipython",
    "version": 3
   },
   "file_extension": ".py",
   "mimetype": "text/x-python",
   "name": "python",
   "nbconvert_exporter": "python",
   "pygments_lexer": "ipython3",
   "version": "3.10.13"
  }
 },
 "nbformat": 4,
 "nbformat_minor": 2
}
