{
 "cells": [
  {
   "cell_type": "markdown",
   "metadata": {},
   "source": [
    "# Testes Wellzesta"
   ]
  },
  {
   "cell_type": "markdown",
   "metadata": {},
   "source": [
    "## Instalação do Selenium"
   ]
  },
  {
   "cell_type": "code",
   "execution_count": 73,
   "metadata": {},
   "outputs": [
    {
     "name": "stdout",
     "output_type": "stream",
     "text": [
      "Done!\n"
     ]
    }
   ],
   "source": [
    "%pip install selenium webdriver_manager beautifulsoup4\n",
    "%pip install openai langchain pandas ipywidgets\n",
    "\n",
    "from IPython.display import clear_output\n",
    "clear_output()\n",
    "\n",
    "print(\"Done!\")"
   ]
  },
  {
   "cell_type": "markdown",
   "metadata": {},
   "source": [
    "## Source Code"
   ]
  },
  {
   "cell_type": "code",
   "execution_count": 74,
   "metadata": {},
   "outputs": [
    {
     "name": "stdout",
     "output_type": "stream",
     "text": [
      "Done!\n"
     ]
    }
   ],
   "source": [
    "from selenium import webdriver\n",
    "from webdriver_manager.chrome import ChromeDriverManager\n",
    "from selenium.webdriver.chrome.service import Service\n",
    "from selenium.webdriver.chrome.options import Options\n",
    "from selenium.webdriver.common.by import By\n",
    "from selenium.common.exceptions import NoSuchElementException\n",
    "\n",
    "from bs4 import BeautifulSoup\n",
    "from collections import defaultdict\n",
    "from xml.sax.saxutils import quoteattr\n",
    "\n",
    "import pandas as pd\n",
    "import ipywidgets as widgets\n",
    "from IPython.display import display\n",
    "\n",
    "import json\n",
    "import time\n",
    "\n",
    "\n",
    "prefs = {\"profile.default_content_setting_values.notifications\": 1}\n",
    "chrome_options = Options()\n",
    "#chrome_options.add_argument(\"--headless\")\n",
    "chrome_options.add_experimental_option(\"prefs\", prefs)\n",
    "\n",
    "service = Service(ChromeDriverManager().install())\n",
    "driver = webdriver.Chrome(service=service, options=chrome_options)\n",
    "driver.quit()\n",
    "\n",
    "\n",
    "def new_window(url, wait=0):\n",
    "    driver = webdriver.Chrome(service=service, options=chrome_options)\n",
    "    driver.get(url)\n",
    "    time.sleep(wait)\n",
    "    return driver\n",
    "\n",
    "\n",
    "def scroll(window, tagname, text, wait=0):\n",
    "    find_element(window, tagname, text).location_once_scrolled_into_view\n",
    "    time.sleep(wait)\n",
    "\n",
    "\n",
    "def scroll_and_click(window, tagname, text, wait=0):\n",
    "    e = find_element(window=window, tagname=tagname, text=text)\n",
    "    e.location_once_scrolled_into_view\n",
    "    e.click()\n",
    "    time.sleep(wait)\n",
    "\n",
    "\n",
    "def wait(seconds):\n",
    "    time.sleep(seconds)\n",
    "\n",
    "\n",
    "def get_attribute(window, mode, key, attribute):\n",
    "    return window.find_element(mode, key).get_attribute(attribute)\n",
    "\n",
    "\n",
    "def get_communitylogo_url(window, text=None, clazz=None):\n",
    "    img = find_element(window, tagname=\"img\", text=text, clazz=clazz)\n",
    "    return img.get_attribute(\"src\")\n",
    "\n",
    "\n",
    "def find_element(window, text=None, clazz=None, placeholder=None, id=None, tagname=\"*\", retry=5, delay=3): \n",
    "    for i in range(retry):\n",
    "        try:\n",
    "            elements = window.find_elements(By.TAG_NAME, tagname)\n",
    "            for element in elements:\n",
    "                if id!=None and element.get_attribute(\"id\")==id: return element\n",
    "                if text!=None and element.text==text: return element\n",
    "                if clazz!=None and element.get_attribute(\"class\")==clazz: return element\n",
    "                if placeholder!=None and element.get_attribute(\"placeholder\")==placeholder: return element\n",
    "        except: pass\n",
    "        time.sleep(delay)\n",
    "\n",
    "\n",
    "def type(window, value, id=None, placeholder=None, wait=0):\n",
    "    element = find_element(window, tagname=\"input\", placeholder=placeholder, id=id)\n",
    "    element.send_keys(value)\n",
    "    time.sleep(wait)\n",
    "\n",
    "\n",
    "def click(window, text=None, tagname=\"button\", wait=3):\n",
    "    find_element(window, tagname=tagname, text=text).click()\n",
    "\n",
    "\n",
    "def match(value1, value2, tip=\"test:\"):\n",
    "    print(tip)\n",
    "    print(\"\\texpected: \", value1)\n",
    "    print(\"\\tcurrent: \", value2)\n",
    "\n",
    "    try:\n",
    "        assert value1 == value2, f\"{value1} != {value2}\"\n",
    "        print(\"\\tsuccess!\")\n",
    "        \n",
    "    except AssertionError as e:\n",
    "        print(\"\\tfailed!\")\n",
    "        raise e\n",
    "\n",
    "\n",
    "def active_login_superadmin(email=\"anelisedaux@gmail.com\", password=\"12345678\", wait=3):\n",
    "    active = new_window(\"https://active.stg.wellzesta.com/wz-login\")\n",
    "    type(active, email, placeholder='Type your e-mail')\n",
    "    type(active, password, placeholder='Type your password')\n",
    "    click(active, \"Sign In\")\n",
    "    time.sleep(wait)\n",
    "    return active\n",
    "\n",
    "\n",
    "def active_get_communitylogo_url(window):\n",
    "    click(window, tagname=\"a\", text=\"Organization Details\")\n",
    "    return get_communitylogo_url(window, clazz=\"Image-sc-nke03c-0 sxPXz\")\n",
    "\n",
    "print(\"Done!\")"
   ]
  },
  {
   "cell_type": "markdown",
   "metadata": {},
   "source": [
    "## Reusable Functions"
   ]
  },
  {
   "cell_type": "markdown",
   "metadata": {},
   "source": [
    "### Activate"
   ]
  },
  {
   "cell_type": "code",
   "execution_count": 75,
   "metadata": {},
   "outputs": [],
   "source": [
    "\n",
    "def active_login_superadmin(email=\"anelisedaux@gmail.com\", password=\"12345678\", wait=3):\n",
    "    active = new_window(\"https://active.stg.wellzesta.com/wz-login\")\n",
    "    type(active, email, placeholder='Type your e-mail')\n",
    "    type(active, password, placeholder='Type your password')\n",
    "    click(active, \"Sign In\")\n",
    "    time.sleep(wait)\n",
    "    return active\n",
    "\n",
    "\n",
    "def active_get_communitylogo_url(window):\n",
    "    return get_communitylogo_url(window, clazz=\"Image-sc-nke03c-0 sxPXz\")\n"
   ]
  },
  {
   "cell_type": "markdown",
   "metadata": {},
   "source": [
    "### Life"
   ]
  },
  {
   "cell_type": "code",
   "execution_count": 76,
   "metadata": {},
   "outputs": [],
   "source": [
    "\n",
    "def life_login_resident(email=\"yoda@gmail.com\", pin=\"1234\", wait=2):\n",
    "    life = new_window(\"https://life.stg.wellzesta.com/login\")\n",
    "\n",
    "    type(life, email, placeholder='Type your email')\n",
    "    click(life, \"Sign-in using PIN\")\n",
    "\n",
    "    type(life, pin, placeholder=\"PIN\")\n",
    "    click(life, \"Login\")\n",
    "\n",
    "    time.sleep(wait)\n",
    "    return life\n",
    "\n",
    "\n",
    "def life_get_communitylogo_url(window):\n",
    "    return get_communitylogo_url(window, clazz=\"w-8 h-8 rounded-md\")\n"
   ]
  },
  {
   "cell_type": "markdown",
   "metadata": {},
   "source": [
    "## Test: CommunityLogo"
   ]
  },
  {
   "cell_type": "code",
   "execution_count": 77,
   "metadata": {},
   "outputs": [
    {
     "name": "stdout",
     "output_type": "stream",
     "text": [
      "Teste 01: Verifica Logo da Organização\n",
      "\texpected:  https://cdn.filestackcontent.com/llb0AQv3TdS63QPEajWn\n",
      "\tcurrent:  https://life.stg.wellzesta.com/static/images/avafield.png\n",
      "\tfailed!\n"
     ]
    }
   ],
   "source": [
    "\n",
    "life = life_login_resident()\n",
    "\n",
    "life_logo_url = life_get_communitylogo_url(life)\n",
    "life.quit()\n",
    "\n",
    "active = active_login_superadmin()\n",
    "scroll_and_click(active, tagname=\"b\", text=\"Life Org - Florianopolis, AK\")\n",
    "click(active, tagname=\"a\", text=\"Organization Details\")\n",
    "\n",
    "active_logo_url = active_get_communitylogo_url(active)\n",
    "active.quit()\n",
    "\n",
    "try:\n",
    "    match(active_logo_url, life_logo_url, \"Teste 01: Verifica Logo da Organização\")\n",
    "except:\n",
    "    pass\n"
   ]
  }
 ],
 "metadata": {
  "kernelspec": {
   "display_name": "Python 3",
   "language": "python",
   "name": "python3"
  },
  "language_info": {
   "codemirror_mode": {
    "name": "ipython",
    "version": 3
   },
   "file_extension": ".py",
   "mimetype": "text/x-python",
   "name": "python",
   "nbconvert_exporter": "python",
   "pygments_lexer": "ipython3",
   "version": "3.9.6"
  }
 },
 "nbformat": 4,
 "nbformat_minor": 2
}
