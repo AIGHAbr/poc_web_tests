{
 "cells": [
  {
   "cell_type": "markdown",
   "metadata": {},
   "source": [
    "# Testes Wellzesta"
   ]
  },
  {
   "cell_type": "markdown",
   "metadata": {},
   "source": [
    "## Instalação do Selenium"
   ]
  },
  {
   "cell_type": "code",
   "execution_count": null,
   "metadata": {},
   "outputs": [],
   "source": [
    "%pip install selenium\n",
    "%pip install webdriver_manager"
   ]
  },
  {
   "cell_type": "markdown",
   "metadata": {},
   "source": [
    "## Source Code"
   ]
  },
  {
   "cell_type": "code",
   "execution_count": null,
   "metadata": {},
   "outputs": [],
   "source": [
    "from selenium import webdriver\n",
    "from webdriver_manager.chrome import ChromeDriverManager\n",
    "from selenium.webdriver.chrome.service import Service\n",
    "from selenium.webdriver.chrome.options import Options\n",
    "from selenium.webdriver.common.by import By\n",
    "import time\n",
    "\n",
    "prefs = {\"profile.default_content_setting_values.notifications\": 1}\n",
    "chrome_options.add_experimental_option(\"prefs\", prefs)\n",
    "\n",
    "service = Service(ChromeDriverManager().install())\n",
    "driver = webdriver.Chrome(service=service, options=chrome_options)\n",
    "driver.quit()\n",
    "\n",
    "def new_window(url, wait=0):\n",
    "    driver = webdriver.Chrome(service=service, options=chrome_options)\n",
    "    driver.get(url)\n",
    "    time.sleep(wait)\n",
    "    return driver\n",
    "\n",
    "\n",
    "def scroll(window, tagname, text, wait=0):\n",
    "    find_element(window, tagname, text).location_once_scrolled_into_view\n",
    "    time.sleep(wait)\n",
    "\n",
    "\n",
    "def scroll_and_click(window, tagname, text, wait=3):\n",
    "    e = find_element(window=window, tagname=tagname, text=text)\n",
    "    e.location_once_scrolled_into_view\n",
    "    e.click()\n",
    "    time.sleep(wait)\n",
    "\n",
    "def wait(seconds):\n",
    "    time.sleep(seconds)\n",
    "\n",
    "\n",
    "def get_attribute(window, mode, key, attribute):\n",
    "    return window.find_element(mode, key).get_attribute(attribute)\n",
    "\n",
    "\n",
    "def get_image_url(window, text=None, clazz=None):\n",
    "    img = find_element(window, tagname=\"img\", text=text, clazz=clazz)\n",
    "    return img.get_attribute(\"src\")\n",
    "\n",
    "def find_element(window, text=None, clazz=None, placeholder=None, id=None, tagname=\"*\", retry=5, delay=3):\n",
    "    \n",
    "    for i in range(retry):\n",
    "        if id!=None and element.get_attribute(\"id\")==id: return element\n",
    "        elements = window.find_elements(By.TAG_NAME, tagname)\n",
    "        for element in elements:\n",
    "            if text!=None and element.text==text: return element\n",
    "            if clazz!=None and element.get_attribute(\"class\")==clazz: return element\n",
    "            if placeholder!=None and element.get_attribute(\"placeholder\")==placeholder: return element\n",
    "        time.sleep(delay)\n",
    "\n",
    "\n",
    "def type(window, value, id=None, placeholder=None, wait=0):\n",
    "    element = find_element(window, tagname=\"input\", placeholder=placeholder, id=id)\n",
    "    element.send_keys(value)\n",
    "    time.sleep(wait)\n",
    "\n",
    "\n",
    "def click(window, text=None, tagname=\"button\", wait=3):\n",
    "    elements = window.find_elements(By.TAG_NAME, tagname)\n",
    "    for element in elements:\n",
    "        if not element.is_displayed():continue\n",
    "        if element.text!=None and element.text!=text:continue\n",
    "\n",
    "        element.click()\n",
    "        time.sleep(wait)\n",
    "        return True\n",
    "    return False\n",
    "\n",
    "\n",
    "def assert_equals(value1, value2, tip=\"test:\"):\n",
    "    print(tip)\n",
    "    print(\"\\texpected: \", value1)\n",
    "    print(\"\\tcurrent: \", value2)\n",
    "    assert value1 == value2, f\"{value1} != {value2}\"\n",
    "    print(\"\\tpassed\")\n",
    "\n",
    "\n",
    "print(\"done\")"
   ]
  },
  {
   "cell_type": "markdown",
   "metadata": {},
   "source": [
    "## Logar no Life e pegar URL da Organização"
   ]
  },
  {
   "cell_type": "code",
   "execution_count": null,
   "metadata": {},
   "outputs": [],
   "source": [
    "\n",
    "life = new_window(\"https://life.wellzesta.com/login\")\n",
    "\n",
    "type(life, \"ivete@gmail.com\", placeholder='Type your email')\n",
    "click(life, \"Sign-in using PIN\")\n",
    "\n",
    "type(life, \"1234\", placeholder=\"PIN\")\n",
    "click(life, \"Login\")\n",
    "\n",
    "url_life = get_image_url(life, clazz=\"w-8 h-8 rounded-md\")\n",
    "print(url_life)"
   ]
  },
  {
   "cell_type": "markdown",
   "metadata": {},
   "source": [
    "## Logar no Active e pegar URL da Organização"
   ]
  },
  {
   "cell_type": "code",
   "execution_count": null,
   "metadata": {},
   "outputs": [],
   "source": [
    "\n",
    "active = new_window(\"https://active.wellzesta.com/wz-login\")\n",
    "type(active, \"anelisedaux@gmail.com\", placeholder='Type your e-mail')\n",
    "type(active, \"NAxcNCjE@mERBcVZ@8Yu\", placeholder='Type your password')\n",
    "click(active, \"Sign In\")\n",
    "\n",
    "wait(2)\n",
    "scroll_and_click(active, tagname=\"b\", text=\"QA Life - Belmont, NC\")\n",
    "click(active, tagname=\"a\", text=\"Organization Details\")\n",
    "\n",
    "url_active = get_image_url(active, clazz=\"Image-sc-nke03c-0 sxPXz\")\n",
    "print(url_active)"
   ]
  },
  {
   "cell_type": "markdown",
   "metadata": {},
   "source": [
    "## Teste 01: Verifica Logo da Organização"
   ]
  },
  {
   "cell_type": "code",
   "execution_count": null,
   "metadata": {},
   "outputs": [],
   "source": [
    "url_life = get_image_url(life, clazz=\"w-8 h-8 rounded-md\")\n",
    "url_active = get_image_url(active, clazz=\"Image-sc-nke03c-0 sxPXz\")\n",
    "\n",
    "life.quit()\n",
    "active.quit()\n",
    "\n",
    "assert_equals(url_life, url_active, \"Teste 01: Verifica Logo da Organização\")"
   ]
  }
 ],
 "metadata": {
  "kernelspec": {
   "display_name": "Python 3",
   "language": "python",
   "name": "python3"
  },
  "language_info": {
   "codemirror_mode": {
    "name": "ipython",
    "version": 3
   },
   "file_extension": ".py",
   "mimetype": "text/x-python",
   "name": "python",
   "nbconvert_exporter": "python",
   "pygments_lexer": "ipython3",
   "version": "3.9.6"
  }
 },
 "nbformat": 4,
 "nbformat_minor": 2
}
