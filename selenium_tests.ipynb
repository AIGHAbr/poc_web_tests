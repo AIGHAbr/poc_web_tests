{
 "cells": [
  {
   "cell_type": "markdown",
   "metadata": {},
   "source": [
    "# Testes Wellzesta"
   ]
  },
  {
   "cell_type": "markdown",
   "metadata": {},
   "source": [
    "## Instalação do Selenium"
   ]
  },
  {
   "cell_type": "code",
   "execution_count": 1,
   "metadata": {},
   "outputs": [
    {
     "name": "stdout",
     "output_type": "stream",
     "text": [
      "Done!\n"
     ]
    }
   ],
   "source": [
    "%pip install selenium\n",
    "%pip install webdriver_manager\n",
    "\n",
    "from IPython.display import clear_output\n",
    "clear_output()\n",
    "\n",
    "print(\"Done!\") "
   ]
  },
  {
   "cell_type": "markdown",
   "metadata": {},
   "source": [
    "## Source Code"
   ]
  },
  {
   "cell_type": "code",
   "execution_count": 8,
   "metadata": {},
   "outputs": [
    {
     "name": "stdout",
     "output_type": "stream",
     "text": [
      "done\n"
     ]
    }
   ],
   "source": [
    "from selenium import webdriver\n",
    "from webdriver_manager.chrome import ChromeDriverManager\n",
    "from selenium.webdriver.chrome.service import Service\n",
    "from selenium.webdriver.chrome.options import Options\n",
    "from selenium.webdriver.common.by import By\n",
    "import time\n",
    "\n",
    "prefs = {\"profile.default_content_setting_values.notifications\": 1}\n",
    "chrome_options = Options()\n",
    "chrome_options.add_experimental_option(\"prefs\", prefs)\n",
    "\n",
    "service = Service(ChromeDriverManager().install())\n",
    "driver = webdriver.Chrome(service=service, options=chrome_options)\n",
    "driver.quit()\n",
    "\n",
    "def new_window(url, wait=0):\n",
    "    driver = webdriver.Chrome(service=service, options=chrome_options)\n",
    "    driver.get(url)\n",
    "    time.sleep(wait)\n",
    "    return driver\n",
    "\n",
    "\n",
    "def scroll(window, tagname, text, wait=0):\n",
    "    find_element(window, tagname, text).location_once_scrolled_into_view\n",
    "    time.sleep(wait)\n",
    "\n",
    "\n",
    "def scroll_and_click(window, tagname, text, wait=3):\n",
    "    e = find_element(window=window, tagname=tagname, text=text)\n",
    "    e.location_once_scrolled_into_view\n",
    "    e.click()\n",
    "    time.sleep(wait)\n",
    "\n",
    "def wait(seconds):\n",
    "    time.sleep(seconds)\n",
    "\n",
    "\n",
    "def get_attribute(window, mode, key, attribute):\n",
    "    return window.find_element(mode, key).get_attribute(attribute)\n",
    "\n",
    "\n",
    "def get_communitylogo_url(window, text=None, clazz=None):\n",
    "    img = find_element(window, tagname=\"img\", text=text, clazz=clazz)\n",
    "    return img.get_attribute(\"src\")\n",
    "\n",
    "def find_element(window, text=None, clazz=None, placeholder=None, id=None, tagname=\"*\", retry=5, delay=3):\n",
    "    \n",
    "    for i in range(retry):\n",
    "        if id!=None and element.get_attribute(\"id\")==id: return element\n",
    "        elements = window.find_elements(By.TAG_NAME, tagname)\n",
    "        for element in elements:\n",
    "            if text!=None and element.text==text: return element\n",
    "            if clazz!=None and element.get_attribute(\"class\")==clazz: return element\n",
    "            if placeholder!=None and element.get_attribute(\"placeholder\")==placeholder: return element\n",
    "        time.sleep(delay)\n",
    "\n",
    "\n",
    "def type(window, value, id=None, placeholder=None, wait=0):\n",
    "    element = find_element(window, tagname=\"input\", placeholder=placeholder, id=id)\n",
    "    element.send_keys(value)\n",
    "    time.sleep(wait)\n",
    "\n",
    "\n",
    "def click(window, text=None, tagname=\"button\", wait=3):\n",
    "    elements = window.find_elements(By.TAG_NAME, tagname)\n",
    "    for element in elements:\n",
    "        if not element.is_displayed():continue\n",
    "        if element.text!=None and element.text!=text:continue\n",
    "\n",
    "        element.click()\n",
    "        time.sleep(wait)\n",
    "        return True\n",
    "    return False\n",
    "\n",
    "\n",
    "def match(value1, value2, tip=\"test:\"):\n",
    "    print(tip)\n",
    "    print(\"\\texpected: \", value1)\n",
    "    print(\"\\tcurrent: \", value2)\n",
    "    assert value1 == value2, f\"{value1} != {value2}\"\n",
    "    print(\"\\tsuccess!\")\n",
    "\n",
    "\n",
    "print(\"done\")"
   ]
  },
  {
   "cell_type": "markdown",
   "metadata": {},
   "source": [
    "## Common Utilities"
   ]
  },
  {
   "cell_type": "markdown",
   "metadata": {},
   "source": [
    "### Logins"
   ]
  },
  {
   "cell_type": "markdown",
   "metadata": {},
   "source": [
    "#### Life_Login_Resident"
   ]
  },
  {
   "cell_type": "code",
   "execution_count": 4,
   "metadata": {},
   "outputs": [
    {
     "name": "stdout",
     "output_type": "stream",
     "text": [
      "https://life.stg.wellzesta.com/static/images/avafield.png\n"
     ]
    }
   ],
   "source": [
    "def life_login_resident(email=\"yoda@gmail.com\", pin=\"1234\", wait=2):\n",
    "    life = new_window(\"https://life.stg.wellzesta.com/login\")\n",
    "\n",
    "    type(life, email, placeholder='Type your email')\n",
    "    click(life, \"Sign-in using PIN\")\n",
    "\n",
    "    type(life, pin, placeholder=\"PIN\")\n",
    "    click(life, \"Login\")\n",
    "\n",
    "    time.sleep(wait)\n",
    "    return life\n"
   ]
  },
  {
   "cell_type": "markdown",
   "metadata": {},
   "source": [
    "#### Active_Login_SuperAdmin"
   ]
  },
  {
   "cell_type": "code",
   "execution_count": 5,
   "metadata": {},
   "outputs": [
    {
     "name": "stdout",
     "output_type": "stream",
     "text": [
      "https://cdn.filestackcontent.com/llb0AQv3TdS63QPEajWn\n"
     ]
    }
   ],
   "source": [
    "def active_login_superadmin(email=\"anelisedaux@gmail.com\", password=\"12345678\", wait=3):\n",
    "    active = new_window(\"https://active.stg.wellzesta.com/wz-login\")\n",
    "    type(active, email, placeholder='Type your e-mail')\n",
    "    type(active, password, placeholder='Type your password')\n",
    "    click(active, \"Sign In\")\n",
    "    time.sleep(wait)\n"
   ]
  },
  {
   "cell_type": "markdown",
   "metadata": {},
   "source": [
    "### Active: Get_Organization"
   ]
  },
  {
   "cell_type": "code",
   "execution_count": null,
   "metadata": {},
   "outputs": [],
   "source": [
    "\n",
    "scroll_and_click(active, tagname=\"b\", text=\"Life Org - Florianopolis, AK\")"
   ]
  },
  {
   "cell_type": "markdown",
   "metadata": {},
   "source": [
    "### Life: Get_CommunityLogo_URL"
   ]
  },
  {
   "cell_type": "code",
   "execution_count": null,
   "metadata": {},
   "outputs": [],
   "source": [
    "\n",
    "life_communitylogo_url = get_communitylogo_url(life, clazz=\"w-8 h-8 rounded-md\")\n",
    "print(life_communitylogo_url)\n",
    "life.quit()\n"
   ]
  },
  {
   "cell_type": "markdown",
   "metadata": {},
   "source": [
    "## Get_CommunityLogo_URL"
   ]
  },
  {
   "cell_type": "code",
   "execution_count": null,
   "metadata": {},
   "outputs": [],
   "source": [
    "\n",
    "click(active, tagname=\"a\", text=\"Organization Details\")\n",
    "active_communitylogo_url = get_communitylogo_url(active, clazz=\"Image-sc-nke03c-0 sxPXz\")\n",
    "print(active_communitylogo_url)\n",
    "active.quit()\n"
   ]
  },
  {
   "cell_type": "markdown",
   "metadata": {},
   "source": [
    "## Test: CommunityLogo"
   ]
  },
  {
   "cell_type": "code",
   "execution_count": 7,
   "metadata": {},
   "outputs": [
    {
     "name": "stdout",
     "output_type": "stream",
     "text": [
      "Teste 01: Verifica Logo da Organização\n",
      "\texpected:  https://cdn.filestackcontent.com/llb0AQv3TdS63QPEajWn\n",
      "\tcurrent:  https://life.stg.wellzesta.com/static/images/avafield.png\n"
     ]
    },
    {
     "ename": "AssertionError",
     "evalue": "https://cdn.filestackcontent.com/llb0AQv3TdS63QPEajWn != https://life.stg.wellzesta.com/static/images/avafield.png",
     "output_type": "error",
     "traceback": [
      "\u001b[1;31m---------------------------------------------------------------------------\u001b[0m",
      "\u001b[1;31mAssertionError\u001b[0m                            Traceback (most recent call last)",
      "\u001b[1;32mc:\\Users\\aneli\\OneDrive\\Documents\\poc_web_tests\\selenium_tests.ipynb Cell 11\u001b[0m line \u001b[0;36m1\n\u001b[1;32m----> <a href='vscode-notebook-cell:/c%3A/Users/aneli/OneDrive/Documents/poc_web_tests/selenium_tests.ipynb#X13sZmlsZQ%3D%3D?line=0'>1</a>\u001b[0m \u001b[39mmatch\u001b[39;49;00m(active_communitylogo_url, life_communitylogo_url, \u001b[39m\"\u001b[39;49m\u001b[39mTeste 01: Verifica Logo da Organização\u001b[39;49m\u001b[39m\"\u001b[39;49m)\n",
      "\u001b[1;32mc:\\Users\\aneli\\OneDrive\\Documents\\poc_web_tests\\selenium_tests.ipynb Cell 11\u001b[0m line \u001b[0;36m8\n\u001b[0;32m     <a href='vscode-notebook-cell:/c%3A/Users/aneli/OneDrive/Documents/poc_web_tests/selenium_tests.ipynb#X13sZmlsZQ%3D%3D?line=77'>78</a>\u001b[0m \u001b[39mprint\u001b[39m(\u001b[39m\"\u001b[39m\u001b[39m\\t\u001b[39;00m\u001b[39mexpected: \u001b[39m\u001b[39m\"\u001b[39m, value1)\n\u001b[0;32m     <a href='vscode-notebook-cell:/c%3A/Users/aneli/OneDrive/Documents/poc_web_tests/selenium_tests.ipynb#X13sZmlsZQ%3D%3D?line=78'>79</a>\u001b[0m \u001b[39mprint\u001b[39m(\u001b[39m\"\u001b[39m\u001b[39m\\t\u001b[39;00m\u001b[39mcurrent: \u001b[39m\u001b[39m\"\u001b[39m, value2)\n\u001b[1;32m---> <a href='vscode-notebook-cell:/c%3A/Users/aneli/OneDrive/Documents/poc_web_tests/selenium_tests.ipynb#X13sZmlsZQ%3D%3D?line=79'>80</a>\u001b[0m \u001b[39massert\u001b[39;00m value1 \u001b[39m==\u001b[39m value2, \u001b[39mf\u001b[39m\u001b[39m\"\u001b[39m\u001b[39m{\u001b[39;00mvalue1\u001b[39m}\u001b[39;00m\u001b[39m != \u001b[39m\u001b[39m{\u001b[39;00mvalue2\u001b[39m}\u001b[39;00m\u001b[39m\"\u001b[39m\n\u001b[0;32m     <a href='vscode-notebook-cell:/c%3A/Users/aneli/OneDrive/Documents/poc_web_tests/selenium_tests.ipynb#X13sZmlsZQ%3D%3D?line=80'>81</a>\u001b[0m \u001b[39mprint\u001b[39m(\u001b[39m\"\u001b[39m\u001b[39m\\t\u001b[39;00m\u001b[39msuccess!\u001b[39m\u001b[39m\"\u001b[39m)\n",
      "\u001b[1;31mAssertionError\u001b[0m: https://cdn.filestackcontent.com/llb0AQv3TdS63QPEajWn != https://life.stg.wellzesta.com/static/images/avafield.png"
     ]
    }
   ],
   "source": [
    "match(active_communitylogo_url, life_communitylogo_url, \"Teste 01: Verifica Logo da Organização\")"
   ]
  }
 ],
 "metadata": {
  "kernelspec": {
   "display_name": "Python 3",
   "language": "python",
   "name": "python3"
  },
  "language_info": {
   "codemirror_mode": {
    "name": "ipython",
    "version": 3
   },
   "file_extension": ".py",
   "mimetype": "text/x-python",
   "name": "python",
   "nbconvert_exporter": "python",
   "pygments_lexer": "ipython3",
   "version": "3.11.7"
  }
 },
 "nbformat": 4,
 "nbformat_minor": 2
}
