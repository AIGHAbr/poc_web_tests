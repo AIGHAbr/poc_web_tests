{
 "cells": [
  {
   "cell_type": "markdown",
   "metadata": {},
   "source": [
    "# Testes Wellzesta"
   ]
  },
  {
   "cell_type": "markdown",
   "metadata": {},
   "source": [
    "## Instalação do Selenium"
   ]
  },
  {
   "cell_type": "code",
   "execution_count": 3,
   "metadata": {},
   "outputs": [
    {
     "name": "stderr",
     "output_type": "stream",
     "text": [
      "38.72s - pydevd: Sending message related to process being replaced timed-out after 5 seconds\n"
     ]
    },
    {
     "name": "stdout",
     "output_type": "stream",
     "text": [
      "Defaulting to user installation because normal site-packages is not writeable\n",
      "Requirement already satisfied: selenium in /Users/bihaiko/Library/Python/3.9/lib/python/site-packages (4.16.0)\n",
      "Requirement already satisfied: certifi>=2021.10.8 in /Users/bihaiko/Library/Python/3.9/lib/python/site-packages (from selenium) (2023.11.17)\n",
      "Requirement already satisfied: trio~=0.17 in /Users/bihaiko/Library/Python/3.9/lib/python/site-packages (from selenium) (0.24.0)\n",
      "Requirement already satisfied: urllib3[socks]<3,>=1.26 in /Users/bihaiko/Library/Python/3.9/lib/python/site-packages (from selenium) (1.26.18)\n",
      "Requirement already satisfied: trio-websocket~=0.9 in /Users/bihaiko/Library/Python/3.9/lib/python/site-packages (from selenium) (0.11.1)\n",
      "Requirement already satisfied: sortedcontainers in /Users/bihaiko/Library/Python/3.9/lib/python/site-packages (from trio~=0.17->selenium) (2.4.0)\n",
      "Requirement already satisfied: exceptiongroup in /Users/bihaiko/Library/Python/3.9/lib/python/site-packages (from trio~=0.17->selenium) (1.2.0)\n",
      "Requirement already satisfied: sniffio>=1.3.0 in /Users/bihaiko/Library/Python/3.9/lib/python/site-packages (from trio~=0.17->selenium) (1.3.0)\n",
      "Requirement already satisfied: attrs>=20.1.0 in /Users/bihaiko/Library/Python/3.9/lib/python/site-packages (from trio~=0.17->selenium) (23.2.0)\n",
      "Requirement already satisfied: outcome in /Users/bihaiko/Library/Python/3.9/lib/python/site-packages (from trio~=0.17->selenium) (1.3.0.post0)\n",
      "Requirement already satisfied: idna in /Users/bihaiko/Library/Python/3.9/lib/python/site-packages (from trio~=0.17->selenium) (3.6)\n",
      "Requirement already satisfied: wsproto>=0.14 in /Users/bihaiko/Library/Python/3.9/lib/python/site-packages (from trio-websocket~=0.9->selenium) (1.2.0)\n",
      "Requirement already satisfied: PySocks!=1.5.7,<2.0,>=1.5.6 in /Users/bihaiko/Library/Python/3.9/lib/python/site-packages (from urllib3[socks]<3,>=1.26->selenium) (1.7.1)\n",
      "Requirement already satisfied: h11<1,>=0.9.0 in /Users/bihaiko/Library/Python/3.9/lib/python/site-packages (from wsproto>=0.14->trio-websocket~=0.9->selenium) (0.14.0)\n",
      "\u001b[33mWARNING: You are using pip version 21.2.4; however, version 23.3.2 is available.\n",
      "You should consider upgrading via the '/Library/Developer/CommandLineTools/usr/bin/python3 -m pip install --upgrade pip' command.\u001b[0m\n",
      "Note: you may need to restart the kernel to use updated packages.\n"
     ]
    },
    {
     "name": "stderr",
     "output_type": "stream",
     "text": [
      "44.61s - pydevd: Sending message related to process being replaced timed-out after 5 seconds\n"
     ]
    },
    {
     "name": "stdout",
     "output_type": "stream",
     "text": [
      "Defaulting to user installation because normal site-packages is not writeable\n",
      "Requirement already satisfied: webdriver_manager in /Users/bihaiko/Library/Python/3.9/lib/python/site-packages (4.0.1)\n",
      "Requirement already satisfied: packaging in /Users/bihaiko/Library/Python/3.9/lib/python/site-packages (from webdriver_manager) (23.2)\n",
      "Requirement already satisfied: python-dotenv in /Users/bihaiko/Library/Python/3.9/lib/python/site-packages (from webdriver_manager) (1.0.0)\n",
      "Requirement already satisfied: requests in /Users/bihaiko/Library/Python/3.9/lib/python/site-packages (from webdriver_manager) (2.31.0)\n",
      "Requirement already satisfied: charset-normalizer<4,>=2 in /Users/bihaiko/Library/Python/3.9/lib/python/site-packages (from requests->webdriver_manager) (3.3.2)\n",
      "Requirement already satisfied: certifi>=2017.4.17 in /Users/bihaiko/Library/Python/3.9/lib/python/site-packages (from requests->webdriver_manager) (2023.11.17)\n",
      "Requirement already satisfied: urllib3<3,>=1.21.1 in /Users/bihaiko/Library/Python/3.9/lib/python/site-packages (from requests->webdriver_manager) (1.26.18)\n",
      "Requirement already satisfied: idna<4,>=2.5 in /Users/bihaiko/Library/Python/3.9/lib/python/site-packages (from requests->webdriver_manager) (3.6)\n",
      "\u001b[33mWARNING: You are using pip version 21.2.4; however, version 23.3.2 is available.\n",
      "You should consider upgrading via the '/Library/Developer/CommandLineTools/usr/bin/python3 -m pip install --upgrade pip' command.\u001b[0m\n",
      "Note: you may need to restart the kernel to use updated packages.\n"
     ]
    }
   ],
   "source": [
    "%pip install selenium\n",
    "%pip install webdriver_manager"
   ]
  },
  {
   "cell_type": "markdown",
   "metadata": {},
   "source": [
    "## Source Code"
   ]
  },
  {
   "cell_type": "code",
   "execution_count": 25,
   "metadata": {},
   "outputs": [
    {
     "name": "stdout",
     "output_type": "stream",
     "text": [
      "done\n"
     ]
    }
   ],
   "source": [
    "from selenium import webdriver\n",
    "from webdriver_manager.chrome import ChromeDriverManager\n",
    "from selenium.webdriver.chrome.service import Service\n",
    "from selenium.webdriver.chrome.options import Options\n",
    "from selenium.webdriver.common.by import By\n",
    "import time\n",
    "\n",
    "prefs = {\"profile.default_content_setting_values.notifications\": 1}\n",
    "chrome_options.add_experimental_option(\"prefs\", prefs)\n",
    "\n",
    "service = Service(ChromeDriverManager().install())\n",
    "driver = webdriver.Chrome(service=service, options=chrome_options)\n",
    "driver.quit()\n",
    "\n",
    "def new_window(url, wait=0):\n",
    "    driver = webdriver.Chrome(service=service, options=chrome_options)\n",
    "    driver.get(url)\n",
    "    time.sleep(wait)\n",
    "    return driver\n",
    "\n",
    "\n",
    "def scroll(window, tagname, text, wait=0):\n",
    "    find_element(window, tagname, text).location_once_scrolled_into_view\n",
    "    time.sleep(wait)\n",
    "\n",
    "\n",
    "def scroll_and_click(window, tagname, text, wait=3):\n",
    "    e = find_element(window=window, tagname=tagname, text=text)\n",
    "    e.location_once_scrolled_into_view\n",
    "    e.click()\n",
    "    time.sleep(wait)\n",
    "\n",
    "def wait(seconds):\n",
    "    time.sleep(seconds)\n",
    "\n",
    "\n",
    "def get_attribute(window, mode, key, attribute):\n",
    "    return window.find_element(mode, key).get_attribute(attribute)\n",
    "\n",
    "\n",
    "def get_image_url(window, text=None, clazz=None):\n",
    "    img = find_element(window, tagname=\"img\", text=text, clazz=clazz)\n",
    "    return img.get_attribute(\"src\")\n",
    "\n",
    "def find_element(window, text=None, clazz=None, placeholder=None, id=None, tagname=\"*\", retry=5, delay=3):\n",
    "    \n",
    "    for i in range(retry):\n",
    "        if id!=None and element.get_attribute(\"id\")==id: return element\n",
    "        elements = window.find_elements(By.TAG_NAME, tagname)\n",
    "        for element in elements:\n",
    "            if text!=None and element.text==text: return element\n",
    "            if clazz!=None and element.get_attribute(\"class\")==clazz: return element\n",
    "            if placeholder!=None and element.get_attribute(\"placeholder\")==placeholder: return element\n",
    "        time.sleep(delay)\n",
    "\n",
    "\n",
    "def type(window, value, id=None, placeholder=None, wait=0):\n",
    "    element = find_element(window, tagname=\"input\", placeholder=placeholder, id=id)\n",
    "    element.send_keys(value)\n",
    "    time.sleep(wait)\n",
    "\n",
    "\n",
    "def click(window, text=None, tagname=\"button\", wait=3):\n",
    "    elements = window.find_elements(By.TAG_NAME, tagname)\n",
    "    for element in elements:\n",
    "        if not element.is_displayed():continue\n",
    "        if element.text!=None and element.text!=text:continue\n",
    "\n",
    "        element.click()\n",
    "        time.sleep(wait)\n",
    "        return True\n",
    "    return False\n",
    "\n",
    "\n",
    "def assert_equals(value1, value2, tip=\"test:\"):\n",
    "    print(tip)\n",
    "    print(\"\\texpected: \", value1)\n",
    "    print(\"\\tcurrent: \", value2)\n",
    "    assert value1 == value2, f\"{value1} != {value2}\"\n",
    "    print(\"\\tpassed\")\n",
    "\n",
    "\n",
    "print(\"done\")"
   ]
  },
  {
   "cell_type": "markdown",
   "metadata": {},
   "source": [
    "## Logar no Life e pegar URL da Organização"
   ]
  },
  {
   "cell_type": "code",
   "execution_count": 22,
   "metadata": {},
   "outputs": [
    {
     "name": "stdout",
     "output_type": "stream",
     "text": [
      "https://cdn.filestackcontent.com/7YiHlMviRDydD6TJ6rS5\n"
     ]
    }
   ],
   "source": [
    "\n",
    "life = new_window(\"https://life.wellzesta.com/login\")\n",
    "\n",
    "type(life, \"ivete@gmail.com\", placeholder='Type your email')\n",
    "click(life, \"Sign-in using PIN\")\n",
    "\n",
    "type(life, \"1234\", placeholder=\"PIN\")\n",
    "click(life, \"Login\")\n",
    "\n",
    "url_life = get_image_url(life, clazz=\"w-8 h-8 rounded-md\")\n",
    "print(url_life)"
   ]
  },
  {
   "cell_type": "markdown",
   "metadata": {},
   "source": [
    "## Logar no Active e pegar URL da Organização"
   ]
  },
  {
   "cell_type": "code",
   "execution_count": 23,
   "metadata": {},
   "outputs": [
    {
     "name": "stdout",
     "output_type": "stream",
     "text": [
      "https://cdn.filestackcontent.com/7YiHlMviRDydD6TJ6rS5\n"
     ]
    }
   ],
   "source": [
    "\n",
    "active = new_window(\"https://active.wellzesta.com/wz-login\")\n",
    "type(active, \"anelisedaux@gmail.com\", placeholder='Type your e-mail')\n",
    "type(active, \"NAxcNCjE@mERBcVZ@8Yu\", placeholder='Type your password')\n",
    "click(active, \"Sign In\")\n",
    "\n",
    "wait(2)\n",
    "scroll_and_click(active, tagname=\"b\", text=\"QA Life - Belmont, NC\")\n",
    "click(active, tagname=\"a\", text=\"Organization Details\")\n",
    "\n",
    "url_active = get_image_url(active, clazz=\"Image-sc-nke03c-0 sxPXz\")\n",
    "print(url_active)"
   ]
  },
  {
   "cell_type": "markdown",
   "metadata": {},
   "source": [
    "## Testa URL das Logos"
   ]
  },
  {
   "cell_type": "code",
   "execution_count": 27,
   "metadata": {},
   "outputs": [
    {
     "name": "stdout",
     "output_type": "stream",
     "text": [
      "verifica logo da organização\n",
      "\texpected:  https://cdn.filestackcontent.com/7YiHlMviRDydD6TJ6rS5\n",
      "\tcurrent:  https://cdn.filestackcontent.com/7YiHlMviRDydD6TJ6rS5\n",
      "passed\n"
     ]
    }
   ],
   "source": [
    "url_life = get_image_url(life, clazz=\"w-8 h-8 rounded-md\")\n",
    "url_active = get_image_url(active, clazz=\"Image-sc-nke03c-0 sxPXz\")\n",
    "\n",
    "life.quit()\n",
    "active.quit()\n",
    "\n",
    "assert_equals(url_life, url_active, \"verifica logo da organização\")"
   ]
  }
 ],
 "metadata": {
  "kernelspec": {
   "display_name": "Python 3",
   "language": "python",
   "name": "python3"
  },
  "language_info": {
   "codemirror_mode": {
    "name": "ipython",
    "version": 3
   },
   "file_extension": ".py",
   "mimetype": "text/x-python",
   "name": "python",
   "nbconvert_exporter": "python",
   "pygments_lexer": "ipython3",
   "version": "3.9.6"
  }
 },
 "nbformat": 4,
 "nbformat_minor": 2
}
