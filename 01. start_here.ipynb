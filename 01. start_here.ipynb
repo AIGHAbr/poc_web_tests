{
 "cells": [
  {
   "cell_type": "markdown",
   "metadata": {},
   "source": [
    "# Setup"
   ]
  },
  {
   "cell_type": "code",
   "execution_count": 1,
   "metadata": {},
   "outputs": [
    {
     "data": {
      "text/plain": [
       "'All packages installed'"
      ]
     },
     "metadata": {},
     "output_type": "display_data"
    },
    {
     "name": "stdout",
     "output_type": "stream",
     "text": [
      "\n",
      "Requirement already satisfied: NELL in /opt/homebrew/lib/python3.10/site-packages (0.1)\n",
      "\n",
      "\u001b[1m[\u001b[0m\u001b[34;49mnotice\u001b[0m\u001b[1;39;49m]\u001b[0m\u001b[39;49m A new release of pip is available: \u001b[0m\u001b[31;49m23.2.1\u001b[0m\u001b[39;49m -> \u001b[0m\u001b[32;49m23.3.2\u001b[0m\n",
      "\u001b[1m[\u001b[0m\u001b[34;49mnotice\u001b[0m\u001b[1;39;49m]\u001b[0m\u001b[39;49m To update, run: \u001b[0m\u001b[32;49mpython3.10 -m pip install --upgrade pip\u001b[0m\n",
      "Note: you may need to restart the kernel to use updated packages.\n"
     ]
    },
    {
     "data": {
      "text/plain": [
       "'NELL builded and installed'"
      ]
     },
     "metadata": {},
     "output_type": "display_data"
    }
   ],
   "source": [
    "\n",
    "from IPython.display import display, clear_output\n",
    "\n",
    "def install_requires_packages():\n",
    "    global all_packages_installed\n",
    "\n",
    "    try: \n",
    "        if all_packages_installed: return\n",
    "    except: pass\n",
    "\n",
    "    %pip install -r requirements.txt\n",
    "    all_packages_installed = True\n",
    "    clear_output()  \n",
    "\n",
    "\n",
    "def build_nell_test_tool():\n",
    "\n",
    "    import sys\n",
    "    import subprocess\n",
    "\n",
    "    python_executable = sys.executable\n",
    "\n",
    "    try:\n",
    "        result = subprocess.run(\n",
    "            [python_executable, \"-m\", \"build\"], \n",
    "                stdout=subprocess.PIPE, \n",
    "                stderr=subprocess.PIPE, \n",
    "                check=True)\n",
    "        \n",
    "        print(result.stdout.decode())   \n",
    "        display(\"NELL (Nell Test Tool) Built Successfully!\")\n",
    "\n",
    "    except subprocess.CalledProcessError as e:\n",
    "        print(e.stderr.decode())\n",
    "\n",
    "install_requires_packages()\n",
    "display(\"All packages installed\")\n",
    "\n",
    "build_nell_test_tool()\n",
    "%pip install NELL\n",
    "display(\"NELL builded and installed\")"
   ]
  },
  {
   "cell_type": "markdown",
   "metadata": {},
   "source": [
    "# Lest Test!"
   ]
  },
  {
   "cell_type": "code",
   "execution_count": null,
   "metadata": {},
   "outputs": [
    {
     "data": {
      "application/vnd.jupyter.widget-view+json": {
       "model_id": "e98495d55a834a6ba119f6e21afeb21f",
       "version_major": 2,
       "version_minor": 0
      },
      "text/plain": [
       "HBox(children=(VBox(children=(Button(description='+', layout=Layout(height='30px', width='30px'), style=Button…"
      ]
     },
     "metadata": {},
     "output_type": "display_data"
    },
    {
     "name": "stdout",
     "output_type": "stream",
     "text": [
      "[{'info': 'start log events'}, {'info': 'selenium framework'}, {'info': 'page loaded', 'url': 'https://life.stg.wellzesta.com/login'}, {'event': 'click', 'tagName': 'input', 'alias': 'txt_email', 'xpath': '//input[@id=\"email\"]'}]\n",
      "snapshot.html updated\n",
      "[{'info': 'start log events'}, {'info': 'selenium framework'}, {'info': 'page loaded', 'url': 'https://life.stg.wellzesta.com/login'}, {'event': 'click', 'tagName': 'input', 'alias': 'txt_email', 'xpath': '//input[@id=\"email\"]'}, {'info': 'html src snapshot', 'id': 1, 'timestamp': '2024-02-05 00:27:26'}]\n"
     ]
    },
    {
     "name": "stderr",
     "output_type": "stream",
     "text": [
      "127.0.0.1 - - [05/Feb/2024 00:27:26] \"POST / HTTP/1.1\" 200 -\n",
      "127.0.0.1 - - [05/Feb/2024 00:27:26] \"OPTIONS / HTTP/1.1\" 200 -\n",
      "127.0.0.1 - - [05/Feb/2024 00:27:26] \"OPTIONS / HTTP/1.1\" 200 -\n",
      "127.0.0.1 - - [05/Feb/2024 00:27:26] \"OPTIONS / HTTP/1.1\" 200 -\n",
      "127.0.0.1 - - [05/Feb/2024 00:27:26] \"OPTIONS / HTTP/1.1\" 200 -\n",
      "127.0.0.1 - - [05/Feb/2024 00:27:26] \"POST / HTTP/1.1\" 200 -\n",
      "127.0.0.1 - - [05/Feb/2024 00:27:26] \"POST / HTTP/1.1\" 200 -\n",
      "127.0.0.1 - - [05/Feb/2024 00:27:26] \"POST / HTTP/1.1\" 200 -\n",
      "127.0.0.1 - - [05/Feb/2024 00:27:33] \"OPTIONS / HTTP/1.1\" 200 -\n",
      "127.0.0.1 - - [05/Feb/2024 00:27:33] \"POST / HTTP/1.1\" 200 -\n"
     ]
    },
    {
     "name": "stdout",
     "output_type": "stream",
     "text": [
      "[{'info': 'start log events'}, {'info': 'selenium framework'}, {'info': 'page loaded', 'url': 'https://life.stg.wellzesta.com/login'}, {'event': 'click', 'tagName': 'input', 'alias': 'txt_email', 'xpath': '//input[@id=\"email\"]'}, {'info': 'html src snapshot', 'id': 1, 'timestamp': '2024-02-05 00:27:26'}, {'event': 'sendkeys', 'tagName': 'input', 'alias': 'txt_email', 'text': 'sandro', 'specialKey': 'Enter', 'xpath': '//input[@id=\"email\"]'}]\n",
      "snapshot.html updated\n",
      "[{'info': 'start log events'}, {'info': 'selenium framework'}, {'info': 'page loaded', 'url': 'https://life.stg.wellzesta.com/login'}, {'event': 'click', 'tagName': 'input', 'alias': 'txt_email', 'xpath': '//input[@id=\"email\"]'}, {'info': 'html src snapshot', 'id': 1, 'timestamp': '2024-02-05 00:27:26'}, {'event': 'sendkeys', 'tagName': 'input', 'alias': 'txt_email', 'text': 'sandro', 'specialKey': 'Enter', 'xpath': '//input[@id=\"email\"]'}, {'info': 'html src snapshot', 'id': 2, 'timestamp': '2024-02-05 00:27:33'}]\n",
      "[{'info': 'start log events'}, {'info': 'selenium framework'}, {'info': 'page loaded', 'url': 'https://life.stg.wellzesta.com/login'}, {'event': 'click', 'tagName': 'input', 'alias': 'txt_email', 'xpath': '//input[@id=\"email\"]'}, {'info': 'html src snapshot', 'id': 1, 'timestamp': '2024-02-05 00:27:26'}, {'event': 'sendkeys', 'tagName': 'input', 'alias': 'txt_email', 'text': 'sandro', 'specialKey': 'Enter', 'xpath': '//input[@id=\"email\"]'}, {'info': 'html src snapshot', 'id': 2, 'timestamp': '2024-02-05 00:27:33'}, {'change': 'html attribute', 'tagName': 'input', 'attribute': 'value', 'value_from': '', 'value_to': 'sandro', 'xpath': '//input[@id=\"email\"]'}]\n"
     ]
    },
    {
     "name": "stderr",
     "output_type": "stream",
     "text": [
      "127.0.0.1 - - [05/Feb/2024 00:27:42] \"OPTIONS / HTTP/1.1\" 200 -\n",
      "127.0.0.1 - - [05/Feb/2024 00:27:42] \"OPTIONS / HTTP/1.1\" 200 -\n",
      "127.0.0.1 - - [05/Feb/2024 00:27:42] \"OPTIONS / HTTP/1.1\" 200 -\n",
      "127.0.0.1 - - [05/Feb/2024 00:27:42] \"OPTIONS / HTTP/1.1\" 200 -\n",
      "127.0.0.1 - - [05/Feb/2024 00:27:42] \"OPTIONS / HTTP/1.1\" 200 -\n",
      "127.0.0.1 - - [05/Feb/2024 00:27:42] \"OPTIONS / HTTP/1.1\" 200 -\n",
      "127.0.0.1 - - [05/Feb/2024 00:27:42] \"OPTIONS / HTTP/1.1\" 200 -\n",
      "127.0.0.1 - - [05/Feb/2024 00:27:42] \"POST / HTTP/1.1\" 200 -\n",
      "127.0.0.1 - - [05/Feb/2024 00:27:42] \"POST / HTTP/1.1\" 200 -\n",
      "127.0.0.1 - - [05/Feb/2024 00:27:42] \"POST / HTTP/1.1\" 200 -\n",
      "127.0.0.1 - - [05/Feb/2024 00:27:42] \"POST / HTTP/1.1\" 200 -\n",
      "127.0.0.1 - - [05/Feb/2024 00:27:42] \"POST / HTTP/1.1\" 200 -\n",
      "127.0.0.1 - - [05/Feb/2024 00:27:42] \"POST / HTTP/1.1\" 200 -\n",
      "127.0.0.1 - - [05/Feb/2024 00:27:42] \"POST / HTTP/1.1\" 200 -\n"
     ]
    },
    {
     "name": "stdout",
     "output_type": "stream",
     "text": [
      "[{'info': 'start log events'}, {'info': 'selenium framework'}, {'info': 'page loaded', 'url': 'https://life.stg.wellzesta.com/login'}, {'event': 'click', 'tagName': 'input', 'alias': 'txt_email', 'xpath': '//input[@id=\"email\"]'}, {'info': 'html src snapshot', 'id': 1, 'timestamp': '2024-02-05 00:27:26'}, {'event': 'sendkeys', 'tagName': 'input', 'alias': 'txt_email', 'text': 'sandro', 'specialKey': 'Enter', 'xpath': '//input[@id=\"email\"]'}, {'info': 'html src snapshot', 'id': 2, 'timestamp': '2024-02-05 00:27:33'}, {'change': 'html attribute', 'tagName': 'input', 'attribute': 'value', 'value_from': '', 'value_to': 'sandro', 'xpath': '//input[@id=\"email\"]'}, {'event': 'click', 'tagName': 'div', 'alias': None}]\n",
      "snapshot.html updated\n",
      "[{'info': 'start log events'}, {'info': 'selenium framework'}, {'info': 'page loaded', 'url': 'https://life.stg.wellzesta.com/login'}, {'event': 'click', 'tagName': 'input', 'alias': 'txt_email', 'xpath': '//input[@id=\"email\"]'}, {'info': 'html src snapshot', 'id': 1, 'timestamp': '2024-02-05 00:27:26'}, {'event': 'sendkeys', 'tagName': 'input', 'alias': 'txt_email', 'text': 'sandro', 'specialKey': 'Enter', 'xpath': '//input[@id=\"email\"]'}, {'info': 'html src snapshot', 'id': 2, 'timestamp': '2024-02-05 00:27:33'}, {'change': 'html attribute', 'tagName': 'input', 'attribute': 'value', 'value_from': '', 'value_to': 'sandro', 'xpath': '//input[@id=\"email\"]'}, {'event': 'click', 'tagName': 'div', 'alias': None}, {'info': 'html src snapshot', 'id': 3, 'timestamp': '2024-02-05 00:27:42'}]\n",
      "[{'info': 'start log events'}, {'info': 'selenium framework'}, {'info': 'page loaded', 'url': 'https://life.stg.wellzesta.com/login'}, {'event': 'click', 'tagName': 'input', 'alias': 'txt_email', 'xpath': '//input[@id=\"email\"]'}, {'info': 'html src snapshot', 'id': 1, 'timestamp': '2024-02-05 00:27:26'}, {'event': 'sendkeys', 'tagName': 'input', 'alias': 'txt_email', 'text': 'sandro', 'specialKey': 'Enter', 'xpath': '//input[@id=\"email\"]'}, {'info': 'html src snapshot', 'id': 2, 'timestamp': '2024-02-05 00:27:33'}, {'change': 'html attribute', 'tagName': 'input', 'attribute': 'value', 'value_from': '', 'value_to': 'sandro', 'xpath': '//input[@id=\"email\"]'}, {'event': 'click', 'tagName': 'div', 'alias': None}, {'info': 'html src snapshot', 'id': 3, 'timestamp': '2024-02-05 00:27:42'}, {'change': 'html class', 'tagName': 'input', 'attribute': 'class', 'added': ['focus:outline-none', 'border-red-100', 'focus:border-red-100', 'text-red-100'], 'removed': ['focus-visible'], 'xpath': '//input[@id=\"email\"]'}]\n",
      "[{'info': 'start log events'}, {'info': 'selenium framework'}, {'info': 'page loaded', 'url': 'https://life.stg.wellzesta.com/login'}, {'event': 'click', 'tagName': 'input', 'alias': 'txt_email', 'xpath': '//input[@id=\"email\"]'}, {'info': 'html src snapshot', 'id': 1, 'timestamp': '2024-02-05 00:27:26'}, {'event': 'sendkeys', 'tagName': 'input', 'alias': 'txt_email', 'text': 'sandro', 'specialKey': 'Enter', 'xpath': '//input[@id=\"email\"]'}, {'info': 'html src snapshot', 'id': 2, 'timestamp': '2024-02-05 00:27:33'}, {'change': 'html attribute', 'tagName': 'input', 'attribute': 'value', 'value_from': '', 'value_to': 'sandro', 'xpath': '//input[@id=\"email\"]'}, {'event': 'click', 'tagName': 'div', 'alias': None}, {'info': 'html src snapshot', 'id': 3, 'timestamp': '2024-02-05 00:27:42'}, {'change': 'html class', 'tagName': 'input', 'attribute': 'class', 'added': ['focus:outline-none', 'border-red-100', 'focus:border-red-100', 'text-red-100'], 'removed': ['focus-visible'], 'xpath': '//input[@id=\"email\"]'}, {'change': 'html attribute', 'tagName': 'input', 'attribute': 'data-focus-visible-added', 'value_from': '', 'value_to': 'N/A', 'xpath': '//input[@id=\"email\"]'}]\n",
      "[{'info': 'start log events'}, {'info': 'selenium framework'}, {'info': 'page loaded', 'url': 'https://life.stg.wellzesta.com/login'}, {'event': 'click', 'tagName': 'input', 'alias': 'txt_email', 'xpath': '//input[@id=\"email\"]'}, {'info': 'html src snapshot', 'id': 1, 'timestamp': '2024-02-05 00:27:26'}, {'event': 'sendkeys', 'tagName': 'input', 'alias': 'txt_email', 'text': 'sandro', 'specialKey': 'Enter', 'xpath': '//input[@id=\"email\"]'}, {'info': 'html src snapshot', 'id': 2, 'timestamp': '2024-02-05 00:27:33'}, {'change': 'html attribute', 'tagName': 'input', 'attribute': 'value', 'value_from': '', 'value_to': 'sandro', 'xpath': '//input[@id=\"email\"]'}, {'event': 'click', 'tagName': 'div', 'alias': None}, {'info': 'html src snapshot', 'id': 3, 'timestamp': '2024-02-05 00:27:42'}, {'change': 'html class', 'tagName': 'input', 'attribute': 'class', 'added': ['focus:outline-none', 'border-red-100', 'focus:border-red-100', 'text-red-100'], 'removed': ['focus-visible'], 'xpath': '//input[@id=\"email\"]'}, {'change': 'html attribute', 'tagName': 'input', 'attribute': 'data-focus-visible-added', 'value_from': '', 'value_to': 'N/A', 'xpath': '//input[@id=\"email\"]'}, {'change': 'html attribute', 'tagName': 'span', 'attribute': 'hidden', 'value_from': '', 'value_to': 'N/A', 'xpath': None}]\n"
     ]
    },
    {
     "name": "stderr",
     "output_type": "stream",
     "text": [
      "127.0.0.1 - - [05/Feb/2024 00:28:38] \"OPTIONS / HTTP/1.1\" 200 -\n",
      "127.0.0.1 - - [05/Feb/2024 00:28:38] \"OPTIONS / HTTP/1.1\" 200 -\n",
      "127.0.0.1 - - [05/Feb/2024 00:28:38] \"OPTIONS / HTTP/1.1\" 200 -\n",
      "127.0.0.1 - - [05/Feb/2024 00:28:38] \"OPTIONS / HTTP/1.1\" 200 -\n",
      "127.0.0.1 - - [05/Feb/2024 00:28:38] \"OPTIONS / HTTP/1.1\" 200 -\n",
      "127.0.0.1 - - [05/Feb/2024 00:28:38] \"OPTIONS / HTTP/1.1\" 200 -\n",
      "127.0.0.1 - - [05/Feb/2024 00:28:38] \"OPTIONS / HTTP/1.1\" 200 -\n",
      "127.0.0.1 - - [05/Feb/2024 00:28:38] \"POST / HTTP/1.1\" 200 -\n",
      "127.0.0.1 - - [05/Feb/2024 00:28:38] \"POST / HTTP/1.1\" 200 -\n",
      "127.0.0.1 - - [05/Feb/2024 00:28:38] \"POST / HTTP/1.1\" 200 -\n",
      "127.0.0.1 - - [05/Feb/2024 00:28:38] \"POST / HTTP/1.1\" 200 -\n",
      "127.0.0.1 - - [05/Feb/2024 00:28:38] \"POST / HTTP/1.1\" 200 -\n",
      "127.0.0.1 - - [05/Feb/2024 00:28:38] \"POST / HTTP/1.1\" 200 -\n",
      "127.0.0.1 - - [05/Feb/2024 00:28:38] \"POST / HTTP/1.1\" 200 -\n"
     ]
    }
   ],
   "source": [
    "from IPython.display import clear_output\n",
    "from NELL.Playground import Playground\n",
    "from NELL.logger.Logger import Logger\n",
    "from NELL.logger.Snapshoter import Snapshoter\n",
    "\n",
    "clear_output()\n",
    "playground = Playground()\n",
    "\n",
    "logger = Logger()\n",
    "snapshoter = Snapshoter(logger)"
   ]
  }
 ],
 "metadata": {
  "kernelspec": {
   "display_name": "Python 3",
   "language": "python",
   "name": "python3"
  },
  "language_info": {
   "codemirror_mode": {
    "name": "ipython",
    "version": 3
   },
   "file_extension": ".py",
   "mimetype": "text/x-python",
   "name": "python",
   "nbconvert_exporter": "python",
   "pygments_lexer": "ipython3",
   "version": "3.10.13"
  }
 },
 "nbformat": 4,
 "nbformat_minor": 2
}
