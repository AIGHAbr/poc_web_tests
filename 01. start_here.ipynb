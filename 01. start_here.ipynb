{
 "cells": [
  {
   "cell_type": "markdown",
   "metadata": {},
   "source": [
    "# Setup"
   ]
  },
  {
   "cell_type": "code",
   "execution_count": 1,
   "metadata": {},
   "outputs": [
    {
     "name": "stdout",
     "output_type": "stream",
     "text": [
      "/Users/bihaiko/VSCodeProjects/poc_web_tests/.venv/bin/python: No module named build\n",
      "\n",
      "Requirement already satisfied: NELL in ./.venv/lib/python3.10/site-packages (0.1)\n",
      "Note: you may need to restart the kernel to use updated packages.\n"
     ]
    },
    {
     "data": {
      "text/plain": [
       "'All packages installed'"
      ]
     },
     "metadata": {},
     "output_type": "display_data"
    }
   ],
   "source": [
    "from IPython.display import display, clear_output\n",
    "\n",
    "def install_requires_packages():\n",
    "    global all_packages_installed\n",
    "\n",
    "    try: \n",
    "        if all_packages_installed: return\n",
    "    except: pass\n",
    "\n",
    "    %pip install -r requirements.txt\n",
    "    all_packages_installed = True\n",
    "    clear_output()  \n",
    "\n",
    "\n",
    "def build_nell_test_tool():\n",
    "\n",
    "    import sys\n",
    "    import subprocess\n",
    "\n",
    "    python_executable = sys.executable\n",
    "\n",
    "    try:\n",
    "        result = subprocess.run(\n",
    "            [python_executable, \"-m\", \"build\"], \n",
    "                stdout=subprocess.PIPE, \n",
    "                stderr=subprocess.PIPE, \n",
    "                check=True)\n",
    "\n",
    "        display(\"NELL (Nell Test Tool) Built Successfully!\")\n",
    "\n",
    "    except subprocess.CalledProcessError as e:\n",
    "        print(e.stderr.decode())\n",
    "\n",
    "install_requires_packages()\n",
    "\n",
    "build_nell_test_tool()\n",
    "%pip install NELL\n",
    "\n",
    "display(\"All packages installed\")"
   ]
  },
  {
   "cell_type": "markdown",
   "metadata": {},
   "source": [
    "# Lest Test!"
   ]
  },
  {
   "cell_type": "code",
   "execution_count": 2,
   "metadata": {},
   "outputs": [
    {
     "data": {
      "application/vnd.jupyter.widget-view+json": {
       "model_id": "cf4f5cabf2e84c1f90b68f4f7a47a269",
       "version_major": 2,
       "version_minor": 0
      },
      "text/plain": [
       "HBox(children=(VBox(children=(Button(description='+', layout=Layout(height='30px', width='30px'), style=Button…"
      ]
     },
     "metadata": {},
     "output_type": "display_data"
    },
    {
     "name": "stdout",
     "output_type": "stream",
     "text": [
      "Serving at port 8000\n"
     ]
    },
    {
     "name": "stdout",
     "output_type": "stream",
     "text": [
      "[{'info': 'start log events', 'timestamp': '2024-02-10 17:04:36'}]\n",
      "[{'info': 'start log events', 'timestamp': '2024-02-10 17:04:36'}, {'info': 'selenium framework', 'timestamp': '2024-02-10 17:04:36'}]\n",
      "[{'info': 'start log events', 'timestamp': '2024-02-10 17:04:36'}, {'info': 'selenium framework', 'timestamp': '2024-02-10 17:04:36'}, {'info': 'page loaded', 'url': 'https://life.stg.wellzesta.com/login', 'timestamp': '2024-02-10 17:04:36', 'page_id': 'Page_1'}]\n"
     ]
    }
   ],
   "source": [
    "from IPython.display import clear_output\n",
    "from NELL.Main import Main\n",
    "from NELL.logger.Logger import Logger\n",
    "from NELL.logger.Snapshoter import Snapshoter\n",
    "\n",
    "clear_output()\n",
    "main = Main()\n",
    "\n",
    "logger = Logger()\n",
    "snapshoter = Snapshoter(logger)"
   ]
  }
 ],
 "metadata": {
  "kernelspec": {
   "display_name": "Python 3",
   "language": "python",
   "name": "python3"
  },
  "language_info": {
   "codemirror_mode": {
    "name": "ipython",
    "version": 3
   },
   "file_extension": ".py",
   "mimetype": "text/x-python",
   "name": "python",
   "nbconvert_exporter": "python",
   "pygments_lexer": "ipython3",
   "version": "3.10.13"
  }
 },
 "nbformat": 4,
 "nbformat_minor": 2
}
