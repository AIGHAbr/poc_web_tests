{
 "cells": [
  {
   "cell_type": "markdown",
   "metadata": {},
   "source": [
    "# Setup"
   ]
  },
  {
   "cell_type": "code",
   "execution_count": 1,
   "metadata": {},
   "outputs": [
    {
     "name": "stdout",
     "output_type": "stream",
     "text": [
      "/Users/bihaiko/anaconda3/bin/python: No module named build\n",
      "\n",
      "Requirement already satisfied: NELL in /Users/bihaiko/anaconda3/lib/python3.11/site-packages (0.1)\n",
      "Note: you may need to restart the kernel to use updated packages.\n"
     ]
    },
    {
     "data": {
      "text/plain": [
       "'All packages installed'"
      ]
     },
     "metadata": {},
     "output_type": "display_data"
    }
   ],
   "source": [
    "from NELL.Main import Main\n",
    "from NELL.logger.Logger import Logger\n",
    "from NELL.logger.Snapshoter import Snapshoter\n",
    "from IPython.display import display, clear_output\n",
    "\n",
    "def install_requires_packages():\n",
    "    global all_packages_installed\n",
    "\n",
    "    try: \n",
    "        if all_packages_installed: return\n",
    "    except: pass\n",
    "\n",
    "    %pip install -r requirements.txt\n",
    "    all_packages_installed = True\n",
    "    clear_output()  \n",
    "\n",
    "\n",
    "def build_nell_test_tool():\n",
    "\n",
    "    import sys\n",
    "    import subprocess\n",
    "\n",
    "    python_executable = sys.executable\n",
    "\n",
    "    try:\n",
    "        result = subprocess.run(\n",
    "            [python_executable, \"-m\", \"build\"], \n",
    "                stdout=subprocess.PIPE, \n",
    "                stderr=subprocess.PIPE, \n",
    "                check=True)\n",
    "\n",
    "        display(\"NELL (Nell Test Tool) Built Successfully!\")\n",
    "\n",
    "    except subprocess.CalledProcessError as e:\n",
    "        print(e.stderr.decode())\n",
    "\n",
    "install_requires_packages()\n",
    "\n",
    "build_nell_test_tool()\n",
    "%pip install NELL\n",
    "\n",
    "display(\"All packages installed\")"
   ]
  },
  {
   "cell_type": "markdown",
   "metadata": {},
   "source": [
    "# Recorder"
   ]
  },
  {
   "cell_type": "code",
   "execution_count": 2,
   "metadata": {},
   "outputs": [
    {
     "data": {
      "application/vnd.jupyter.widget-view+json": {
       "model_id": "85db01458a274bf5a5a3f7c1589531bd",
       "version_major": 2,
       "version_minor": 0
      },
      "text/plain": [
       "HBox(children=(VBox(children=(Button(description='+', layout=Layout(height='30px', width='30px'), style=Button…"
      ]
     },
     "metadata": {},
     "output_type": "display_data"
    }
   ],
   "source": [
    "clear_output()\n",
    "main = Main()\n",
    "snapshoter = Snapshoter(Logger())"
   ]
  },
  {
   "cell_type": "markdown",
   "metadata": {},
   "source": [
    "# Robot Generation"
   ]
  },
  {
   "cell_type": "code",
   "execution_count": 3,
   "metadata": {},
   "outputs": [
    {
     "data": {
      "text/plain": [
       "'*** Keywords.Resources ***'"
      ]
     },
     "metadata": {},
     "output_type": "display_data"
    },
    {
     "name": "stdout",
     "output_type": "stream",
     "text": [
      "```\n",
      "*** Settings ***\n",
      "Documentation     A resource file with keywords for testing the ISS Curitiba website.\n",
      "Library           SeleniumLibrary\n",
      "\n",
      "*** Variables ***\n",
      "${LOGIN_INPUT}    xpath://input[@id=\"txtLogin\"]\n",
      "${PASSWORD_INPUT}    xpath://input[@id=\"txtSenha\"]\n",
      "${CODE_INPUT}    xpath://input[@id=\"txtCodeTextBox\"]\n",
      "${LOGIN_BUTTON}    xpath://input[@id=\"btnLogar\"]\n",
      "${LOGIN_URL}    https://isscuritiba.curitiba.pr.gov.br/iss/default.aspx\n",
      "\n",
      "*** Keywords ***\n",
      "Open Browser To ISS Curitiba Page\n",
      "    [Arguments]    ${BROWSER}\n",
      "    Open Browser    ${LOGIN_URL}    ${BROWSER}\n",
      "    Maximize Browser Window\n",
      "    Wait Until Page Contains    Login\n",
      "\n",
      "Enter Login Information\n",
      "    [Arguments]    ${username}    ${password}    ${code}\n",
      "    Wait Until Element Is Visible    ${LOGIN_INPUT}    10s\n",
      "    Input Text    ${LOGIN_INPUT}    ${username}\n",
      "    Press Keys    ${LOGIN_INPUT}    ENTER\n",
      "    Wait Until Element Is Visible    ${PASSWORD_INPUT}    10s\n",
      "    Input Text    ${PASSWORD_INPUT}    ${password}\n",
      "    Press Keys    ${PASSWORD_INPUT}    ENTER\n",
      "    Wait Until Element Is Visible    ${CODE_INPUT}    10s\n",
      "    Click Element    ${CODE_INPUT}\n",
      "    Input Text    ${CODE_INPUT}    ${code}\n",
      "    Click Element    ${LOGIN_BUTTON}\n",
      "\n",
      "Verify Successful Login\n",
      "    [Arguments]    ${expected_url}\n",
      "    Wait Until Page Contains Element    ${LOGIN_BUTTON}    15s\n",
      "    ${current_url}=    Get Location\n",
      "    Should Be Equal As Strings    ${current_url}    ${expected_url}\n",
      "\n",
      "Verify Login Error\n",
      "    Wait Until Element Is Visible    ${LOGIN_BUTTON}    15s\n",
      "    ${is_visible}=    Run Keyword And Return Status    Element Should Be Visible    ${LOGIN_BUTTON}\n",
      "    Should Be True    ${is_visible}\n",
      "```\n",
      "\n"
     ]
    },
    {
     "data": {
      "text/plain": [
       "'*** TestSuit.Robot ***'"
      ]
     },
     "metadata": {},
     "output_type": "display_data"
    },
    {
     "name": "stdout",
     "output_type": "stream",
     "text": [
      "```\n",
      "*** Settings ***\n",
      "Documentation     Test Suite for validating the login functionality on the ISS Curitiba website.\n",
      "Resource          keywords.resource\n",
      "\n",
      "Suite Setup       Open Browser To ISS Curitiba Page    Chrome\n",
      "Suite Teardown    Close Browser\n",
      "Test Setup        Go To    ${LOGIN_URL}\n",
      "Test Teardown     Capture Page Screenshot\n",
      "\n",
      "*** Variables ***\n",
      "${BROWSER}        Chrome\n",
      "${USERNAME}       nivel5\n",
      "${PASSWORD}       f9N2yxBLYu-9\n",
      "${CODE}           Entrar\n",
      "${EXPECTED_URL}   https://isscuritiba.curitiba.pr.gov.br/e-ISSHelp/Not%20Fiscal%20Not%20User/iss_help.htm\n",
      "\n",
      "*** Test Cases ***\n",
      "Valid Login\n",
      "    [Documentation]    Test Case to verify if a user can log in with valid credentials.\n",
      "    Enter Login Information    ${USERNAME}    ${PASSWORD}    ${CODE}\n",
      "    Verify Successful Login    ${EXPECTED_URL}\n",
      "\n",
      "Invalid Login\n",
      "    [Documentation]    Test Case to verify the system behavior with invalid credentials.\n",
      "    Enter Login Information    ${USERNAME}    wrongpassword    ${CODE}\n",
      "    Verify Login Error\n",
      "```\n",
      "```\n",
      "*** Settings ***\n",
      "Documentation     A resource file with keywords for testing the ISS Curitiba website.\n",
      "Library           SeleniumLibrary\n",
      "\n",
      "*** Variables ***\n",
      "${LOGIN_INPUT}    xpath://input[@id=\"txtLogin\"]\n",
      "${PASSWORD_INPUT}    xpath://input[@id=\"txtSenha\"]\n",
      "${CODE_INPUT}    xpath://input[@id=\"txtCodeTextBox\"]\n",
      "${LOGIN_BUTTON}    xpath://input[@id=\"btnLogar\"]\n",
      "${LOGIN_URL}    https://isscuritiba.curitiba.pr.gov.br/iss/default.aspx\n",
      "\n",
      "*** Keywords ***\n",
      "Open Browser To ISS Curitiba Page\n",
      "    [Arguments]    ${BROWSER}\n",
      "    Open Browser    ${LOGIN_URL}    ${BROWSER}\n",
      "    Maximize Browser Window\n",
      "    Wait Until Page Contains    Login\n",
      "\n",
      "Enter Login Information\n",
      "    [Arguments]    ${username}    ${password}    ${code}\n",
      "    Wait Until Element Is Visible    ${LOGIN_INPUT}    10s\n",
      "    Input Text    ${LOGIN_INPUT}    ${username}\n",
      "    Press Keys    ${LOGIN_INPUT}    ENTER\n",
      "    Wait Until Element Is Visible    ${PASSWORD_INPUT}    10s\n",
      "    Input Text    ${PASSWORD_INPUT}    ${password}\n",
      "    Press Keys    ${PASSWORD_INPUT}    ENTER\n",
      "    Wait Until Element Is Visible    ${CODE_INPUT}    10s\n",
      "    Click Element    ${CODE_INPUT}\n",
      "    Input Text    ${CODE_INPUT}    ${code}\n",
      "    Click Element    ${LOGIN_BUTTON}\n",
      "\n",
      "Verify Successful Login\n",
      "    [Arguments]    ${expected_url}\n",
      "    Wait Until Page Contains Element    ${LOGIN_BUTTON}    15s\n",
      "    ${current_url}=    Get Location\n",
      "    Should Be Equal As Strings    ${current_url}    ${expected_url}\n",
      "\n",
      "Verify Login Error\n",
      "    Wait Until Element Is Visible    ${LOGIN_BUTTON}    15s\n",
      "    ${is_visible}=    Run Keyword And Return Status    Element Should Be Visible    ${LOGIN_BUTTON}\n",
      "    Should Be True    ${is_visible}\n",
      "```\n",
      "===\n",
      "```\n",
      "*** Settings ***\n",
      "Documentation     Test Suite for validating the login functionality on the ISS Curitiba website.\n",
      "Resource          keywords.resource\n",
      "\n",
      "Suite Setup       Open Browser To ISS Curitiba Page    Chrome\n",
      "Suite Teardown    Close Browser\n",
      "Test Setup        Go To    ${LOGIN_URL}\n",
      "Test Teardown     Capture Page Screenshot\n",
      "\n",
      "*** Variables ***\n",
      "${BROWSER}        Chrome\n",
      "${USERNAME}       nivel5\n",
      "${PASSWORD}       f9N2yxBLYu-9\n",
      "${CODE}           Entrar\n",
      "${EXPECTED_URL}   https://isscuritiba.curitiba.pr.gov.br/e-ISSHelp/Not%20Fiscal%20Not%20User/iss_help.htm\n",
      "\n",
      "*** Test Cases ***\n",
      "Valid Login\n",
      "    [Documentation]    Test Case to verify if a user can log in with valid credentials.\n",
      "    Enter Login Information    ${USERNAME}    ${PASSWORD}    ${CODE}\n",
      "    Verify Successful Login    ${EXPECTED_URL}\n",
      "\n",
      "Invalid Login\n",
      "    [Documentation]    Test Case to verify the system behavior with invalid credentials.\n",
      "    Enter Login Information    ${USERNAME}    wrongpassword    ${CODE}\n",
      "    Verify Login Error\n",
      "```\n"
     ]
    },
    {
     "data": {
      "text/plain": [
       "'*** Logs ***'"
      ]
     },
     "metadata": {},
     "output_type": "display_data"
    },
    {
     "name": "stdout",
     "output_type": "stream",
     "text": [
      "\n",
      "17. {'event': 'sendkeys', 'tagName': 'input', 'text': 'Entrar', 'specialKey': 'Enter', 'widget_id': 'Page_2:input:txt_btnlogar', 'timestamp': '2024-02-14 07:07', 'xpath': '//input[@id=\"btnLogar\"]'}\n",
      "16. {'event': 'click', 'tagName': 'input', 'widget_id': 'Page_2:input:txt_txtcodetextbox', 'timestamp': '2024-02-14 07:07', 'xpath': '//input[@id=\"txtCodeTextBox\"]'}\n",
      "15. {'change': 'html attribute', 'tagName': 'body', 'attribute': 'style', 'value_from': 'background: rgb(247, 247, 247);', 'value_to': 'N/A', 'xpath': '//*[document]/html/body', 'timestamp': '2024-02-14 07:07'}\n",
      "14. {'change': 'html attribute', 'tagName': 'body', 'attribute': 'rightmargin', 'value_from': '0', 'value_to': 'N/A', 'xpath': '//*[document]/html/body', 'timestamp': '2024-02-14 07:07'}\n",
      "13. {'change': 'html attribute', 'tagName': 'body', 'attribute': 'scroll', 'value_from': 'no', 'value_to': 'N/A', 'xpath': '//*[document]/html/body', 'timestamp': '2024-02-14 07:07'}\n",
      "12. {'change': 'html attribute', 'tagName': 'body', 'attribute': 'topmargin', 'value_from': '0', 'value_to': 'N/A', 'xpath': '//*[document]/html/body', 'timestamp': '2024-02-14 07:07'}\n",
      "11. {'change': 'html attribute', 'tagName': 'body', 'attribute': 'leftmargin', 'value_from': '0', 'value_to': 'N/A', 'xpath': '//*[document]/html/body', 'timestamp': '2024-02-14 07:07'}\n",
      "10. {'change': 'html attribute', 'tagName': 'body', 'attribute': 'bottommargin', 'value_from': '0', 'value_to': 'N/A', 'xpath': '//*[document]/html/body', 'timestamp': '2024-02-14 07:07'}\n",
      "9. {'info': 'page src snapshot', 'id': 'snapshot_2', 'timestamp': '2024-02-14 07:07:24'}\n",
      "8. {'event': 'sendkeys', 'tagName': 'input', 'text': 'f9N2yxBLYu-9', 'specialKey': 'Enter', 'widget_id': 'Page_2:input:txt_txtsenha', 'timestamp': '2024-02-14 07:07', 'xpath': '//input[@id=\"txtSenha\"]'}\n",
      "7. {'event': 'click', 'tagName': 'input', 'widget_id': 'Page_2:input:txt_txtsenha', 'timestamp': '2024-02-14 07:05', 'xpath': '//input[@id=\"txtSenha\"]'}\n",
      "6. {'info': 'page loaded', 'url': 'https://isscuritiba.curitiba.pr.gov.br/e-ISSHelp/Not%20Fiscal%20Not%20User/iss_help.htm', 'timestamp': '2024-02-14 07:05', 'window_handle': '03342F9B3C497176BF31D4D965DEFB77', 'page_id': 'Page_3'}\n",
      "5. {'info': 'page src snapshot', 'id': 'snapshot_1', 'timestamp': '2024-02-14 07:05:38'}\n",
      "4. {'event': 'sendkeys', 'tagName': 'input', 'text': 'nivel5', 'specialKey': 'Enter', 'widget_id': 'Page_2:input:txt_txtlogin', 'timestamp': '2024-02-14 07:05', 'xpath': '//input[@id=\"txtLogin\"]'}\n",
      "3. {'info': 'page loaded', 'url': 'https://isscuritiba.curitiba.pr.gov.br/iss/default.aspx', 'timestamp': '2024-02-14 07:05', 'window_handle': 'BCFD67368192A625C6455F6F9769A8A1', 'page_id': 'Page_2'}\n",
      "2. {'info': 'page loaded', 'url': 'https://isscuritiba.curitiba.pr.gov.br/iss/Default.htm', 'timestamp': '2024-02-14 07:05', 'window_handle': 'AC0D419ABE883E0D20962806C496DC8D', 'page_id': 'Page_1'}\n",
      "1. {'info': 'selenium framework', 'timestamp': '2024-02-14 07:05'}\n",
      "0. {'info': 'start log events', 'timestamp': '2024-02-14 07:05'}\n",
      "\n"
     ]
    }
   ],
   "source": [
    "from NELL.ai.ai_utils import get_open_ai_key\n",
    "from NELL.ai.ai_utils import generate_robot, convert_to_selenium\n",
    "from NELL.ai.logs_sample import sample03\n",
    "\n",
    "def generate():\n",
    "    \n",
    "    get_open_ai_key()\n",
    "    result = generate_robot(sample03)\n",
    "\n",
    "    try:\n",
    "        scripts = result.split('<inicio testsuit.robot>')\n",
    "        if len(scripts) == 1 or len(scripts) >2:\n",
    "            scripts = result.split('===')\n",
    "\n",
    "        script1 = scripts[0].replace(\"<inicio keyword.resource>\", \"\").replace(\"<fim keyword.resource>\", \"\").replace(\"===\", \"\")\n",
    "        script2 = scripts[1].replace(\"<inicio testsuit.robot>\", \"\").replace(\"<fim testsuit.robot>'\", \"\").replace(\"===\", \"\")\n",
    "        \n",
    "        display(\"*** Keywords.Resources ***\")\n",
    "        print(script1.lstrip())\n",
    "\n",
    "        display(\"*** TestSuit.Robot ***\")\n",
    "        print(script2.lstrip())\n",
    "\n",
    "        result2 = convert_to_selenium(sample03, result)\n",
    "        display(\"*** Selenium ***\")\n",
    "        print(result2)\n",
    "        \n",
    "    except:\n",
    "        print(result)\n",
    "\n",
    "    display(\"*** Logs ***\")\n",
    "    print(sample03)\n",
    "\n",
    "generate()"
   ]
  }
 ],
 "metadata": {
  "kernelspec": {
   "display_name": "Python 3",
   "language": "python",
   "name": "python3"
  },
  "language_info": {
   "codemirror_mode": {
    "name": "ipython",
    "version": 3
   },
   "file_extension": ".py",
   "mimetype": "text/x-python",
   "name": "python",
   "nbconvert_exporter": "python",
   "pygments_lexer": "ipython3",
   "version": "3.11.5"
  }
 },
 "nbformat": 4,
 "nbformat_minor": 2
}
