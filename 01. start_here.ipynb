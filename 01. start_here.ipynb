{
 "cells": [
  {
   "cell_type": "markdown",
   "metadata": {},
   "source": [
    "# Setup"
   ]
  },
  {
   "cell_type": "code",
   "execution_count": 1,
   "metadata": {},
   "outputs": [
    {
     "name": "stdout",
     "output_type": "stream",
     "text": [
      "/Users/bihaiko/VSCodeProjects/poc_web_tests/.venv/bin/python: No module named build\n",
      "\n",
      "Requirement already satisfied: NELL in ./.venv/lib/python3.10/site-packages (0.1)\n",
      "Note: you may need to restart the kernel to use updated packages.\n"
     ]
    },
    {
     "data": {
      "text/plain": [
       "'All packages installed'"
      ]
     },
     "metadata": {},
     "output_type": "display_data"
    }
   ],
   "source": [
    "from IPython.display import display, clear_output\n",
    "\n",
    "def install_requires_packages():\n",
    "    global all_packages_installed\n",
    "\n",
    "    try: \n",
    "        if all_packages_installed: return\n",
    "    except: pass\n",
    "\n",
    "    %pip install -r requirements.txt\n",
    "    all_packages_installed = True\n",
    "    clear_output()  \n",
    "\n",
    "\n",
    "def build_nell_test_tool():\n",
    "\n",
    "    import sys\n",
    "    import subprocess\n",
    "\n",
    "    python_executable = sys.executable\n",
    "\n",
    "    try:\n",
    "        result = subprocess.run(\n",
    "            [python_executable, \"-m\", \"build\"], \n",
    "                stdout=subprocess.PIPE, \n",
    "                stderr=subprocess.PIPE, \n",
    "                check=True)\n",
    "\n",
    "        display(\"NELL (Nell Test Tool) Built Successfully!\")\n",
    "\n",
    "    except subprocess.CalledProcessError as e:\n",
    "        print(e.stderr.decode())\n",
    "\n",
    "install_requires_packages()\n",
    "\n",
    "build_nell_test_tool()\n",
    "%pip install NELL\n",
    "\n",
    "display(\"All packages installed\")"
   ]
  },
  {
   "cell_type": "markdown",
   "metadata": {},
   "source": [
    "# Lest Test!"
   ]
  },
  {
   "cell_type": "code",
   "execution_count": 2,
   "metadata": {},
   "outputs": [
    {
     "data": {
      "application/vnd.jupyter.widget-view+json": {
       "model_id": "2c3143b1513c4ac8afa046545e7444da",
       "version_major": 2,
       "version_minor": 0
      },
      "text/plain": [
       "HBox(children=(VBox(children=(Button(description='+', layout=Layout(height='30px', width='30px'), style=Button…"
      ]
     },
     "metadata": {},
     "output_type": "display_data"
    },
    {
     "name": "stdout",
     "output_type": "stream",
     "text": [
      "Serving at port 8000\n"
     ]
    },
    {
     "name": "stdout",
     "output_type": "stream",
     "text": [
      "[{'info': 'start log events', 'timestamp': '2024-02-10 14:11:19'}]\n",
      "[{'info': 'start log events', 'timestamp': '2024-02-10 14:11:19'}, {'info': 'selenium framework', 'timestamp': '2024-02-10 14:11:19'}]\n",
      "[{'info': 'start log events', 'timestamp': '2024-02-10 14:11:19'}, {'info': 'selenium framework', 'timestamp': '2024-02-10 14:11:19'}, {'info': 'page loaded', 'url': 'https://life.stg.wellzesta.com/login', 'timestamp': '2024-02-10 14:11:20', 'page_id': 'page_1'}]\n",
      "[{'PageId': 'page_1', 'Key': 'btn_back', 'Locator': '//button[contains(text(), \"Back\")]', 'Type': 'button', 'UID': 'page_1:button:btn_back', 'Data': {'key': 'btn_back', 'selector': '//button[contains(text(), \"Back\")]', 'text': 'Back', 'visibility': 'visible', 'type': 'button', 'class': ['btn', 'action', 'focus-visible:ring-2', 'focus-visible:ring-offset-0', 'focus-visible:ring-blue-400', 'flex', 'justify-center', 'items-center', 'is-sm', 'is-primary']}}, {'PageId': 'page_1', 'Key': 'btn_sign_in_using_pin', 'Locator': '//button[contains(text(), \"Sign-in using PIN\")]', 'Type': 'button', 'UID': 'page_1:button:btn_sign_in_using_pin', 'Data': {'key': 'btn_sign_in_using_pin', 'selector': '//button[contains(text(), \"Sign-in using PIN\")]', 'text': 'Sign-in using PIN', 'visibility': 'visible', 'type': 'submit', 'class': ['btn', 'action', 'focus-visible:ring-2', 'focus-visible:ring-offset-0', 'focus-visible:ring-blue-400', 'w-full', 'is-md', 'is-primary']}}, {'PageId': 'page_1', 'Key': 'txt_email', 'Locator': '//input[@id=\"email\"]', 'Type': 'input', 'UID': 'page_1:input:txt_email', 'Data': {'key': 'txt_email', 'selector': '//input[@id=\"email\"]', 'text': '', 'visibility': 'visible', 'type': 'email', 'id': 'email', 'name': 'email', 'value': '', 'placeholder': 'Type your email', 'class': ['px-2', 'w-full', 'rounded', 'h-11', 'bg-gray-300', 'font-bold', 'border-2', 'border-transparent', 'focus:border-brand-blue-light', 'placeholder-gray-600']}}, {'PageId': 'page_1', 'Key': 'lnk_terms_&_conditions', 'Locator': \"//*[@id='__next']/div[2]/div/div[2]/div/div[2]/span/a\", 'Type': 'a', 'UID': 'page_1:a:lnk_terms_&_conditions', 'Data': {'key': 'lnk_terms_&_conditions', 'selector': \"//*[@id='__next']/div[2]/div/div[2]/div/div[2]/span/a\", 'text': 'Terms & Conditions', 'visibility': 'visible', 'href': 'https://policies.wellzesta.com/terms-of-use/', 'target': '_blank', 'class': ['action', 'focus-visible:ring-2', 'focus-visible:ring-offset-0', 'focus-visible:ring-blue-400', 'flex', 'items-center', 'min-h-action', 'is-md', 'text-primary', 'focus:text-primary-darken', 'active:text-primary-darken', 'hover:text-primary-lighten', 'underline', 'justify-center', 'font-semibold']}}, {'PageId': 'page_1', 'Key': 'lnk_sign_in_as_community', 'Locator': '//a[@data-test-id=\"login-as-community\"]', 'Type': 'a', 'UID': 'page_1:a:lnk_sign_in_as_community', 'Data': {'key': 'lnk_sign_in_as_community', 'selector': '//a[@data-test-id=\"login-as-community\"]', 'text': 'Sign-in as Community', 'visibility': 'visible', 'data-test-id': 'login-as-community', 'href': '/community-login', 'class': ['action', 'focus-visible:ring-2', 'focus-visible:ring-offset-0', 'focus-visible:ring-blue-400', 'flex', 'items-center', 'min-h-action', 'is-sm', 'text-primary', 'focus:text-primary-darken', 'active:text-primary-darken', 'hover:text-primary-lighten', 'underline', 'undefined', 'font-semibold']}}, {'PageId': 'page_1', 'Key': 'lnk_using_pin', 'Locator': '//a[contains(text(), \"using PIN\")]', 'Type': 'a', 'UID': 'page_1:a:lnk_using_pin', 'Data': {'key': 'lnk_using_pin', 'selector': '//a[contains(text(), \"using PIN\")]', 'text': 'using PIN', 'visibility': 'visible', 'href': '/pin-login?email=', 'class': ['action', 'focus-visible:ring-2', 'focus-visible:ring-offset-0', 'focus-visible:ring-blue-400', 'flex', 'items-center', 'min-h-action', 'is-sm', 'underline', 'justify-center', 'font-semibold']}}]\n",
      "key: btn_back, locator: //button[contains(text(), \"Back\")], uid: page_1:button:btn_back\n",
      "key: btn_sign_in_using_pin, locator: //button[contains(text(), \"Sign-in using PIN\")], uid: page_1:button:btn_sign_in_using_pin\n",
      "key: txt_email, locator: //input[@id=\"email\"], uid: page_1:input:txt_email\n",
      "key: lnk_terms_&_conditions, locator: //*[@id='__next']/div[2]/div/div[2]/div/div[2]/span/a, uid: page_1:a:lnk_terms_&_conditions\n",
      "key: lnk_sign_in_as_community, locator: //a[@data-test-id=\"login-as-community\"], uid: page_1:a:lnk_sign_in_as_community\n",
      "key: lnk_using_pin, locator: //a[contains(text(), \"using PIN\")], uid: page_1:a:lnk_using_pin\n"
     ]
    }
   ],
   "source": [
    "from IPython.display import clear_output\n",
    "from NELL.Main import Main\n",
    "from NELL.logger.Logger import Logger\n",
    "from NELL.logger.Snapshoter import Snapshoter\n",
    "\n",
    "clear_output()\n",
    "main = Main()\n",
    "\n",
    "logger = Logger()\n",
    "snapshoter = Snapshoter(logger)"
   ]
  }
 ],
 "metadata": {
  "kernelspec": {
   "display_name": "Python 3",
   "language": "python",
   "name": "python3"
  },
  "language_info": {
   "codemirror_mode": {
    "name": "ipython",
    "version": 3
   },
   "file_extension": ".py",
   "mimetype": "text/x-python",
   "name": "python",
   "nbconvert_exporter": "python",
   "pygments_lexer": "ipython3",
   "version": "3.10.13"
  }
 },
 "nbformat": 4,
 "nbformat_minor": 2
}
