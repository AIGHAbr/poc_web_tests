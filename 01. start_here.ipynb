{
 "cells": [
  {
   "cell_type": "markdown",
   "metadata": {},
   "source": [
    "# Setup"
   ]
  },
  {
   "cell_type": "code",
   "execution_count": 1,
   "metadata": {},
   "outputs": [
    {
     "name": "stdout",
     "output_type": "stream",
     "text": [
      "/Users/bihaiko/VSCodeProjects/poc_web_tests/.venv/bin/python: No module named build\n",
      "\n",
      "Requirement already satisfied: NELL in ./.venv/lib/python3.10/site-packages (0.1)\n",
      "Note: you may need to restart the kernel to use updated packages.\n"
     ]
    },
    {
     "data": {
      "text/plain": [
       "'All packages installed'"
      ]
     },
     "metadata": {},
     "output_type": "display_data"
    }
   ],
   "source": [
    "from IPython.display import display, clear_output\n",
    "\n",
    "def install_requires_packages():\n",
    "    global all_packages_installed\n",
    "\n",
    "    try: \n",
    "        if all_packages_installed: return\n",
    "    except: pass\n",
    "\n",
    "    %pip install -r requirements.txt\n",
    "    all_packages_installed = True\n",
    "    clear_output()  \n",
    "\n",
    "\n",
    "def build_nell_test_tool():\n",
    "\n",
    "    import sys\n",
    "    import subprocess\n",
    "\n",
    "    python_executable = sys.executable\n",
    "\n",
    "    try:\n",
    "        result = subprocess.run(\n",
    "            [python_executable, \"-m\", \"build\"], \n",
    "                stdout=subprocess.PIPE, \n",
    "                stderr=subprocess.PIPE, \n",
    "                check=True)\n",
    "\n",
    "        display(\"NELL (Nell Test Tool) Built Successfully!\")\n",
    "\n",
    "    except subprocess.CalledProcessError as e:\n",
    "        print(e.stderr.decode())\n",
    "\n",
    "install_requires_packages()\n",
    "\n",
    "build_nell_test_tool()\n",
    "%pip install NELL\n",
    "\n",
    "display(\"All packages installed\")"
   ]
  },
  {
   "cell_type": "markdown",
   "metadata": {},
   "source": [
    "# Lest Test!"
   ]
  },
  {
   "cell_type": "code",
   "execution_count": 2,
   "metadata": {},
   "outputs": [
    {
     "data": {
      "application/vnd.jupyter.widget-view+json": {
       "model_id": "337b9f128b93483fa82fa0b32947eb08",
       "version_major": 2,
       "version_minor": 0
      },
      "text/plain": [
       "HBox(children=(VBox(children=(Button(description='+', layout=Layout(height='30px', width='30px'), style=Button…"
      ]
     },
     "metadata": {},
     "output_type": "display_data"
    },
    {
     "name": "stdout",
     "output_type": "stream",
     "text": [
      "Serving at port 8000\n"
     ]
    },
    {
     "name": "stdout",
     "output_type": "stream",
     "text": [
      "[{'info': 'start log events', 'timestamp': '2024-02-10 19:11:12'}]\n",
      "[{'info': 'start log events', 'timestamp': '2024-02-10 19:11:12'}, {'info': 'selenium framework', 'timestamp': '2024-02-10 19:11:12'}]\n",
      "[{'info': 'start log events', 'timestamp': '2024-02-10 19:11:12'}, {'info': 'selenium framework', 'timestamp': '2024-02-10 19:11:12'}, {'info': 'page loaded', 'url': 'https://life.stg.wellzesta.com/login', 'timestamp': '2024-02-10 19:11:12', 'page_id': 'Page_1'}]\n",
      "Error while highlighting the element: Message: javascript error: missing ) after argument list\n",
      "  (Session info: chrome=121.0.6167.160)\n",
      "Stacktrace:\n",
      "0   chromedriver                        0x00000001027aa7dc chromedriver + 4040668\n",
      "1   chromedriver                        0x00000001027a29e0 chromedriver + 4008416\n",
      "2   chromedriver                        0x0000000102415870 chromedriver + 284784\n",
      "3   chromedriver                        0x000000010241a3c4 chromedriver + 304068\n",
      "4   chromedriver                        0x000000010241c194 chromedriver + 311700\n",
      "5   chromedriver                        0x00000001024939b4 chromedriver + 801204\n",
      "6   chromedriver                        0x0000000102493048 chromedriver + 798792\n",
      "7   chromedriver                        0x000000010244d74c chromedriver + 513868\n",
      "8   chromedriver                        0x000000010244e044 chromedriver + 516164\n",
      "9   chromedriver                        0x000000010276fa04 chromedriver + 3799556\n",
      "10  chromedriver                        0x0000000102773ee4 chromedriver + 3817188\n",
      "11  chromedriver                        0x0000000102758260 chromedriver + 3703392\n",
      "12  chromedriver                        0x0000000102774a2c chromedriver + 3820076\n",
      "13  chromedriver                        0x000000010274b01c chromedriver + 3649564\n",
      "14  chromedriver                        0x0000000102791e3c chromedriver + 3939900\n",
      "15  chromedriver                        0x0000000102791fb4 chromedriver + 3940276\n",
      "16  chromedriver                        0x00000001027a2660 chromedriver + 4007520\n",
      "17  libsystem_pthread.dylib             0x000000018cdca034 _pthread_start + 136\n",
      "18  libsystem_pthread.dylib             0x000000018cdc4e3c thread_start + 8\n",
      "\n"
     ]
    },
    {
     "name": "stderr",
     "output_type": "stream",
     "text": [
      "Traceback (most recent call last):\n",
      "  File \"/Users/bihaiko/VSCodeProjects/poc_web_tests/NELL/Selenium.py\", line 89, in highlight_element\n",
      "    self.driver.execute_script(script)\n",
      "  File \"/Users/bihaiko/VSCodeProjects/poc_web_tests/.venv/lib/python3.10/site-packages/selenium/webdriver/remote/webdriver.py\", line 407, in execute_script\n",
      "    return self.execute(command, {\"script\": script, \"args\": converted_args})[\"value\"]\n",
      "  File \"/Users/bihaiko/VSCodeProjects/poc_web_tests/.venv/lib/python3.10/site-packages/selenium/webdriver/remote/webdriver.py\", line 347, in execute\n",
      "    self.error_handler.check_response(response)\n",
      "  File \"/Users/bihaiko/VSCodeProjects/poc_web_tests/.venv/lib/python3.10/site-packages/selenium/webdriver/remote/errorhandler.py\", line 229, in check_response\n",
      "    raise exception_class(message, screen, stacktrace)\n",
      "selenium.common.exceptions.JavascriptException: Message: javascript error: missing ) after argument list\n",
      "  (Session info: chrome=121.0.6167.160)\n",
      "Stacktrace:\n",
      "0   chromedriver                        0x00000001027aa7dc chromedriver + 4040668\n",
      "1   chromedriver                        0x00000001027a29e0 chromedriver + 4008416\n",
      "2   chromedriver                        0x0000000102415870 chromedriver + 284784\n",
      "3   chromedriver                        0x000000010241a3c4 chromedriver + 304068\n",
      "4   chromedriver                        0x000000010241c194 chromedriver + 311700\n",
      "5   chromedriver                        0x00000001024939b4 chromedriver + 801204\n",
      "6   chromedriver                        0x0000000102493048 chromedriver + 798792\n",
      "7   chromedriver                        0x000000010244d74c chromedriver + 513868\n",
      "8   chromedriver                        0x000000010244e044 chromedriver + 516164\n",
      "9   chromedriver                        0x000000010276fa04 chromedriver + 3799556\n",
      "10  chromedriver                        0x0000000102773ee4 chromedriver + 3817188\n",
      "11  chromedriver                        0x0000000102758260 chromedriver + 3703392\n",
      "12  chromedriver                        0x0000000102774a2c chromedriver + 3820076\n",
      "13  chromedriver                        0x000000010274b01c chromedriver + 3649564\n",
      "14  chromedriver                        0x0000000102791e3c chromedriver + 3939900\n",
      "15  chromedriver                        0x0000000102791fb4 chromedriver + 3940276\n",
      "16  chromedriver                        0x00000001027a2660 chromedriver + 4007520\n",
      "17  libsystem_pthread.dylib             0x000000018cdca034 _pthread_start + 136\n",
      "18  libsystem_pthread.dylib             0x000000018cdc4e3c thread_start + 8\n",
      "\n"
     ]
    },
    {
     "name": "stdout",
     "output_type": "stream",
     "text": [
      "Error while highlighting the element: Message: javascript error: missing ) after argument list\n",
      "  (Session info: chrome=121.0.6167.160)\n",
      "Stacktrace:\n",
      "0   chromedriver                        0x00000001027aa7dc chromedriver + 4040668\n",
      "1   chromedriver                        0x00000001027a29e0 chromedriver + 4008416\n",
      "2   chromedriver                        0x0000000102415870 chromedriver + 284784\n",
      "3   chromedriver                        0x000000010241a3c4 chromedriver + 304068\n",
      "4   chromedriver                        0x000000010241c194 chromedriver + 311700\n",
      "5   chromedriver                        0x00000001024939b4 chromedriver + 801204\n",
      "6   chromedriver                        0x0000000102493048 chromedriver + 798792\n",
      "7   chromedriver                        0x000000010244d74c chromedriver + 513868\n",
      "8   chromedriver                        0x000000010244e044 chromedriver + 516164\n",
      "9   chromedriver                        0x000000010276fa04 chromedriver + 3799556\n",
      "10  chromedriver                        0x0000000102773ee4 chromedriver + 3817188\n",
      "11  chromedriver                        0x0000000102758260 chromedriver + 3703392\n",
      "12  chromedriver                        0x0000000102774a2c chromedriver + 3820076\n",
      "13  chromedriver                        0x000000010274b01c chromedriver + 3649564\n",
      "14  chromedriver                        0x0000000102791e3c chromedriver + 3939900\n",
      "15  chromedriver                        0x0000000102791fb4 chromedriver + 3940276\n",
      "16  chromedriver                        0x00000001027a2660 chromedriver + 4007520\n",
      "17  libsystem_pthread.dylib             0x000000018cdca034 _pthread_start + 136\n",
      "18  libsystem_pthread.dylib             0x000000018cdc4e3c thread_start + 8\n",
      "\n"
     ]
    },
    {
     "name": "stderr",
     "output_type": "stream",
     "text": [
      "Traceback (most recent call last):\n",
      "  File \"/Users/bihaiko/VSCodeProjects/poc_web_tests/NELL/Selenium.py\", line 89, in highlight_element\n",
      "    self.driver.execute_script(script)\n",
      "  File \"/Users/bihaiko/VSCodeProjects/poc_web_tests/.venv/lib/python3.10/site-packages/selenium/webdriver/remote/webdriver.py\", line 407, in execute_script\n",
      "    return self.execute(command, {\"script\": script, \"args\": converted_args})[\"value\"]\n",
      "  File \"/Users/bihaiko/VSCodeProjects/poc_web_tests/.venv/lib/python3.10/site-packages/selenium/webdriver/remote/webdriver.py\", line 347, in execute\n",
      "    self.error_handler.check_response(response)\n",
      "  File \"/Users/bihaiko/VSCodeProjects/poc_web_tests/.venv/lib/python3.10/site-packages/selenium/webdriver/remote/errorhandler.py\", line 229, in check_response\n",
      "    raise exception_class(message, screen, stacktrace)\n",
      "selenium.common.exceptions.JavascriptException: Message: javascript error: missing ) after argument list\n",
      "  (Session info: chrome=121.0.6167.160)\n",
      "Stacktrace:\n",
      "0   chromedriver                        0x00000001027aa7dc chromedriver + 4040668\n",
      "1   chromedriver                        0x00000001027a29e0 chromedriver + 4008416\n",
      "2   chromedriver                        0x0000000102415870 chromedriver + 284784\n",
      "3   chromedriver                        0x000000010241a3c4 chromedriver + 304068\n",
      "4   chromedriver                        0x000000010241c194 chromedriver + 311700\n",
      "5   chromedriver                        0x00000001024939b4 chromedriver + 801204\n",
      "6   chromedriver                        0x0000000102493048 chromedriver + 798792\n",
      "7   chromedriver                        0x000000010244d74c chromedriver + 513868\n",
      "8   chromedriver                        0x000000010244e044 chromedriver + 516164\n",
      "9   chromedriver                        0x000000010276fa04 chromedriver + 3799556\n",
      "10  chromedriver                        0x0000000102773ee4 chromedriver + 3817188\n",
      "11  chromedriver                        0x0000000102758260 chromedriver + 3703392\n",
      "12  chromedriver                        0x0000000102774a2c chromedriver + 3820076\n",
      "13  chromedriver                        0x000000010274b01c chromedriver + 3649564\n",
      "14  chromedriver                        0x0000000102791e3c chromedriver + 3939900\n",
      "15  chromedriver                        0x0000000102791fb4 chromedriver + 3940276\n",
      "16  chromedriver                        0x00000001027a2660 chromedriver + 4007520\n",
      "17  libsystem_pthread.dylib             0x000000018cdca034 _pthread_start + 136\n",
      "18  libsystem_pthread.dylib             0x000000018cdc4e3c thread_start + 8\n",
      "\n"
     ]
    },
    {
     "name": "stdout",
     "output_type": "stream",
     "text": [
      "Error while highlighting the element: Message: javascript error: missing ) after argument list\n",
      "  (Session info: chrome=121.0.6167.160)\n",
      "Stacktrace:\n",
      "0   chromedriver                        0x00000001027aa7dc chromedriver + 4040668\n",
      "1   chromedriver                        0x00000001027a29e0 chromedriver + 4008416\n",
      "2   chromedriver                        0x0000000102415870 chromedriver + 284784\n",
      "3   chromedriver                        0x000000010241a3c4 chromedriver + 304068\n",
      "4   chromedriver                        0x000000010241c194 chromedriver + 311700\n",
      "5   chromedriver                        0x00000001024939b4 chromedriver + 801204\n",
      "6   chromedriver                        0x0000000102493048 chromedriver + 798792\n",
      "7   chromedriver                        0x000000010244d74c chromedriver + 513868\n",
      "8   chromedriver                        0x000000010244e044 chromedriver + 516164\n",
      "9   chromedriver                        0x000000010276fa04 chromedriver + 3799556\n",
      "10  chromedriver                        0x0000000102773ee4 chromedriver + 3817188\n",
      "11  chromedriver                        0x0000000102758260 chromedriver + 3703392\n",
      "12  chromedriver                        0x0000000102774a2c chromedriver + 3820076\n",
      "13  chromedriver                        0x000000010274b01c chromedriver + 3649564\n",
      "14  chromedriver                        0x0000000102791e3c chromedriver + 3939900\n",
      "15  chromedriver                        0x0000000102791fb4 chromedriver + 3940276\n",
      "16  chromedriver                        0x00000001027a2660 chromedriver + 4007520\n",
      "17  libsystem_pthread.dylib             0x000000018cdca034 _pthread_start + 136\n",
      "18  libsystem_pthread.dylib             0x000000018cdc4e3c thread_start + 8\n",
      "\n"
     ]
    },
    {
     "name": "stderr",
     "output_type": "stream",
     "text": [
      "Traceback (most recent call last):\n",
      "  File \"/Users/bihaiko/VSCodeProjects/poc_web_tests/NELL/Selenium.py\", line 89, in highlight_element\n",
      "    self.driver.execute_script(script)\n",
      "  File \"/Users/bihaiko/VSCodeProjects/poc_web_tests/.venv/lib/python3.10/site-packages/selenium/webdriver/remote/webdriver.py\", line 407, in execute_script\n",
      "    return self.execute(command, {\"script\": script, \"args\": converted_args})[\"value\"]\n",
      "  File \"/Users/bihaiko/VSCodeProjects/poc_web_tests/.venv/lib/python3.10/site-packages/selenium/webdriver/remote/webdriver.py\", line 347, in execute\n",
      "    self.error_handler.check_response(response)\n",
      "  File \"/Users/bihaiko/VSCodeProjects/poc_web_tests/.venv/lib/python3.10/site-packages/selenium/webdriver/remote/errorhandler.py\", line 229, in check_response\n",
      "    raise exception_class(message, screen, stacktrace)\n",
      "selenium.common.exceptions.JavascriptException: Message: javascript error: missing ) after argument list\n",
      "  (Session info: chrome=121.0.6167.160)\n",
      "Stacktrace:\n",
      "0   chromedriver                        0x00000001027aa7dc chromedriver + 4040668\n",
      "1   chromedriver                        0x00000001027a29e0 chromedriver + 4008416\n",
      "2   chromedriver                        0x0000000102415870 chromedriver + 284784\n",
      "3   chromedriver                        0x000000010241a3c4 chromedriver + 304068\n",
      "4   chromedriver                        0x000000010241c194 chromedriver + 311700\n",
      "5   chromedriver                        0x00000001024939b4 chromedriver + 801204\n",
      "6   chromedriver                        0x0000000102493048 chromedriver + 798792\n",
      "7   chromedriver                        0x000000010244d74c chromedriver + 513868\n",
      "8   chromedriver                        0x000000010244e044 chromedriver + 516164\n",
      "9   chromedriver                        0x000000010276fa04 chromedriver + 3799556\n",
      "10  chromedriver                        0x0000000102773ee4 chromedriver + 3817188\n",
      "11  chromedriver                        0x0000000102758260 chromedriver + 3703392\n",
      "12  chromedriver                        0x0000000102774a2c chromedriver + 3820076\n",
      "13  chromedriver                        0x000000010274b01c chromedriver + 3649564\n",
      "14  chromedriver                        0x0000000102791e3c chromedriver + 3939900\n",
      "15  chromedriver                        0x0000000102791fb4 chromedriver + 3940276\n",
      "16  chromedriver                        0x00000001027a2660 chromedriver + 4007520\n",
      "17  libsystem_pthread.dylib             0x000000018cdca034 _pthread_start + 136\n",
      "18  libsystem_pthread.dylib             0x000000018cdc4e3c thread_start + 8\n",
      "\n"
     ]
    },
    {
     "name": "stdout",
     "output_type": "stream",
     "text": [
      "Error while highlighting the element: Message: javascript error: missing ) after argument list\n",
      "  (Session info: chrome=121.0.6167.160)\n",
      "Stacktrace:\n",
      "0   chromedriver                        0x00000001027aa7dc chromedriver + 4040668\n",
      "1   chromedriver                        0x00000001027a29e0 chromedriver + 4008416\n",
      "2   chromedriver                        0x0000000102415870 chromedriver + 284784\n",
      "3   chromedriver                        0x000000010241a3c4 chromedriver + 304068\n",
      "4   chromedriver                        0x000000010241c194 chromedriver + 311700\n",
      "5   chromedriver                        0x00000001024939b4 chromedriver + 801204\n",
      "6   chromedriver                        0x0000000102493048 chromedriver + 798792\n",
      "7   chromedriver                        0x000000010244d74c chromedriver + 513868\n",
      "8   chromedriver                        0x000000010244e044 chromedriver + 516164\n",
      "9   chromedriver                        0x000000010276fa04 chromedriver + 3799556\n",
      "10  chromedriver                        0x0000000102773ee4 chromedriver + 3817188\n",
      "11  chromedriver                        0x0000000102758260 chromedriver + 3703392\n",
      "12  chromedriver                        0x0000000102774a2c chromedriver + 3820076\n",
      "13  chromedriver                        0x000000010274b01c chromedriver + 3649564\n",
      "14  chromedriver                        0x0000000102791e3c chromedriver + 3939900\n",
      "15  chromedriver                        0x0000000102791fb4 chromedriver + 3940276\n",
      "16  chromedriver                        0x00000001027a2660 chromedriver + 4007520\n",
      "17  libsystem_pthread.dylib             0x000000018cdca034 _pthread_start + 136\n",
      "18  libsystem_pthread.dylib             0x000000018cdc4e3c thread_start + 8\n",
      "\n"
     ]
    },
    {
     "name": "stderr",
     "output_type": "stream",
     "text": [
      "Traceback (most recent call last):\n",
      "  File \"/Users/bihaiko/VSCodeProjects/poc_web_tests/NELL/Selenium.py\", line 89, in highlight_element\n",
      "    self.driver.execute_script(script)\n",
      "  File \"/Users/bihaiko/VSCodeProjects/poc_web_tests/.venv/lib/python3.10/site-packages/selenium/webdriver/remote/webdriver.py\", line 407, in execute_script\n",
      "    return self.execute(command, {\"script\": script, \"args\": converted_args})[\"value\"]\n",
      "  File \"/Users/bihaiko/VSCodeProjects/poc_web_tests/.venv/lib/python3.10/site-packages/selenium/webdriver/remote/webdriver.py\", line 347, in execute\n",
      "    self.error_handler.check_response(response)\n",
      "  File \"/Users/bihaiko/VSCodeProjects/poc_web_tests/.venv/lib/python3.10/site-packages/selenium/webdriver/remote/errorhandler.py\", line 229, in check_response\n",
      "    raise exception_class(message, screen, stacktrace)\n",
      "selenium.common.exceptions.JavascriptException: Message: javascript error: missing ) after argument list\n",
      "  (Session info: chrome=121.0.6167.160)\n",
      "Stacktrace:\n",
      "0   chromedriver                        0x00000001027aa7dc chromedriver + 4040668\n",
      "1   chromedriver                        0x00000001027a29e0 chromedriver + 4008416\n",
      "2   chromedriver                        0x0000000102415870 chromedriver + 284784\n",
      "3   chromedriver                        0x000000010241a3c4 chromedriver + 304068\n",
      "4   chromedriver                        0x000000010241c194 chromedriver + 311700\n",
      "5   chromedriver                        0x00000001024939b4 chromedriver + 801204\n",
      "6   chromedriver                        0x0000000102493048 chromedriver + 798792\n",
      "7   chromedriver                        0x000000010244d74c chromedriver + 513868\n",
      "8   chromedriver                        0x000000010244e044 chromedriver + 516164\n",
      "9   chromedriver                        0x000000010276fa04 chromedriver + 3799556\n",
      "10  chromedriver                        0x0000000102773ee4 chromedriver + 3817188\n",
      "11  chromedriver                        0x0000000102758260 chromedriver + 3703392\n",
      "12  chromedriver                        0x0000000102774a2c chromedriver + 3820076\n",
      "13  chromedriver                        0x000000010274b01c chromedriver + 3649564\n",
      "14  chromedriver                        0x0000000102791e3c chromedriver + 3939900\n",
      "15  chromedriver                        0x0000000102791fb4 chromedriver + 3940276\n",
      "16  chromedriver                        0x00000001027a2660 chromedriver + 4007520\n",
      "17  libsystem_pthread.dylib             0x000000018cdca034 _pthread_start + 136\n",
      "18  libsystem_pthread.dylib             0x000000018cdc4e3c thread_start + 8\n",
      "\n"
     ]
    }
   ],
   "source": [
    "from IPython.display import clear_output\n",
    "from NELL.Main import Main\n",
    "from NELL.logger.Logger import Logger\n",
    "from NELL.logger.Snapshoter import Snapshoter\n",
    "\n",
    "clear_output()\n",
    "main = Main()\n",
    "\n",
    "logger = Logger()\n",
    "snapshoter = Snapshoter(logger)"
   ]
  }
 ],
 "metadata": {
  "kernelspec": {
   "display_name": "Python 3",
   "language": "python",
   "name": "python3"
  },
  "language_info": {
   "codemirror_mode": {
    "name": "ipython",
    "version": 3
   },
   "file_extension": ".py",
   "mimetype": "text/x-python",
   "name": "python",
   "nbconvert_exporter": "python",
   "pygments_lexer": "ipython3",
   "version": "3.10.13"
  }
 },
 "nbformat": 4,
 "nbformat_minor": 2
}
