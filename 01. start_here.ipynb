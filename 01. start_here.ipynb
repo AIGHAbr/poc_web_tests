{
 "cells": [
  {
   "cell_type": "markdown",
   "metadata": {},
   "source": [
    "# Setup"
   ]
  },
  {
   "cell_type": "code",
   "execution_count": 1,
   "metadata": {},
   "outputs": [
    {
     "name": "stdout",
     "output_type": "stream",
     "text": [
      "/Users/bihaiko/anaconda3/bin/python: No module named build\n",
      "\n",
      "Requirement already satisfied: NELL in /Users/bihaiko/anaconda3/lib/python3.11/site-packages (0.1)\n",
      "Note: you may need to restart the kernel to use updated packages.\n"
     ]
    },
    {
     "data": {
      "text/plain": [
       "'All packages installed'"
      ]
     },
     "metadata": {},
     "output_type": "display_data"
    }
   ],
   "source": [
    "from NELL.Main import Main\n",
    "from NELL.logger.Logger import Logger\n",
    "from NELL.logger.Snapshoter import Snapshoter\n",
    "from IPython.display import display, clear_output\n",
    "\n",
    "def install_requires_packages():\n",
    "    global all_packages_installed\n",
    "\n",
    "    try: \n",
    "        if all_packages_installed: return\n",
    "    except: pass\n",
    "\n",
    "    %pip install -r requirements.txt\n",
    "    all_packages_installed = True\n",
    "    clear_output()  \n",
    "\n",
    "\n",
    "def build_nell_test_tool():\n",
    "\n",
    "    import sys\n",
    "    import subprocess\n",
    "\n",
    "    python_executable = sys.executable\n",
    "\n",
    "    try:\n",
    "        result = subprocess.run(\n",
    "            [python_executable, \"-m\", \"build\"], \n",
    "                stdout=subprocess.PIPE, \n",
    "                stderr=subprocess.PIPE, \n",
    "                check=True)\n",
    "\n",
    "        display(\"NELL (Nell Test Tool) Built Successfully!\")\n",
    "\n",
    "    except subprocess.CalledProcessError as e:\n",
    "        print(e.stderr.decode())\n",
    "\n",
    "install_requires_packages()\n",
    "\n",
    "build_nell_test_tool()\n",
    "%pip install NELL\n",
    "\n",
    "display(\"All packages installed\")"
   ]
  },
  {
   "cell_type": "markdown",
   "metadata": {},
   "source": [
    "# Recorder"
   ]
  },
  {
   "cell_type": "code",
   "execution_count": null,
   "metadata": {},
   "outputs": [
    {
     "data": {
      "application/vnd.jupyter.widget-view+json": {
       "model_id": "fbd6d42cb8b74497b6a675ba7f4b94fa",
       "version_major": 2,
       "version_minor": 0
      },
      "text/plain": [
       "HBox(children=(VBox(children=(Button(description='+', layout=Layout(height='30px', width='30px'), style=Button…"
      ]
     },
     "metadata": {},
     "output_type": "display_data"
    },
    {
     "name": "stdout",
     "output_type": "stream",
     "text": [
      "```\n",
      "*** Settings ***\n",
      "Documentation     A resource file with keywords for testing the Wellzesta Active staging environment.\n",
      "Library           SeleniumLibrary\n",
      "\n",
      "*** Variables ***\n",
      "${EMAIL_INPUT}    xpath://input[@name=\"email\" and @placeholder=\"Type your e-mail\"]\n",
      "${PASSWORD_INPUT} xpath://input[@name=\"password\" and @placeholder=\"Type your password\"]\n",
      "${SIGNIN_BUTTON}  xpath://button[contains(text(), \"Sign In\")]\n",
      "${LOGIN_URL}      https://active.stg.wellzesta.com/wz-login\n",
      "${ORGANIZATIONS_URL} https://active.stg.wellzesta.com/organizations\n",
      "\n",
      "*** Keywords ***\n",
      "Open Browser To Login Page\n",
      "    [Arguments]    ${BROWSER}\n",
      "    Open Browser    ${LOGIN_URL}    ${BROWSER}\n",
      "    Maximize Browser Window\n",
      "    Wait Until Page Contains    Type your e-mail\n",
      "\n",
      "Enter Email And Password\n",
      "    [Arguments]    ${email}    ${password}\n",
      "    Wait Until Element Is Visible    ${EMAIL_INPUT}    10s\n",
      "    Input Text    ${EMAIL_INPUT}    ${email}\n",
      "    Press Keys    ${EMAIL_INPUT}    TAB\n",
      "    Wait Until Element Is Visible    ${PASSWORD_INPUT}    10s\n",
      "    Input Text    ${PASSWORD_INPUT}    ${password}\n",
      "    Press Keys    ${PASSWORD_INPUT}    ENTER\n",
      "\n",
      "Verify Successful Login\n",
      "    Wait Until Page Contains Element    ${ORGANIZATIONS_URL}    15s\n",
      "\n",
      "Verify Login Disabled\n",
      "    Wait Until Element Is Disabled    ${SIGNIN_BUTTON}    15s\n",
      "\n",
      "===========================================================================\n",
      "\n",
      "*** Settings ***\n",
      "Documentation     Test Suite for validating the login functionality on the Wellzesta Active staging environment.\n",
      "Resource          keywords.resource\n",
      "\n",
      "Suite Setup       Open Browser To Login Page    Chrome\n",
      "Suite Teardown    Close Browser\n",
      "Test Setup        Go To    ${LOGIN_URL}\n",
      "Test Teardown     Capture Page Screenshot\n",
      "\n",
      "*** Variables ***\n",
      "${EMAIL}          anelisedaux@gmail.com\n",
      "${PASSWORD}       12345678\n",
      "${INVALID_PASSWORD} 0000\n",
      "\n",
      "*** Test Cases ***\n",
      "Valid Login\n",
      "    [Documentation]    Test Case to verify if a user can log in with valid credentials.\n",
      "    Enter Email And Password    ${EMAIL}    ${PASSWORD}\n",
      "    Verify Successful Login\n",
      "\n",
      "Invalid Login\n",
      "    [Documentation]    Test Case to verify the system behavior with invalid password.\n",
      "    Enter Email And Password    ${EMAIL}    ${INVALID_PASSWORD}\n",
      "    Verify Login Disabled\n",
      "```\n"
     ]
    }
   ],
   "source": [
    "clear_output()\n",
    "main = Main()\n",
    "snapshoter = Snapshoter(Logger())"
   ]
  },
  {
   "cell_type": "markdown",
   "metadata": {},
   "source": [
    "# Robot Generation"
   ]
  },
  {
   "cell_type": "code",
   "execution_count": 3,
   "metadata": {},
   "outputs": [],
   "source": [
    "from NELL.ai.ai_utils import get_open_ai_key\n",
    "from NELL.ai.ai_utils import generate_robot, convert_to_selenium\n",
    "from NELL.ai.logs_sample import sample01\n",
    "\n",
    "def generate():\n",
    "    \n",
    "    get_open_ai_key()\n",
    "    result = generate_robot(sample01)\n",
    "\n",
    "    try:\n",
    "        scripts = result.split('<inicio testsuit.robot>')\n",
    "        if len(scripts) == 1 or len(scripts) >2:\n",
    "            scripts = result.split('===')\n",
    "\n",
    "        script1 = scripts[0].replace(\"<inicio keyword.resource>\", \"\").replace(\"<fim keyword.resource>\", \"\").replace(\"===\", \"\")\n",
    "        script2 = scripts[1].replace(\"<inicio testsuit.robot>\", \"\").replace(\"<fim testsuit.robot>'\", \"\").replace(\"===\", \"\")\n",
    "        \n",
    "        display(\"*** Keywords.Resources ***\")\n",
    "        print(script1.lstrip())\n",
    "\n",
    "        display(\"*** TestSuit.Robot ***\")\n",
    "        print(script2.lstrip())\n",
    "\n",
    "        result2 = convert_to_selenium(sample01, result)\n",
    "        display(\"*** Selenium ***\")\n",
    "        print(result2)\n",
    "        \n",
    "    except:\n",
    "        print(result)\n",
    "\n",
    "    display(\"*** Logs ***\")\n",
    "    print(sample01)\n",
    "\n",
    "# generate()"
   ]
  }
 ],
 "metadata": {
  "kernelspec": {
   "display_name": "Python 3",
   "language": "python",
   "name": "python3"
  },
  "language_info": {
   "codemirror_mode": {
    "name": "ipython",
    "version": 3
   },
   "file_extension": ".py",
   "mimetype": "text/x-python",
   "name": "python",
   "nbconvert_exporter": "python",
   "pygments_lexer": "ipython3",
   "version": "3.11.5"
  }
 },
 "nbformat": 4,
 "nbformat_minor": 2
}
