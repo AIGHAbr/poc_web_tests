{
 "cells": [
  {
   "cell_type": "markdown",
   "metadata": {},
   "source": [
    "# Setup"
   ]
  },
  {
   "cell_type": "code",
   "execution_count": 1,
   "metadata": {},
   "outputs": [
    {
     "data": {
      "text/plain": [
       "'All packages installed'"
      ]
     },
     "metadata": {},
     "output_type": "display_data"
    },
    {
     "name": "stdout",
     "output_type": "stream",
     "text": [
      "\n",
      "Requirement already satisfied: NELL in /opt/homebrew/lib/python3.10/site-packages (0.1)\n",
      "\n",
      "\u001b[1m[\u001b[0m\u001b[34;49mnotice\u001b[0m\u001b[1;39;49m]\u001b[0m\u001b[39;49m A new release of pip is available: \u001b[0m\u001b[31;49m23.2.1\u001b[0m\u001b[39;49m -> \u001b[0m\u001b[32;49m23.3.2\u001b[0m\n",
      "\u001b[1m[\u001b[0m\u001b[34;49mnotice\u001b[0m\u001b[1;39;49m]\u001b[0m\u001b[39;49m To update, run: \u001b[0m\u001b[32;49mpython3.10 -m pip install --upgrade pip\u001b[0m\n",
      "Note: you may need to restart the kernel to use updated packages.\n"
     ]
    },
    {
     "data": {
      "text/plain": [
       "'NELL builded and installed'"
      ]
     },
     "metadata": {},
     "output_type": "display_data"
    }
   ],
   "source": [
    "\n",
    "from IPython.display import display, clear_output\n",
    "\n",
    "def install_requires_packages():\n",
    "    global all_packages_installed\n",
    "\n",
    "    try: \n",
    "        if all_packages_installed: return\n",
    "    except: pass\n",
    "\n",
    "    %pip install -r requirements.txt\n",
    "    all_packages_installed = True\n",
    "    clear_output()  \n",
    "\n",
    "\n",
    "def build_nell_test_tool():\n",
    "\n",
    "    import sys\n",
    "    import subprocess\n",
    "\n",
    "    python_executable = sys.executable\n",
    "\n",
    "    try:\n",
    "        result = subprocess.run(\n",
    "            [python_executable, \"-m\", \"build\"], \n",
    "                stdout=subprocess.PIPE, \n",
    "                stderr=subprocess.PIPE, \n",
    "                check=True)\n",
    "        \n",
    "        print(result.stdout.decode())   \n",
    "        display(\"NELL (Nell Test Tool) Built Successfully!\")\n",
    "\n",
    "    except subprocess.CalledProcessError as e:\n",
    "        print(e.stderr.decode())\n",
    "\n",
    "install_requires_packages()\n",
    "display(\"All packages installed\")\n",
    "\n",
    "build_nell_test_tool()\n",
    "%pip install NELL\n",
    "display(\"NELL builded and installed\")"
   ]
  },
  {
   "cell_type": "markdown",
   "metadata": {},
   "source": [
    "# Lest Test!"
   ]
  },
  {
   "cell_type": "code",
   "execution_count": null,
   "metadata": {},
   "outputs": [
    {
     "data": {
      "application/vnd.jupyter.widget-view+json": {
       "model_id": "dab77517a1c04da2925ce1242e540349",
       "version_major": 2,
       "version_minor": 0
      },
      "text/plain": [
       "HBox(children=(VBox(children=(Button(description='+', layout=Layout(height='30px', width='30px'), style=Button…"
      ]
     },
     "metadata": {},
     "output_type": "display_data"
    },
    {
     "ename": "AttributeError",
     "evalue": "type object 'Selenium' has no attribute 'get'",
     "output_type": "error",
     "traceback": [
      "\u001b[0;31m---------------------------------------------------------------------------\u001b[0m",
      "\u001b[0;31mAttributeError\u001b[0m                            Traceback (most recent call last)",
      "File \u001b[0;32m~/VSCodeProjects/poc_web_tests/NELL/gui/Table.py:51\u001b[0m, in \u001b[0;36mTable.reload.<locals>.<lambda>\u001b[0;34m(b, index)\u001b[0m\n\u001b[1;32m     48\u001b[0m cell_value_web \u001b[38;5;241m=\u001b[39m \u001b[38;5;28mgetattr\u001b[39m(df\u001b[38;5;241m.\u001b[39miloc[i\u001b[38;5;241m-\u001b[39m\u001b[38;5;241m1\u001b[39m], \u001b[38;5;124m\"\u001b[39m\u001b[38;5;124mWeb\u001b[39m\u001b[38;5;124m\"\u001b[39m, \u001b[38;5;124m'\u001b[39m\u001b[38;5;124m'\u001b[39m) \u001b[38;5;28;01mif\u001b[39;00m i \u001b[38;5;241m>\u001b[39m \u001b[38;5;241m0\u001b[39m \u001b[38;5;28;01melse\u001b[39;00m \u001b[38;5;124m'\u001b[39m\u001b[38;5;124m'\u001b[39m\n\u001b[1;32m     50\u001b[0m pnl \u001b[38;5;241m=\u001b[39m widgets\u001b[38;5;241m.\u001b[39mButton(tooltip\u001b[38;5;241m=\u001b[39mcell_value_web, icon\u001b[38;5;241m=\u001b[39m\u001b[38;5;124m'\u001b[39m\u001b[38;5;124msearch\u001b[39m\u001b[38;5;124m'\u001b[39m, layout\u001b[38;5;241m=\u001b[39mwidgets\u001b[38;5;241m.\u001b[39mLayout(width\u001b[38;5;241m=\u001b[39m\u001b[38;5;124m'\u001b[39m\u001b[38;5;124m50px\u001b[39m\u001b[38;5;124m'\u001b[39m, height\u001b[38;5;241m=\u001b[39m\u001b[38;5;124m'\u001b[39m\u001b[38;5;124m30px\u001b[39m\u001b[38;5;124m'\u001b[39m))\n\u001b[0;32m---> 51\u001b[0m pnl\u001b[38;5;241m.\u001b[39mon_click(\u001b[38;5;28;01mlambda\u001b[39;00m b, index\u001b[38;5;241m=\u001b[39mi\u001b[38;5;241m-\u001b[39m\u001b[38;5;241m1\u001b[39m: \u001b[38;5;28;43mself\u001b[39;49m\u001b[38;5;241;43m.\u001b[39;49m\u001b[43mtry_fire_web_event\u001b[49m\u001b[43m(\u001b[49m\u001b[43mb\u001b[49m\u001b[43m,\u001b[49m\u001b[43m \u001b[49m\u001b[43mindex\u001b[49m\u001b[43m)\u001b[49m)\n\u001b[1;32m     53\u001b[0m grid[i, \u001b[38;5;241m0\u001b[39m] \u001b[38;5;241m=\u001b[39m widgets\u001b[38;5;241m.\u001b[39mText(value\u001b[38;5;241m=\u001b[39m\u001b[38;5;28mstr\u001b[39m(cell_value_alias), layout\u001b[38;5;241m=\u001b[39mwidgets\u001b[38;5;241m.\u001b[39mLayout(width\u001b[38;5;241m=\u001b[39m\u001b[38;5;124m'\u001b[39m\u001b[38;5;124m250px\u001b[39m\u001b[38;5;124m'\u001b[39m, weight\u001b[38;5;241m=\u001b[39m\u001b[38;5;124m'\u001b[39m\u001b[38;5;124m2\u001b[39m\u001b[38;5;124m'\u001b[39m))        \n\u001b[1;32m     54\u001b[0m grid[i, \u001b[38;5;241m1\u001b[39m] \u001b[38;5;241m=\u001b[39m pnl\n",
      "File \u001b[0;32m~/VSCodeProjects/poc_web_tests/NELL/gui/Table.py:31\u001b[0m, in \u001b[0;36mTable.try_fire_web_event\u001b[0;34m(self, b, index)\u001b[0m\n\u001b[1;32m     29\u001b[0m \u001b[38;5;28mself\u001b[39m\u001b[38;5;241m.\u001b[39mdata_event(dt)\n\u001b[1;32m     30\u001b[0m xpath \u001b[38;5;241m=\u001b[39m \u001b[38;5;28mself\u001b[39m\u001b[38;5;241m.\u001b[39mdata[\u001b[38;5;124m\"\u001b[39m\u001b[38;5;124mWeb\u001b[39m\u001b[38;5;124m\"\u001b[39m][index]\n\u001b[0;32m---> 31\u001b[0m driver \u001b[38;5;241m=\u001b[39m \u001b[43mSelenium\u001b[49m\u001b[38;5;241;43m.\u001b[39;49m\u001b[43mget\u001b[49m(\u001b[38;5;124m'\u001b[39m\u001b[38;5;124mmain\u001b[39m\u001b[38;5;124m'\u001b[39m)\n\u001b[1;32m     32\u001b[0m driver\u001b[38;5;241m.\u001b[39mhighlight_element(xpath)\n",
      "\u001b[0;31mAttributeError\u001b[0m: type object 'Selenium' has no attribute 'get'"
     ]
    }
   ],
   "source": [
    "from IPython.display import clear_output\n",
    "from NELL.Playground import Playground\n",
    "\n",
    "clear_output()\n",
    "playground = Playground()"
   ]
  }
 ],
 "metadata": {
  "kernelspec": {
   "display_name": "Python 3",
   "language": "python",
   "name": "python3"
  },
  "language_info": {
   "codemirror_mode": {
    "name": "ipython",
    "version": 3
   },
   "file_extension": ".py",
   "mimetype": "text/x-python",
   "name": "python",
   "nbconvert_exporter": "python",
   "pygments_lexer": "ipython3",
   "version": "3.10.13"
  }
 },
 "nbformat": 4,
 "nbformat_minor": 2
}
