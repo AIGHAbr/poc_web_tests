{
 "cells": [
  {
   "cell_type": "markdown",
   "metadata": {},
   "source": [
    "# Setup"
   ]
  },
  {
   "cell_type": "markdown",
   "metadata": {},
   "source": [
    "## Install Required Packages"
   ]
  },
  {
   "cell_type": "code",
   "execution_count": 1,
   "metadata": {},
   "outputs": [
    {
     "name": "stdout",
     "output_type": "stream",
     "text": [
      "All packages installed\n"
     ]
    }
   ],
   "source": [
    "from IPython.display import clear_output\n",
    "\n",
    "def install_requires_packages():\n",
    "    global all_packages_installed\n",
    "\n",
    "    try: \n",
    "        if all_packages_installed: return\n",
    "    except: pass\n",
    "\n",
    "    %pip install -r requirements.txt\n",
    "    all_packages_installed = True\n",
    "    clear_output()  \n",
    "\n",
    "\n",
    "install_requires_packages()\n",
    "print(\"All packages installed\")\n"
   ]
  },
  {
   "cell_type": "markdown",
   "metadata": {},
   "source": [
    "## Build and Install NELL Test Tool"
   ]
  },
  {
   "cell_type": "code",
   "execution_count": 2,
   "metadata": {},
   "outputs": [
    {
     "name": "stdout",
     "output_type": "stream",
     "text": [
      "\n",
      "Requirement already satisfied: NELL in /opt/homebrew/lib/python3.10/site-packages (0.1)\n",
      "\n",
      "\u001b[1m[\u001b[0m\u001b[34;49mnotice\u001b[0m\u001b[1;39;49m]\u001b[0m\u001b[39;49m A new release of pip is available: \u001b[0m\u001b[31;49m23.2.1\u001b[0m\u001b[39;49m -> \u001b[0m\u001b[32;49m23.3.2\u001b[0m\n",
      "\u001b[1m[\u001b[0m\u001b[34;49mnotice\u001b[0m\u001b[1;39;49m]\u001b[0m\u001b[39;49m To update, run: \u001b[0m\u001b[32;49mpython3.10 -m pip install --upgrade pip\u001b[0m\n",
      "Note: you may need to restart the kernel to use updated packages.\n"
     ]
    }
   ],
   "source": [
    "from IPython.display import display\n",
    "\n",
    "def build_nell_test_tool():\n",
    "\n",
    "    import sys\n",
    "    import subprocess\n",
    "\n",
    "    python_executable = sys.executable\n",
    "\n",
    "    try:\n",
    "        result = subprocess.run(\n",
    "            [python_executable, \"-m\", \"build\"], \n",
    "                stdout=subprocess.PIPE, \n",
    "                stderr=subprocess.PIPE, \n",
    "                check=True)\n",
    "        \n",
    "        print(result.stdout.decode())   \n",
    "        display(\"NELL (Nell Test Tool) Built Successfully!\")\n",
    "\n",
    "    except subprocess.CalledProcessError as e:\n",
    "        print(e.stderr.decode())\n",
    "\n",
    "\n",
    "build_nell_test_tool()\n",
    "%pip install NELL\n"
   ]
  },
  {
   "cell_type": "markdown",
   "metadata": {},
   "source": [
    "## Logger Test"
   ]
  },
  {
   "cell_type": "code",
   "execution_count": 3,
   "metadata": {},
   "outputs": [
    {
     "name": "stdout",
     "output_type": "stream",
     "text": [
      "[CONSOLE LOGGER] {'type': 'msg', 'text': 'Msg 01'}\n",
      "[CONSOLE LOGGER] {'type': 'msg', 'text': 'Msg 02'}\n",
      "{'type': 'msg', 'text': 'Msg 03'}\n",
      "---------------------\n",
      "[\"{'type': 'msg', 'text': 'Msg 01'}\", \"{'type': 'msg', 'text': 'Msg 02'}\", \"{'type': 'msg', 'text': 'Msg 03'}\"]\n"
     ]
    }
   ],
   "source": [
    "from NELL.logger.Logger import Logger\n",
    "\n",
    "def my_event_listener(event, events):\n",
    "    print(event)\n",
    "    print(\"---------------------\")\n",
    "    print(events)\n",
    "\n",
    "Logger.reset_listeners()\n",
    "\n",
    "Logger.log_event({'type':'msg', 'text':'Msg 01'}, True)\n",
    "Logger.log_event({'type':'msg', 'text':'Msg 01'}) # This event will not be logged because the logger is disabled\n",
    "Logger.log_event({'type':'msg', 'text':'Msg 02'})\n",
    "\n",
    "Logger.add_event_logger_listener(my_event_listener)\n",
    "Logger.log_event({'type':'msg', 'text':'Msg 03'})"
   ]
  },
  {
   "cell_type": "markdown",
   "metadata": {},
   "source": [
    "## Lets Do It!"
   ]
  },
  {
   "cell_type": "code",
   "execution_count": 4,
   "metadata": {},
   "outputs": [
    {
     "data": {
      "application/vnd.jupyter.widget-view+json": {
       "model_id": "0d78fb8bee154e9f9ad8d49abe34d5b8",
       "version_major": 2,
       "version_minor": 0
      },
      "text/plain": [
       "HBox(children=(VBox(children=(Button(description='+', layout=Layout(height='30px', width='30px'), style=Button…"
      ]
     },
     "metadata": {},
     "output_type": "display_data"
    },
    {
     "name": "stdout",
     "output_type": "stream",
     "text": [
      "[HTTP LOGGER] {'event': 'click', 'tagName': 'input', 'alias': 'txt_email'}\n",
      "{'event': 'click', 'tagName': 'input', 'alias': 'txt_email'}\n",
      "---------------------\n",
      "[\"{<class 'type'>: 'framework', 'value': 'selenium'}\", \"{<class 'type'>: 'browser_info', 'url': 'https://life.stg.wellzesta.com/login'}\", \"{'event': 'click', 'tagName': 'input', 'alias': 'txt_email'}\"]\n",
      "[\"{<class 'type'>: 'framework', 'value': 'selenium'}\", \"{<class 'type'>: 'browser_info', 'url': 'https://life.stg.wellzesta.com/login'}\", \"{'event': 'click', 'tagName': 'input', 'alias': 'txt_email'}\"]\n",
      "[HTTP LOGGER] {'event': 'click', 'tagName': 'input', 'alias': 'txt_email'}\n",
      "[HTTP LOGGER] {'event': 'click', 'tagName': 'input', 'alias': 'txt_email'}\n",
      "[HTTP LOGGER] {'event': 'click', 'tagName': 'input', 'alias': 'txt_email'}\n",
      "[HTTP LOGGER] {'event': 'click', 'tagName': 'input', 'alias': 'txt_email'}\n",
      "[HTTP LOGGER] {'event': 'click', 'tagName': 'input', 'alias': 'txt_email'}\n"
     ]
    },
    {
     "name": "stderr",
     "output_type": "stream",
     "text": [
      "127.0.0.1 - - [04/Feb/2024 01:32:41] \"POST / HTTP/1.1\" 200 -\n",
      "127.0.0.1 - - [04/Feb/2024 01:32:41] code 501, message Unsupported method ('OPTIONS')\n",
      "127.0.0.1 - - [04/Feb/2024 01:32:41] \"OPTIONS / HTTP/1.1\" 501 -\n",
      "----------------------------------------\n",
      "Exception occurred during processing of request from ('127.0.0.1', 50232)\n",
      "Traceback (most recent call last):\n",
      "  File \"/opt/homebrew/Cellar/python@3.10/3.10.13/Frameworks/Python.framework/Versions/3.10/lib/python3.10/socketserver.py\", line 316, in _handle_request_noblock\n",
      "    self.process_request(request, client_address)\n",
      "  File \"/opt/homebrew/Cellar/python@3.10/3.10.13/Frameworks/Python.framework/Versions/3.10/lib/python3.10/socketserver.py\", line 347, in process_request\n",
      "    self.finish_request(request, client_address)\n",
      "  File \"/opt/homebrew/Cellar/python@3.10/3.10.13/Frameworks/Python.framework/Versions/3.10/lib/python3.10/socketserver.py\", line 360, in finish_request\n",
      "    self.RequestHandlerClass(request, client_address, self)\n",
      "  File \"/Users/bihaiko/VSCodeProjects/poc_web_tests/NELL/logger/LogHttpServer.py\", line 15, in __init__\n",
      "    super().__init__(*args, **kwargs)\n",
      "  File \"/opt/homebrew/Cellar/python@3.10/3.10.13/Frameworks/Python.framework/Versions/3.10/lib/python3.10/http/server.py\", line 668, in __init__\n",
      "    super().__init__(*args, **kwargs)\n",
      "  File \"/opt/homebrew/Cellar/python@3.10/3.10.13/Frameworks/Python.framework/Versions/3.10/lib/python3.10/socketserver.py\", line 747, in __init__\n",
      "    self.handle()\n",
      "  File \"/opt/homebrew/Cellar/python@3.10/3.10.13/Frameworks/Python.framework/Versions/3.10/lib/python3.10/http/server.py\", line 433, in handle\n",
      "    self.handle_one_request()\n",
      "  File \"/opt/homebrew/Cellar/python@3.10/3.10.13/Frameworks/Python.framework/Versions/3.10/lib/python3.10/http/server.py\", line 416, in handle_one_request\n",
      "    self.send_error(\n",
      "  File \"/opt/homebrew/Cellar/python@3.10/3.10.13/Frameworks/Python.framework/Versions/3.10/lib/python3.10/http/server.py\", line 488, in send_error\n",
      "    self.wfile.write(body)\n",
      "  File \"/opt/homebrew/Cellar/python@3.10/3.10.13/Frameworks/Python.framework/Versions/3.10/lib/python3.10/socketserver.py\", line 826, in write\n",
      "    self._sock.sendall(b)\n",
      "BrokenPipeError: [Errno 32] Broken pipe\n",
      "----------------------------------------\n",
      "127.0.0.1 - - [04/Feb/2024 01:32:41] code 501, message Unsupported method ('OPTIONS')\n",
      "127.0.0.1 - - [04/Feb/2024 01:32:41] \"OPTIONS / HTTP/1.1\" 501 -\n",
      "127.0.0.1 - - [04/Feb/2024 01:32:41] code 501, message Unsupported method ('OPTIONS')\n",
      "127.0.0.1 - - [04/Feb/2024 01:32:41] \"OPTIONS / HTTP/1.1\" 501 -\n",
      "127.0.0.1 - - [04/Feb/2024 01:32:41] \"POST / HTTP/1.1\" 200 -\n",
      "127.0.0.1 - - [04/Feb/2024 01:32:41] \"POST / HTTP/1.1\" 200 -\n"
     ]
    }
   ],
   "source": [
    "from IPython.display import clear_output\n",
    "from NELL.Playground import Playground\n",
    "\n",
    "clear_output()\n",
    "playground = Playground()"
   ]
  }
 ],
 "metadata": {
  "kernelspec": {
   "display_name": "Python 3",
   "language": "python",
   "name": "python3"
  },
  "language_info": {
   "codemirror_mode": {
    "name": "ipython",
    "version": 3
   },
   "file_extension": ".py",
   "mimetype": "text/x-python",
   "name": "python",
   "nbconvert_exporter": "python",
   "pygments_lexer": "ipython3",
   "version": "3.10.13"
  }
 },
 "nbformat": 4,
 "nbformat_minor": 2
}
