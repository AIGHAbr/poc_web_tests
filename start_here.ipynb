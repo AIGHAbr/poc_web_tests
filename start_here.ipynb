{
 "cells": [
  {
   "cell_type": "markdown",
   "metadata": {},
   "source": [
    "# Setup"
   ]
  },
  {
   "cell_type": "markdown",
   "metadata": {},
   "source": [
    "## Install Required Packages"
   ]
  },
  {
   "cell_type": "code",
   "execution_count": 1,
   "metadata": {},
   "outputs": [
    {
     "name": "stdout",
     "output_type": "stream",
     "text": [
      "All packages installed\n"
     ]
    }
   ],
   "source": [
    "from IPython.display import clear_output\n",
    "\n",
    "def install_requires_packages():\n",
    "    global all_packages_installed\n",
    "\n",
    "    try: \n",
    "        if all_packages_installed: return\n",
    "    except: pass\n",
    "\n",
    "    %pip install -r requirements.txt\n",
    "    all_packages_installed = True\n",
    "    clear_output()  \n",
    "\n",
    "\n",
    "install_requires_packages()\n",
    "print(\"All packages installed\")\n"
   ]
  },
  {
   "cell_type": "markdown",
   "metadata": {},
   "source": [
    "## Build and Install NELL Test Tool"
   ]
  },
  {
   "cell_type": "code",
   "execution_count": 2,
   "metadata": {},
   "outputs": [
    {
     "name": "stdout",
     "output_type": "stream",
     "text": [
      "\n",
      "Requirement already satisfied: NELL in /opt/homebrew/lib/python3.10/site-packages (0.1)\n",
      "\n",
      "\u001b[1m[\u001b[0m\u001b[34;49mnotice\u001b[0m\u001b[1;39;49m]\u001b[0m\u001b[39;49m A new release of pip is available: \u001b[0m\u001b[31;49m23.2.1\u001b[0m\u001b[39;49m -> \u001b[0m\u001b[32;49m23.3.2\u001b[0m\n",
      "\u001b[1m[\u001b[0m\u001b[34;49mnotice\u001b[0m\u001b[1;39;49m]\u001b[0m\u001b[39;49m To update, run: \u001b[0m\u001b[32;49mpython3.10 -m pip install --upgrade pip\u001b[0m\n",
      "Note: you may need to restart the kernel to use updated packages.\n"
     ]
    }
   ],
   "source": [
    "from IPython.display import display\n",
    "\n",
    "def build_nell_test_tool():\n",
    "\n",
    "    import sys\n",
    "    import subprocess\n",
    "\n",
    "    python_executable = sys.executable\n",
    "\n",
    "    try:\n",
    "        result = subprocess.run(\n",
    "            [python_executable, \"-m\", \"build\"], \n",
    "                stdout=subprocess.PIPE, \n",
    "                stderr=subprocess.PIPE, \n",
    "                check=True)\n",
    "        \n",
    "        print(result.stdout.decode())   \n",
    "        display(\"NELL (Nell Test Tool) Built Successfully!\")\n",
    "\n",
    "    except subprocess.CalledProcessError as e:\n",
    "        print(e.stderr.decode())\n",
    "\n",
    "\n",
    "build_nell_test_tool()\n",
    "%pip install NELL\n"
   ]
  },
  {
   "cell_type": "markdown",
   "metadata": {},
   "source": [
    "## Logger Test"
   ]
  },
  {
   "cell_type": "code",
   "execution_count": 3,
   "metadata": {},
   "outputs": [
    {
     "data": {
      "text/plain": [
       "{'type': 'msg', 'text': 'Msg 03'}"
      ]
     },
     "metadata": {},
     "output_type": "display_data"
    },
    {
     "data": {
      "text/plain": [
       "[{'type': 'msg', 'text': 'Msg 01'},\n",
       " {'type': 'msg', 'text': 'Msg 02'},\n",
       " {'type': 'msg', 'text': 'Msg 03'}]"
      ]
     },
     "metadata": {},
     "output_type": "display_data"
    }
   ],
   "source": [
    "from NELL.logger.Logger import Logger\n",
    "\n",
    "def my_event_listener(event, events):\n",
    "    display(event)\n",
    "    display(events)\n",
    "\n",
    "Logger.reset_listeners()\n",
    "\n",
    "Logger.log_event({'type':'msg', 'text':'Msg 01'}, True)\n",
    "Logger.log_event({'type':'msg', 'text':'Msg 01'}) # must avoid duplicate event logs\n",
    "Logger.log_event({'type':'msg', 'text':'Msg 02'})\n",
    "\n",
    "Logger.add_event_logger_listener(my_event_listener)\n",
    "Logger.log_event({'type':'msg', 'text':'Msg 03'})\n",
    "Logger.reset_listeners()"
   ]
  },
  {
   "cell_type": "markdown",
   "metadata": {},
   "source": [
    "## Lets Do It!"
   ]
  },
  {
   "cell_type": "code",
   "execution_count": null,
   "metadata": {},
   "outputs": [
    {
     "data": {
      "application/vnd.jupyter.widget-view+json": {
       "model_id": "d926acd6f4b14d04946aa0e04c560e56",
       "version_major": 2,
       "version_minor": 0
      },
      "text/plain": [
       "HBox(children=(VBox(children=(Button(description='+', layout=Layout(height='30px', width='30px'), style=Button…"
      ]
     },
     "metadata": {},
     "output_type": "display_data"
    },
    {
     "name": "stdout",
     "output_type": "stream",
     "text": [
      "[HTTP LOGGER] {'event': 'click', 'tagName': 'input', 'alias': 'txt_email'}\n"
     ]
    },
    {
     "data": {
      "text/plain": [
       "{'event': 'click',\n",
       " 'tagName': 'input',\n",
       " 'alias': 'txt_email',\n",
       " 'xpath': '//input[@id=\"email\"]'}"
      ]
     },
     "metadata": {},
     "output_type": "display_data"
    },
    {
     "data": {
      "text/plain": [
       "[{'info': 'selenium framework'},\n",
       " {'info': 'page loaded', 'url': 'https://life.stg.wellzesta.com/login'},\n",
       " {'event': 'click',\n",
       "  'tagName': 'input',\n",
       "  'alias': 'txt_email',\n",
       "  'xpath': '//input[@id=\"email\"]'}]"
      ]
     },
     "metadata": {},
     "output_type": "display_data"
    },
    {
     "name": "stdout",
     "output_type": "stream",
     "text": [
      "[{'info': 'selenium framework'}, {'info': 'page loaded', 'url': 'https://life.stg.wellzesta.com/login'}, {'event': 'click', 'tagName': 'input', 'alias': 'txt_email', 'xpath': '//input[@id=\"email\"]'}]\n",
      "[HTTP LOGGER] {'event': 'click', 'tagName': 'input', 'alias': 'txt_email'}\n",
      "[HTTP LOGGER] {'event': 'click', 'tagName': 'input', 'alias': 'txt_email'}\n",
      "[HTTP LOGGER] {'event': 'click', 'tagName': 'input', 'alias': 'txt_email'}\n",
      "[HTTP LOGGER] {'event': 'click', 'tagName': 'input', 'alias': 'txt_email'}\n",
      "[HTTP LOGGER] {'event': 'click', 'tagName': 'input', 'alias': 'txt_email'}\n"
     ]
    },
    {
     "name": "stderr",
     "output_type": "stream",
     "text": [
      "127.0.0.1 - - [04/Feb/2024 02:23:19] \"POST / HTTP/1.1\" 200 -\n",
      "127.0.0.1 - - [04/Feb/2024 02:23:19] \"OPTIONS / HTTP/1.1\" 200 -\n",
      "127.0.0.1 - - [04/Feb/2024 02:23:19] \"OPTIONS / HTTP/1.1\" 200 -\n",
      "127.0.0.1 - - [04/Feb/2024 02:23:19] \"OPTIONS / HTTP/1.1\" 200 -\n",
      "127.0.0.1 - - [04/Feb/2024 02:23:19] \"POST / HTTP/1.1\" 200 -\n",
      "127.0.0.1 - - [04/Feb/2024 02:23:19] \"POST / HTTP/1.1\" 200 -\n"
     ]
    }
   ],
   "source": [
    "from IPython.display import clear_output\n",
    "from NELL.Playground import Playground\n",
    "\n",
    "clear_output()\n",
    "playground = Playground()"
   ]
  }
 ],
 "metadata": {
  "kernelspec": {
   "display_name": "Python 3",
   "language": "python",
   "name": "python3"
  },
  "language_info": {
   "codemirror_mode": {
    "name": "ipython",
    "version": 3
   },
   "file_extension": ".py",
   "mimetype": "text/x-python",
   "name": "python",
   "nbconvert_exporter": "python",
   "pygments_lexer": "ipython3",
   "version": "3.10.13"
  }
 },
 "nbformat": 4,
 "nbformat_minor": 2
}
